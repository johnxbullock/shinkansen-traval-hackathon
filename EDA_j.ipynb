{
 "cells": [
  {
   "cell_type": "code",
   "execution_count": 55,
   "id": "initial_id",
   "metadata": {
    "collapsed": true,
    "ExecuteTime": {
     "end_time": "2024-09-28T10:56:33.092358Z",
     "start_time": "2024-09-28T10:56:33.081364Z"
    }
   },
   "outputs": [],
   "source": [
    "# imports for basic data handling and numeric computations\n",
    "import numpy as np\n",
    "import pandas as pd\n",
    "\n",
    "# import the EDA helper functions\n",
    "from Utils.datascienceutils import DataScienceUtils as dsu\n",
    "\n",
    "import seaborn as sns\n",
    "import matplotlib.pyplot as plt\n",
    "\n",
    "# import one-hot encoder\n",
    "from sklearn.preprocessing import OneHotEncoder\n",
    "from sklearn.preprocessing import OrdinalEncoder\n",
    "\n",
    "# import libraries necessary for imputing\n",
    "from sklearn.impute import SimpleImputer\n",
    "from sklearn.impute import KNNImputer\n",
    "from sklearn.experimental import enable_iterative_imputer\n",
    "from sklearn.impute import IterativeImputer"
   ]
  },
  {
   "cell_type": "code",
   "outputs": [],
   "source": [
    "# read in the training set\n",
    "\n",
    "#travel train set\n",
    "df_travel_train: pd.DataFrame = pd.read_csv('Data/Traveldata_train.csv')\n",
    "\n",
    "#survey train set\n",
    "df_survey_train: pd.DataFrame = pd.read_csv('Data/Surveydata_train.csv')\n",
    "\n",
    "#read in the test set\n",
    "\n",
    "#travel test set\n",
    "df_travel_test: pd.DataFrame = pd.read_csv('Data/Traveldata_test.csv')\n",
    "\n",
    "#survery test set\n",
    "df_survey_test: pd.DataFrame = pd.read_csv('Data/Surveydata_test.csv')"
   ],
   "metadata": {
    "collapsed": false,
    "ExecuteTime": {
     "end_time": "2024-09-28T10:56:35.207934Z",
     "start_time": "2024-09-28T10:56:34.302345Z"
    }
   },
   "id": "76f70d6801156ccd",
   "execution_count": 56
  },
  {
   "cell_type": "markdown",
   "source": [
    "# Data Inspection"
   ],
   "metadata": {
    "collapsed": false
   },
   "id": "b32b498404f61775"
  },
  {
   "cell_type": "code",
   "outputs": [
    {
     "name": "stdout",
     "output_type": "stream",
     "text": [
      "<class 'pandas.core.frame.DataFrame'>\n",
      "RangeIndex: 94379 entries, 0 to 94378\n",
      "Data columns (total 9 columns):\n",
      " #   Column                   Non-Null Count  Dtype  \n",
      "---  ------                   --------------  -----  \n",
      " 0   ID                       94379 non-null  int64  \n",
      " 1   Gender                   94302 non-null  object \n",
      " 2   Customer_Type            85428 non-null  object \n",
      " 3   Age                      94346 non-null  float64\n",
      " 4   Type_Travel              85153 non-null  object \n",
      " 5   Travel_Class             94379 non-null  object \n",
      " 6   Travel_Distance          94379 non-null  int64  \n",
      " 7   Departure_Delay_in_Mins  94322 non-null  float64\n",
      " 8   Arrival_Delay_in_Mins    94022 non-null  float64\n",
      "dtypes: float64(3), int64(2), object(4)\n",
      "memory usage: 6.5+ MB\n"
     ]
    }
   ],
   "source": [
    "# inspect the travel df\n",
    "df_travel_train.info()"
   ],
   "metadata": {
    "collapsed": false,
    "ExecuteTime": {
     "end_time": "2024-09-28T10:56:36.772944Z",
     "start_time": "2024-09-28T10:56:36.706981Z"
    }
   },
   "id": "72ad26412e977996",
   "execution_count": 57
  },
  {
   "cell_type": "code",
   "outputs": [],
   "source": [
    "#dsu.inspect_variable_values(df_travel_train)"
   ],
   "metadata": {
    "collapsed": false,
    "ExecuteTime": {
     "end_time": "2024-09-28T10:56:37.966450Z",
     "start_time": "2024-09-28T10:56:37.955458Z"
    }
   },
   "id": "bd21cf6098ba7c02",
   "execution_count": 58
  },
  {
   "cell_type": "code",
   "outputs": [
    {
     "name": "stdout",
     "output_type": "stream",
     "text": [
      "<class 'pandas.core.frame.DataFrame'>\n",
      "RangeIndex: 94379 entries, 0 to 94378\n",
      "Data columns (total 17 columns):\n",
      " #   Column                   Non-Null Count  Dtype \n",
      "---  ------                   --------------  ----- \n",
      " 0   ID                       94379 non-null  int64 \n",
      " 1   Overall_Experience       94379 non-null  int64 \n",
      " 2   Seat_Comfort             94318 non-null  object\n",
      " 3   Seat_Class               94379 non-null  object\n",
      " 4   Arrival_Time_Convenient  85449 non-null  object\n",
      " 5   Catering                 85638 non-null  object\n",
      " 6   Platform_Location        94349 non-null  object\n",
      " 7   Onboard_Wifi_Service     94349 non-null  object\n",
      " 8   Onboard_Entertainment    94361 non-null  object\n",
      " 9   Online_Support           94288 non-null  object\n",
      " 10  Ease_of_Online_Booking   94306 non-null  object\n",
      " 11  Onboard_Service          86778 non-null  object\n",
      " 12  Legroom                  94289 non-null  object\n",
      " 13  Baggage_Handling         94237 non-null  object\n",
      " 14  CheckIn_Service          94302 non-null  object\n",
      " 15  Cleanliness              94373 non-null  object\n",
      " 16  Online_Boarding          94373 non-null  object\n",
      "dtypes: int64(2), object(15)\n",
      "memory usage: 12.2+ MB\n"
     ]
    }
   ],
   "source": [
    "# inspect the survey data dataframe\n",
    "df_survey_train.info()"
   ],
   "metadata": {
    "collapsed": false,
    "ExecuteTime": {
     "end_time": "2024-09-28T10:56:38.851941Z",
     "start_time": "2024-09-28T10:56:38.775984Z"
    }
   },
   "id": "1ef8303bcb21dbf8",
   "execution_count": 59
  },
  {
   "cell_type": "code",
   "outputs": [],
   "source": [
    "# inspect the values of the variables in the survey data dataset\n",
    "#dsu.inspect_variable_values(df_survey_train)"
   ],
   "metadata": {
    "collapsed": false,
    "ExecuteTime": {
     "end_time": "2024-09-28T10:56:39.702107Z",
     "start_time": "2024-09-28T10:56:39.683117Z"
    }
   },
   "id": "2243df46f643b246",
   "execution_count": 60
  },
  {
   "cell_type": "markdown",
   "source": [
    "## Merging the Datasets"
   ],
   "metadata": {
    "collapsed": false
   },
   "id": "cf0da9281ad9e1b5"
  },
  {
   "cell_type": "code",
   "outputs": [],
   "source": [
    "# we need to merge the two datasets\n",
    "\n",
    "df_train: pd.DataFrame = pd.merge(df_travel_train, df_survey_train, how='inner', on=['ID'])\n",
    "\n",
    "df_assessment: pd.DataFrame = pd.merge(df_travel_test, df_survey_test, how='inner', on=['ID'])"
   ],
   "metadata": {
    "collapsed": false,
    "ExecuteTime": {
     "end_time": "2024-09-28T10:56:41.270749Z",
     "start_time": "2024-09-28T10:56:41.147818Z"
    }
   },
   "id": "43d7e5eb26f6a79d",
   "execution_count": 61
  },
  {
   "cell_type": "code",
   "outputs": [
    {
     "name": "stdout",
     "output_type": "stream",
     "text": [
      "<class 'pandas.core.frame.DataFrame'>\n",
      "RangeIndex: 94379 entries, 0 to 94378\n",
      "Data columns (total 25 columns):\n",
      " #   Column                   Non-Null Count  Dtype  \n",
      "---  ------                   --------------  -----  \n",
      " 0   ID                       94379 non-null  int64  \n",
      " 1   Gender                   94302 non-null  object \n",
      " 2   Customer_Type            85428 non-null  object \n",
      " 3   Age                      94346 non-null  float64\n",
      " 4   Type_Travel              85153 non-null  object \n",
      " 5   Travel_Class             94379 non-null  object \n",
      " 6   Travel_Distance          94379 non-null  int64  \n",
      " 7   Departure_Delay_in_Mins  94322 non-null  float64\n",
      " 8   Arrival_Delay_in_Mins    94022 non-null  float64\n",
      " 9   Overall_Experience       94379 non-null  int64  \n",
      " 10  Seat_Comfort             94318 non-null  object \n",
      " 11  Seat_Class               94379 non-null  object \n",
      " 12  Arrival_Time_Convenient  85449 non-null  object \n",
      " 13  Catering                 85638 non-null  object \n",
      " 14  Platform_Location        94349 non-null  object \n",
      " 15  Onboard_Wifi_Service     94349 non-null  object \n",
      " 16  Onboard_Entertainment    94361 non-null  object \n",
      " 17  Online_Support           94288 non-null  object \n",
      " 18  Ease_of_Online_Booking   94306 non-null  object \n",
      " 19  Onboard_Service          86778 non-null  object \n",
      " 20  Legroom                  94289 non-null  object \n",
      " 21  Baggage_Handling         94237 non-null  object \n",
      " 22  CheckIn_Service          94302 non-null  object \n",
      " 23  Cleanliness              94373 non-null  object \n",
      " 24  Online_Boarding          94373 non-null  object \n",
      "dtypes: float64(3), int64(3), object(19)\n",
      "memory usage: 18.0+ MB\n"
     ]
    }
   ],
   "source": [
    "# inspect the columns of the new dataframe\n",
    "df_train.info()"
   ],
   "metadata": {
    "collapsed": false,
    "ExecuteTime": {
     "end_time": "2024-09-28T10:56:42.096534Z",
     "start_time": "2024-09-28T10:56:42.020564Z"
    }
   },
   "id": "6e524bc7f91f3b87",
   "execution_count": 62
  },
  {
   "cell_type": "code",
   "outputs": [],
   "source": [
    "# inspect the variables of the merged dataframe\n",
    "\n",
    "#dsu.inspect_variable_values(df_train)"
   ],
   "metadata": {
    "collapsed": false,
    "ExecuteTime": {
     "end_time": "2024-09-28T10:56:43.013740Z",
     "start_time": "2024-09-28T10:56:42.995737Z"
    }
   },
   "id": "444ca8891dd7aafd",
   "execution_count": 63
  },
  {
   "cell_type": "code",
   "outputs": [],
   "source": [
    "# split variables by type for EDA\n",
    "numerical_vars, categorical_vars, binary_vars = dsu.get_vars_by_type(df_train)"
   ],
   "metadata": {
    "collapsed": false,
    "ExecuteTime": {
     "end_time": "2024-09-28T10:56:44.037949Z",
     "start_time": "2024-09-28T10:56:43.826930Z"
    }
   },
   "id": "26f50020b7c4b86f",
   "execution_count": 64
  },
  {
   "cell_type": "code",
   "outputs": [
    {
     "name": "stdout",
     "output_type": "stream",
     "text": [
      "['ID', 'Age', 'Travel_Distance', 'Departure_Delay_in_Mins', 'Arrival_Delay_in_Mins'] \n",
      " ['Seat_Comfort', 'Arrival_Time_Convenient', 'Catering', 'Platform_Location', 'Onboard_Wifi_Service', 'Onboard_Entertainment', 'Online_Support', 'Ease_of_Online_Booking', 'Onboard_Service', 'Legroom', 'Baggage_Handling', 'CheckIn_Service', 'Cleanliness', 'Online_Boarding'] \n",
      " ['Gender', 'Customer_Type', 'Type_Travel', 'Travel_Class', 'Overall_Experience', 'Seat_Class']\n"
     ]
    }
   ],
   "source": [
    "print(numerical_vars, '\\n', categorical_vars, '\\n', binary_vars)"
   ],
   "metadata": {
    "collapsed": false,
    "ExecuteTime": {
     "end_time": "2024-09-28T10:56:44.797237Z",
     "start_time": "2024-09-28T10:56:44.783253Z"
    }
   },
   "id": "7db5b4c3af625d10",
   "execution_count": 65
  },
  {
   "cell_type": "code",
   "outputs": [],
   "source": [
    "# store the name of the target for later use\n",
    "target = \"Overall_Experience\"\n",
    "#binary_vars.remove(target)"
   ],
   "metadata": {
    "collapsed": false,
    "ExecuteTime": {
     "end_time": "2024-09-28T10:56:45.700069Z",
     "start_time": "2024-09-28T10:56:45.691074Z"
    }
   },
   "id": "a0db85add33adc98",
   "execution_count": 66
  },
  {
   "cell_type": "markdown",
   "source": [
    "# EDA"
   ],
   "metadata": {
    "collapsed": false
   },
   "id": "51b04e8e47eb4a3e"
  },
  {
   "cell_type": "markdown",
   "source": [
    "## Univariate Analysis"
   ],
   "metadata": {
    "collapsed": false
   },
   "id": "e293f519f433cdfd"
  },
  {
   "cell_type": "markdown",
   "source": [
    "### Numerical Variables"
   ],
   "metadata": {
    "collapsed": false
   },
   "id": "49f0040c44f7b57c"
  },
  {
   "cell_type": "code",
   "outputs": [],
   "source": [
    "# analyze the numerical variables in the travel dataset\n",
    "#dsu.analyze_numerical_features(df_train, numerical_vars)"
   ],
   "metadata": {
    "collapsed": false,
    "ExecuteTime": {
     "end_time": "2024-09-28T10:56:48.775294Z",
     "start_time": "2024-09-28T10:56:48.759304Z"
    }
   },
   "id": "b51a974414ab812a",
   "execution_count": 67
  },
  {
   "cell_type": "code",
   "outputs": [],
   "source": [
    "# inspect the correlations in the data\n",
    "#df_train[numerical_vars].corr()"
   ],
   "metadata": {
    "collapsed": false,
    "ExecuteTime": {
     "end_time": "2024-09-28T10:56:50.114132Z",
     "start_time": "2024-09-28T10:56:50.100138Z"
    }
   },
   "id": "55b474cda3054eec",
   "execution_count": 68
  },
  {
   "cell_type": "markdown",
   "source": [
    "### Categorical Variables"
   ],
   "metadata": {
    "collapsed": false
   },
   "id": "8be0bbcbd31bbf0b"
  },
  {
   "cell_type": "code",
   "outputs": [],
   "source": [
    "# analyze the categorical variables of the travel dataset\n",
    "#dsu.analyze_categorical_features(df_train, categorical_vars)"
   ],
   "metadata": {
    "collapsed": false,
    "ExecuteTime": {
     "end_time": "2024-09-28T10:56:52.232242Z",
     "start_time": "2024-09-28T10:56:52.223247Z"
    }
   },
   "id": "b6e24f8e1691b914",
   "execution_count": 69
  },
  {
   "cell_type": "markdown",
   "source": [
    "### Binary Variables"
   ],
   "metadata": {
    "collapsed": false
   },
   "id": "6a3bedef95513051"
  },
  {
   "cell_type": "code",
   "outputs": [],
   "source": [
    "# analyze the binary variables\n",
    "#dsu.analyze_binary_features(df_train, binary_vars)"
   ],
   "metadata": {
    "collapsed": false,
    "ExecuteTime": {
     "end_time": "2024-09-28T10:56:54.135538Z",
     "start_time": "2024-09-28T10:56:54.122545Z"
    }
   },
   "id": "b897902c7af48c9",
   "execution_count": 70
  },
  {
   "cell_type": "markdown",
   "source": [
    "### Analysis\n",
    "\n",
    "**Gender**: The distribution of Males vs Females in the dataset is almost uniform.\n",
    "\n",
    "**Customer Type:** Most customers (~82%) are loyal customers, with 18% being non-loyal customers.\n",
    "\n",
    "**Type Travel:** Approximately 68% of customers are travelling for business purposes. The other 32% are travelling for personal reasons. \n",
    "\n",
    "**Travel Class:** The travel classes (economy and business) have very similar distributions. Slightly more individuals (52%) travel on economy flights, with the other 48% travelling on business.\n",
    "\n",
    "**Overall Experience.** Approximately 55% (45% dissatisfied) of customers are satisfied with their travel experience.\n",
    "\n",
    "**Seat Class:** The values in the Seat Class variable (Green Car, Ordinary) have almost identical distributions."
   ],
   "metadata": {
    "collapsed": false
   },
   "id": "b671ed16fc04b775"
  },
  {
   "cell_type": "markdown",
   "source": [
    "## Bivariate Analysis"
   ],
   "metadata": {
    "collapsed": false
   },
   "id": "f8ac41fb6042e177"
  },
  {
   "cell_type": "markdown",
   "source": [
    "### Numerical Variables"
   ],
   "metadata": {
    "collapsed": false
   },
   "id": "978ca3975021301a"
  },
  {
   "cell_type": "code",
   "outputs": [],
   "source": [
    "# bivariate analysis of numerical features\n",
    "#dsu.analyze_numerical_features(df_train, numerical_vars, bivariate=True, target=target)"
   ],
   "metadata": {
    "collapsed": false,
    "ExecuteTime": {
     "end_time": "2024-09-28T10:56:57.471253Z",
     "start_time": "2024-09-28T10:56:57.452262Z"
    }
   },
   "id": "a4939f883d923a6f",
   "execution_count": 71
  },
  {
   "cell_type": "markdown",
   "source": [
    "### Categorical Variables"
   ],
   "metadata": {
    "collapsed": false
   },
   "id": "4fc14e0f3c08eb5e"
  },
  {
   "cell_type": "code",
   "outputs": [],
   "source": [
    "#df_train[target] = df_train[target].astype(str)"
   ],
   "metadata": {
    "collapsed": false,
    "ExecuteTime": {
     "end_time": "2024-09-28T10:56:59.304003Z",
     "start_time": "2024-09-28T10:56:59.294994Z"
    }
   },
   "id": "21c756571fccd386",
   "execution_count": 72
  },
  {
   "cell_type": "code",
   "outputs": [],
   "source": [
    "# analyze the categorical vars\n",
    "#dsu.analyze_categorical_features(df_train, categorical_vars, bivariate=True, target=target)"
   ],
   "metadata": {
    "collapsed": false,
    "ExecuteTime": {
     "end_time": "2024-09-28T10:56:59.902457Z",
     "start_time": "2024-09-28T10:56:59.893463Z"
    }
   },
   "id": "4cb94787846fe5f5",
   "execution_count": 73
  },
  {
   "cell_type": "markdown",
   "source": [
    "### Analysis\n",
    "\n",
    "The categorical are all ordinal in nature. \n",
    "\n",
    "The ranking systems from extremely poor to excellent demonstrate that in most cases, poor ratings lead to dissatisfied consumers."
   ],
   "metadata": {
    "collapsed": false
   },
   "id": "771f055c9df65f9b"
  },
  {
   "cell_type": "markdown",
   "source": [
    "### Binary Variables"
   ],
   "metadata": {
    "collapsed": false
   },
   "id": "ea06f3968b1b9b68"
  },
  {
   "cell_type": "code",
   "outputs": [],
   "source": [
    "# analyze the binary features\n",
    "\n",
    "# remove the target from the list of variables\n",
    "binary_vars.remove(target)\n",
    "\n",
    "# inspect the distribution\n",
    "#dsu.analyze_categorical_features(df_train, binary_vars, bivariate=True, target=target)"
   ],
   "metadata": {
    "collapsed": false,
    "ExecuteTime": {
     "end_time": "2024-09-28T10:57:02.063653Z",
     "start_time": "2024-09-28T10:57:02.057656Z"
    }
   },
   "id": "f06d9e1bd8d0af05",
   "execution_count": 74
  },
  {
   "cell_type": "markdown",
   "source": [
    "### Analysis:\n",
    "\n",
    "Seat Class: The distribution of the values of the Seat Class variable are identical and therefore not relevant for the analysis. \n",
    "\n",
    "Travel Class: Clearly customers who travel in the business class show higher satisfaction rates, while consumers travelling economy are more likely to be dissatisfied.\n",
    "\n"
   ],
   "metadata": {
    "collapsed": false
   },
   "id": "2b4af8e15727041b"
  },
  {
   "cell_type": "markdown",
   "source": [
    "# Data Preprocessing:"
   ],
   "metadata": {
    "collapsed": false
   },
   "id": "1788ba261fdd8aaf"
  },
  {
   "cell_type": "markdown",
   "source": [
    "## Drop Irrelevant Columns"
   ],
   "metadata": {
    "collapsed": false
   },
   "id": "653178024fddbbc8"
  },
  {
   "cell_type": "code",
   "outputs": [],
   "source": [
    "# drop columns that have no value\n",
    "df_train.drop(columns=[\"ID\", \"Seat_Class\"], inplace=True)\n",
    "df_assessment.drop(columns=[\"ID\", \"Seat_Class\"], inplace=True)\n",
    "\n",
    "# and remove from the list\n",
    "numerical_vars.remove(\"ID\")\n",
    "binary_vars.remove(\"Seat_Class\")"
   ],
   "metadata": {
    "collapsed": false,
    "ExecuteTime": {
     "end_time": "2024-09-28T10:57:05.311701Z",
     "start_time": "2024-09-28T10:57:05.251739Z"
    }
   },
   "id": "887ea9685c8e2e22",
   "execution_count": 75
  },
  {
   "cell_type": "code",
   "outputs": [
    {
     "name": "stdout",
     "output_type": "stream",
     "text": [
      "<class 'pandas.core.frame.DataFrame'>\n",
      "RangeIndex: 94379 entries, 0 to 94378\n",
      "Data columns (total 23 columns):\n",
      " #   Column                   Non-Null Count  Dtype  \n",
      "---  ------                   --------------  -----  \n",
      " 0   Gender                   94302 non-null  object \n",
      " 1   Customer_Type            85428 non-null  object \n",
      " 2   Age                      94346 non-null  float64\n",
      " 3   Type_Travel              85153 non-null  object \n",
      " 4   Travel_Class             94379 non-null  object \n",
      " 5   Travel_Distance          94379 non-null  int64  \n",
      " 6   Departure_Delay_in_Mins  94322 non-null  float64\n",
      " 7   Arrival_Delay_in_Mins    94022 non-null  float64\n",
      " 8   Overall_Experience       94379 non-null  int64  \n",
      " 9   Seat_Comfort             94318 non-null  object \n",
      " 10  Arrival_Time_Convenient  85449 non-null  object \n",
      " 11  Catering                 85638 non-null  object \n",
      " 12  Platform_Location        94349 non-null  object \n",
      " 13  Onboard_Wifi_Service     94349 non-null  object \n",
      " 14  Onboard_Entertainment    94361 non-null  object \n",
      " 15  Online_Support           94288 non-null  object \n",
      " 16  Ease_of_Online_Booking   94306 non-null  object \n",
      " 17  Onboard_Service          86778 non-null  object \n",
      " 18  Legroom                  94289 non-null  object \n",
      " 19  Baggage_Handling         94237 non-null  object \n",
      " 20  CheckIn_Service          94302 non-null  object \n",
      " 21  Cleanliness              94373 non-null  object \n",
      " 22  Online_Boarding          94373 non-null  object \n",
      "dtypes: float64(3), int64(2), object(18)\n",
      "memory usage: 16.6+ MB\n"
     ]
    }
   ],
   "source": [
    "df_train.info()"
   ],
   "metadata": {
    "collapsed": false,
    "ExecuteTime": {
     "end_time": "2024-09-28T10:57:06.695959Z",
     "start_time": "2024-09-28T10:57:06.618006Z"
    }
   },
   "id": "d8be259071f585e5",
   "execution_count": 76
  },
  {
   "cell_type": "markdown",
   "source": [
    "## Impute Missing Data"
   ],
   "metadata": {
    "collapsed": false
   },
   "id": "98679ecc9c3e6a2f"
  },
  {
   "cell_type": "code",
   "outputs": [
    {
     "data": {
      "text/plain": "Gender                       77\nCustomer_Type              8951\nAge                          33\nType_Travel                9226\nTravel_Class                  0\nTravel_Distance               0\nDeparture_Delay_in_Mins      57\nArrival_Delay_in_Mins       357\nOverall_Experience            0\nSeat_Comfort                 61\nArrival_Time_Convenient    8930\nCatering                   8741\nPlatform_Location            30\nOnboard_Wifi_Service         30\nOnboard_Entertainment        18\nOnline_Support               91\nEase_of_Online_Booking       73\nOnboard_Service            7601\nLegroom                      90\nBaggage_Handling            142\nCheckIn_Service              77\nCleanliness                   6\nOnline_Boarding               6\ndtype: int64"
     },
     "execution_count": 77,
     "metadata": {},
     "output_type": "execute_result"
    }
   ],
   "source": [
    "# columns with missing data\n",
    "df_train.isna().sum()"
   ],
   "metadata": {
    "collapsed": false,
    "ExecuteTime": {
     "end_time": "2024-09-28T10:57:13.171325Z",
     "start_time": "2024-09-28T10:57:13.092328Z"
    }
   },
   "id": "b36405839d820b9f",
   "execution_count": 77
  },
  {
   "cell_type": "markdown",
   "source": [
    "### Imputation of numerical variables"
   ],
   "metadata": {
    "collapsed": false
   },
   "id": "c5d29f7532527cc6"
  },
  {
   "cell_type": "code",
   "outputs": [],
   "source": [
    "# initialize the IterativeImputer instance\n",
    "numeric_imputer: IterativeImputer = IterativeImputer(random_state=1)\n",
    "\n",
    "# fit the test data to the imputer\n",
    "numeric_imputer.fit(df_train[numerical_vars])\n",
    "\n",
    "# transform the test data\n",
    "df_train[numerical_vars] = numeric_imputer.transform(df_train[numerical_vars])\n",
    "\n",
    "# impute values of dt_assessment also\n",
    "df_assessment[numerical_vars] = numeric_imputer.transform(df_assessment[numerical_vars])"
   ],
   "metadata": {
    "collapsed": false,
    "ExecuteTime": {
     "end_time": "2024-09-28T10:57:16.497355Z",
     "start_time": "2024-09-28T10:57:16.142577Z"
    }
   },
   "id": "313239be5d420103",
   "execution_count": 78
  },
  {
   "cell_type": "code",
   "outputs": [
    {
     "data": {
      "text/plain": "Age                        0\nTravel_Distance            0\nDeparture_Delay_in_Mins    0\nArrival_Delay_in_Mins      0\ndtype: int64"
     },
     "execution_count": 79,
     "metadata": {},
     "output_type": "execute_result"
    }
   ],
   "source": [
    "# test that there are no more nulls\n",
    "df_train[numerical_vars].isna().sum()"
   ],
   "metadata": {
    "collapsed": false,
    "ExecuteTime": {
     "end_time": "2024-09-28T10:57:17.610227Z",
     "start_time": "2024-09-28T10:57:17.591245Z"
    }
   },
   "id": "6ea83fba6e449f91",
   "execution_count": 79
  },
  {
   "cell_type": "code",
   "outputs": [],
   "source": [
    "# inspect the distribution of the data for significant changes\n",
    "#dsu.analyze_numerical_features(df_train, numerical_vars)"
   ],
   "metadata": {
    "collapsed": false,
    "ExecuteTime": {
     "end_time": "2024-09-28T10:57:38.851322Z",
     "start_time": "2024-09-28T10:57:38.843328Z"
    }
   },
   "id": "f2eae3a5d251afa2",
   "execution_count": 81
  },
  {
   "cell_type": "markdown",
   "source": [
    "## Encoding Categorical and Binary Variables"
   ],
   "metadata": {
    "collapsed": false
   },
   "id": "87545e17b2867194"
  },
  {
   "cell_type": "markdown",
   "source": [
    "### Encoding the categorical variables"
   ],
   "metadata": {
    "collapsed": false
   },
   "id": "151677a76abbfa4c"
  },
  {
   "cell_type": "markdown",
   "source": [
    "We cant impute missing values until the categorical variables have been encoded."
   ],
   "metadata": {
    "collapsed": false
   },
   "id": "409d36bcf2668d5f"
  },
  {
   "cell_type": "code",
   "outputs": [],
   "source": [
    "# initialize the mapping\n",
    "# encode the categorical columns\n",
    "\n",
    "loc = 'Platform_Location'\n",
    "\n",
    "mapping_dict_loc = {'Very Convenient': int(6), 'Needs Improvement': int(3), 'Manageable': int(4), 'Inconvenient': int(2),\n",
    " 'Convenient': int(5), 'Very Inconvenient': int(1)}\n",
    "\n",
    "categorical_vars.remove(loc)\n",
    "\n",
    "#dictionary to map the ordinal categories of the categorical variables\n",
    "mapping_dict = {'Needs Improvement': int(2),  'Poor': int(1),  'Excellent': int(5), 'Acceptable': int(3), 'Good': int(4)}\n",
    "\n",
    "# map each col in the categorical vars\n",
    "for col in categorical_vars:\n",
    "    df_train[col] = df_train[col].map(mapping_dict)\n",
    "    df_assessment[col] = df_assessment[col].map(mapping_dict)\n",
    "\n",
    "# mapp the Platform_Location \n",
    "df_train[loc] = df_train[loc].map(mapping_dict_loc)\n",
    "df_assessment[loc] = df_assessment[loc].map(mapping_dict_loc)"
   ],
   "metadata": {
    "collapsed": false,
    "ExecuteTime": {
     "end_time": "2024-09-28T10:57:45.831630Z",
     "start_time": "2024-09-28T10:57:45.644564Z"
    }
   },
   "id": "de9766e7bf32d26a",
   "execution_count": 82
  },
  {
   "cell_type": "code",
   "outputs": [],
   "source": [
    "# inspect the values of the encoded columns\n",
    "#dsu.inspect_variable_values(df_train[categorical_vars])"
   ],
   "metadata": {
    "collapsed": false,
    "ExecuteTime": {
     "end_time": "2024-09-28T10:57:51.022848Z",
     "start_time": "2024-09-28T10:57:51.011863Z"
    }
   },
   "id": "88b120853122c2c",
   "execution_count": 83
  },
  {
   "cell_type": "code",
   "outputs": [],
   "source": [
    "# check the distribution of the data after imputing\n",
    "\n",
    "#dsu.analyze_categorical_features(df_train, categorical_vars)"
   ],
   "metadata": {
    "collapsed": false,
    "ExecuteTime": {
     "end_time": "2024-09-28T10:57:55.007516Z",
     "start_time": "2024-09-28T10:57:54.992522Z"
    }
   },
   "id": "3f0990f99d22c041",
   "execution_count": 84
  },
  {
   "cell_type": "markdown",
   "source": [
    "### Encoding Binary Variables"
   ],
   "metadata": {
    "collapsed": false
   },
   "id": "fd83a7a848eefd7f"
  },
  {
   "cell_type": "code",
   "outputs": [],
   "source": [
    "\n",
    "\n",
    "# initialize the one-hot encoder\n",
    "binary_encoder = OrdinalEncoder(handle_unknown='use_encoded_value', unknown_value=-1)\n",
    "\n",
    "# mask to get nan values back to nan after encoding\n",
    "nan_mask = df_train[binary_vars].isna()\n",
    "nan_mask_assessment = df_assessment[binary_vars].isna()\n",
    "\n",
    "# fit to the encoder\n",
    "binary_encoder.fit(df_train[binary_vars])\n",
    "\n",
    "# transform values to 0s and 1s\n",
    "df_train[binary_vars] = binary_encoder.transform(df_train[binary_vars])\n",
    "\n",
    "df_assessment[binary_vars] = binary_encoder.transform(df_assessment[binary_vars])\n",
    "\n",
    "# reassign binary vars\n",
    "df_train[nan_mask] = np.nan\n",
    "df_assessment[nan_mask_assessment] = np.nan"
   ],
   "metadata": {
    "collapsed": false,
    "ExecuteTime": {
     "end_time": "2024-09-28T10:57:58.485300Z",
     "start_time": "2024-09-28T10:57:58.090372Z"
    }
   },
   "id": "d7cf6867a59803ce",
   "execution_count": 85
  },
  {
   "cell_type": "markdown",
   "source": [
    "## Impute Missing Data for binary and Categorical Columns"
   ],
   "metadata": {
    "collapsed": false
   },
   "id": "cb4100b8049014f3"
  },
  {
   "cell_type": "code",
   "outputs": [],
   "source": [
    "# encode the categorical columns\n",
    "\n",
    "# list of columns to impute\n",
    "cols_to_impute: list = categorical_vars + binary_vars\n",
    "cols_to_impute.append(loc)"
   ],
   "metadata": {
    "collapsed": false,
    "ExecuteTime": {
     "end_time": "2024-09-28T10:58:02.952060Z",
     "start_time": "2024-09-28T10:58:02.938068Z"
    }
   },
   "id": "e259f7e4a98241d2",
   "execution_count": 86
  },
  {
   "cell_type": "code",
   "outputs": [],
   "source": [
    "# initialize the KNN imputer\n",
    "cat_imputer: KNNImputer = KNNImputer(n_neighbors=10, weights='distance')\n",
    "\n",
    "# impute missing values\n",
    "cat_imputer.fit(df_train[cols_to_impute])\n",
    "\n",
    "# impute data for test set\n",
    "df_train[cols_to_impute]: np.ndarray = cat_imputer.transform(df_train[cols_to_impute])\n",
    "\n",
    "df_assessment[cols_to_impute] = cat_imputer.transform(df_assessment[cols_to_impute])"
   ],
   "metadata": {
    "collapsed": false,
    "ExecuteTime": {
     "end_time": "2024-09-28T11:06:25.489620Z",
     "start_time": "2024-09-28T10:58:03.841656Z"
    }
   },
   "id": "ae9cc948af08f95e",
   "execution_count": 87
  },
  {
   "cell_type": "code",
   "outputs": [
    {
     "data": {
      "text/plain": "Gender                     False\nCustomer_Type              False\nAge                        False\nType_Travel                False\nTravel_Class               False\nTravel_Distance            False\nDeparture_Delay_in_Mins    False\nArrival_Delay_in_Mins      False\nOverall_Experience         False\nSeat_Comfort               False\nArrival_Time_Convenient    False\nCatering                   False\nPlatform_Location          False\nOnboard_Wifi_Service       False\nOnboard_Entertainment      False\nOnline_Support             False\nEase_of_Online_Booking     False\nOnboard_Service            False\nLegroom                    False\nBaggage_Handling           False\nCheckIn_Service            False\nCleanliness                False\nOnline_Boarding            False\ndtype: bool"
     },
     "execution_count": 88,
     "metadata": {},
     "output_type": "execute_result"
    }
   ],
   "source": [
    "df_train.isna().any()"
   ],
   "metadata": {
    "collapsed": false,
    "ExecuteTime": {
     "end_time": "2024-09-28T11:13:04.833087Z",
     "start_time": "2024-09-28T11:13:04.769125Z"
    }
   },
   "id": "6fcffb1c391d79b8",
   "execution_count": 88
  },
  {
   "cell_type": "code",
   "outputs": [
    {
     "data": {
      "text/plain": "Gender                     False\nCustomer_Type              False\nAge                        False\nType_Travel                False\nTravel_Class               False\nTravel_Distance            False\nDeparture_Delay_in_Mins    False\nArrival_Delay_in_Mins      False\nSeat_Comfort               False\nArrival_Time_Convenient    False\nCatering                   False\nPlatform_Location          False\nOnboard_Wifi_Service       False\nOnboard_Entertainment      False\nOnline_Support             False\nEase_of_Online_Booking     False\nOnboard_Service            False\nLegroom                    False\nBaggage_Handling           False\nCheckIn_Service            False\nCleanliness                False\nOnline_Boarding            False\ndtype: bool"
     },
     "execution_count": 89,
     "metadata": {},
     "output_type": "execute_result"
    }
   ],
   "source": [
    "# inspect the assessment set\n",
    "df_assessment.isna().any()"
   ],
   "metadata": {
    "collapsed": false,
    "ExecuteTime": {
     "end_time": "2024-09-28T11:13:14.578273Z",
     "start_time": "2024-09-28T11:13:14.553289Z"
    }
   },
   "id": "3ba964845a2c3bbe",
   "execution_count": 89
  },
  {
   "cell_type": "code",
   "outputs": [],
   "source": [
    "# function to cast values back to integers for categorical types\n",
    "def to_int(x: float):\n",
    "    if x < 1.5:\n",
    "        return 1\n",
    "    elif x < 2.5:\n",
    "        return 2\n",
    "    elif x < 3.5:\n",
    "        return 3\n",
    "    elif x < 4.5:\n",
    "        return 4\n",
    "    elif x < 5.5:\n",
    "        return  5\n",
    "    elif x < 6.5:\n",
    "        return 6"
   ],
   "metadata": {
    "collapsed": false,
    "ExecuteTime": {
     "end_time": "2024-09-28T11:14:53.509156Z",
     "start_time": "2024-09-28T11:14:53.499147Z"
    }
   },
   "id": "45e653a03404eed6",
   "execution_count": 90
  },
  {
   "cell_type": "code",
   "outputs": [],
   "source": [
    "for col in categorical_vars:\n",
    "    df_train[col] = df_train[col].apply(to_int)\n",
    "    df_assessment[col] = df_assessment[col].apply(to_int)"
   ],
   "metadata": {
    "collapsed": false,
    "ExecuteTime": {
     "end_time": "2024-09-28T11:14:55.789056Z",
     "start_time": "2024-09-28T11:14:54.771357Z"
    }
   },
   "id": "d5fda4a677360c9",
   "execution_count": 91
  },
  {
   "cell_type": "code",
   "outputs": [
    {
     "data": {
      "text/plain": "   Gender  Customer_Type   Age  Type_Travel  Travel_Class  Travel_Distance  \\\n0     0.0            1.0  52.0          0.0           0.0            272.0   \n1     1.0            1.0  48.0          1.0           1.0           2200.0   \n2     0.0            1.0  43.0          0.0           0.0           1061.0   \n3     0.0            1.0  44.0          0.0           0.0            780.0   \n4     0.0            1.0  50.0          0.0           0.0           1981.0   \n\n   Departure_Delay_in_Mins  Arrival_Delay_in_Mins  Overall_Experience  \\\n0                      0.0                    5.0                   0   \n1                      9.0                    0.0                   0   \n2                     77.0                  119.0                   1   \n3                     13.0                   18.0                   0   \n4                      0.0                    0.0                   1   \n\n   Seat_Comfort  ...  Onboard_Wifi_Service  Onboard_Entertainment  \\\n0             2  ...                     4                      2   \n1             1  ...                     4                      1   \n2             2  ...                     2                      4   \n3             3  ...                     3                      2   \n4             3  ...                     2                      4   \n\n   Online_Support  Ease_of_Online_Booking  Onboard_Service  Legroom  \\\n0               3                       2                2        3   \n1               4                       4                5        2   \n2               5                       5                5        5   \n3               3                       3                3        3   \n4               5                       4                4        4   \n\n   Baggage_Handling  CheckIn_Service  Cleanliness  Online_Boarding  \n0                 2                4            2                1  \n1                 1                2            4                4  \n2                 5                4            5                5  \n3                 3                4            3                3  \n4                 4                4            4                4  \n\n[5 rows x 23 columns]",
      "text/html": "<div>\n<style scoped>\n    .dataframe tbody tr th:only-of-type {\n        vertical-align: middle;\n    }\n\n    .dataframe tbody tr th {\n        vertical-align: top;\n    }\n\n    .dataframe thead th {\n        text-align: right;\n    }\n</style>\n<table border=\"1\" class=\"dataframe\">\n  <thead>\n    <tr style=\"text-align: right;\">\n      <th></th>\n      <th>Gender</th>\n      <th>Customer_Type</th>\n      <th>Age</th>\n      <th>Type_Travel</th>\n      <th>Travel_Class</th>\n      <th>Travel_Distance</th>\n      <th>Departure_Delay_in_Mins</th>\n      <th>Arrival_Delay_in_Mins</th>\n      <th>Overall_Experience</th>\n      <th>Seat_Comfort</th>\n      <th>...</th>\n      <th>Onboard_Wifi_Service</th>\n      <th>Onboard_Entertainment</th>\n      <th>Online_Support</th>\n      <th>Ease_of_Online_Booking</th>\n      <th>Onboard_Service</th>\n      <th>Legroom</th>\n      <th>Baggage_Handling</th>\n      <th>CheckIn_Service</th>\n      <th>Cleanliness</th>\n      <th>Online_Boarding</th>\n    </tr>\n  </thead>\n  <tbody>\n    <tr>\n      <th>0</th>\n      <td>0.0</td>\n      <td>1.0</td>\n      <td>52.0</td>\n      <td>0.0</td>\n      <td>0.0</td>\n      <td>272.0</td>\n      <td>0.0</td>\n      <td>5.0</td>\n      <td>0</td>\n      <td>2</td>\n      <td>...</td>\n      <td>4</td>\n      <td>2</td>\n      <td>3</td>\n      <td>2</td>\n      <td>2</td>\n      <td>3</td>\n      <td>2</td>\n      <td>4</td>\n      <td>2</td>\n      <td>1</td>\n    </tr>\n    <tr>\n      <th>1</th>\n      <td>1.0</td>\n      <td>1.0</td>\n      <td>48.0</td>\n      <td>1.0</td>\n      <td>1.0</td>\n      <td>2200.0</td>\n      <td>9.0</td>\n      <td>0.0</td>\n      <td>0</td>\n      <td>1</td>\n      <td>...</td>\n      <td>4</td>\n      <td>1</td>\n      <td>4</td>\n      <td>4</td>\n      <td>5</td>\n      <td>2</td>\n      <td>1</td>\n      <td>2</td>\n      <td>4</td>\n      <td>4</td>\n    </tr>\n    <tr>\n      <th>2</th>\n      <td>0.0</td>\n      <td>1.0</td>\n      <td>43.0</td>\n      <td>0.0</td>\n      <td>0.0</td>\n      <td>1061.0</td>\n      <td>77.0</td>\n      <td>119.0</td>\n      <td>1</td>\n      <td>2</td>\n      <td>...</td>\n      <td>2</td>\n      <td>4</td>\n      <td>5</td>\n      <td>5</td>\n      <td>5</td>\n      <td>5</td>\n      <td>5</td>\n      <td>4</td>\n      <td>5</td>\n      <td>5</td>\n    </tr>\n    <tr>\n      <th>3</th>\n      <td>0.0</td>\n      <td>1.0</td>\n      <td>44.0</td>\n      <td>0.0</td>\n      <td>0.0</td>\n      <td>780.0</td>\n      <td>13.0</td>\n      <td>18.0</td>\n      <td>0</td>\n      <td>3</td>\n      <td>...</td>\n      <td>3</td>\n      <td>2</td>\n      <td>3</td>\n      <td>3</td>\n      <td>3</td>\n      <td>3</td>\n      <td>3</td>\n      <td>4</td>\n      <td>3</td>\n      <td>3</td>\n    </tr>\n    <tr>\n      <th>4</th>\n      <td>0.0</td>\n      <td>1.0</td>\n      <td>50.0</td>\n      <td>0.0</td>\n      <td>0.0</td>\n      <td>1981.0</td>\n      <td>0.0</td>\n      <td>0.0</td>\n      <td>1</td>\n      <td>3</td>\n      <td>...</td>\n      <td>2</td>\n      <td>4</td>\n      <td>5</td>\n      <td>4</td>\n      <td>4</td>\n      <td>4</td>\n      <td>4</td>\n      <td>4</td>\n      <td>4</td>\n      <td>4</td>\n    </tr>\n  </tbody>\n</table>\n<p>5 rows × 23 columns</p>\n</div>"
     },
     "execution_count": 92,
     "metadata": {},
     "output_type": "execute_result"
    }
   ],
   "source": [
    "df_train.head()"
   ],
   "metadata": {
    "collapsed": false,
    "ExecuteTime": {
     "end_time": "2024-09-28T11:14:56.692111Z",
     "start_time": "2024-09-28T11:14:56.659131Z"
    }
   },
   "id": "2cff39abd1ce9f08",
   "execution_count": 92
  },
  {
   "cell_type": "code",
   "outputs": [],
   "source": [
    "# cast floats to integers for the platform variable\n",
    "df_train['Platform_Location'] = df_train['Platform_Location'].apply(to_int)\n",
    "\n",
    "# do the same for the assessment set\n",
    "df_assessment['Platform_Location'] = df_assessment['Platform_Location'].apply(to_int)"
   ],
   "metadata": {
    "collapsed": false,
    "ExecuteTime": {
     "end_time": "2024-09-28T11:14:58.022929Z",
     "start_time": "2024-09-28T11:14:57.944976Z"
    }
   },
   "id": "8bf21fce0f8093e8",
   "execution_count": 93
  },
  {
   "cell_type": "code",
   "outputs": [],
   "source": [
    "def to_binary(x):\n",
    "    if x < 0.5:\n",
    "        return 0\n",
    "    else:\n",
    "        return 1"
   ],
   "metadata": {
    "collapsed": false,
    "ExecuteTime": {
     "end_time": "2024-09-28T11:14:58.907216Z",
     "start_time": "2024-09-28T11:14:58.891226Z"
    }
   },
   "id": "39e1579acab1a6ea",
   "execution_count": 94
  },
  {
   "cell_type": "code",
   "outputs": [],
   "source": [
    "for col in binary_vars:\n",
    "    df_train[col] = df_train[col].apply(to_binary)\n",
    "    df_assessment[col] = df_assessment[col].apply(to_binary)"
   ],
   "metadata": {
    "collapsed": false,
    "ExecuteTime": {
     "end_time": "2024-09-28T11:14:59.841195Z",
     "start_time": "2024-09-28T11:14:59.633194Z"
    }
   },
   "id": "455e4e827a5c3c52",
   "execution_count": 95
  },
  {
   "cell_type": "code",
   "outputs": [],
   "source": [
    "df_train.to_csv('ProcessedData/train_data_unscaled.csv', index=False)\n",
    "df_assessment.to_csv('ProcessedData/test_data_unscaled.csv', index=False)"
   ],
   "metadata": {
    "collapsed": false,
    "ExecuteTime": {
     "end_time": "2024-09-28T11:15:03.416297Z",
     "start_time": "2024-09-28T11:15:02.278795Z"
    }
   },
   "id": "e8960c3010865712",
   "execution_count": 96
  },
  {
   "cell_type": "markdown",
   "source": [
    "# Data Preparation"
   ],
   "metadata": {
    "collapsed": false
   },
   "id": "5e96e11614d8047c"
  },
  {
   "cell_type": "markdown",
   "source": [
    "Prepare the data for creation of ML models by splitting into target and features, as well as scaling the data using the standard scaler."
   ],
   "metadata": {
    "collapsed": false
   },
   "id": "5cb0d3ef677220b2"
  },
  {
   "cell_type": "code",
   "outputs": [],
   "source": [
    "#df_train = pd.read_csv(\"ProcessedData/train_data.csv\")\n",
    "#df_assessment = pd.read_csv(\"ProcessedData/test_data.csv\")"
   ],
   "metadata": {
    "collapsed": false,
    "ExecuteTime": {
     "end_time": "2024-09-28T11:15:07.387250Z",
     "start_time": "2024-09-28T11:15:07.374259Z"
    }
   },
   "id": "c144799be9d7754f",
   "execution_count": 97
  },
  {
   "cell_type": "code",
   "outputs": [
    {
     "data": {
      "text/plain": "   Gender  Customer_Type   Age  Type_Travel  Travel_Class  Travel_Distance  \\\n0       0              1  52.0            0             0            272.0   \n1       1              1  48.0            1             1           2200.0   \n2       0              1  43.0            0             0           1061.0   \n3       0              1  44.0            0             0            780.0   \n4       0              1  50.0            0             0           1981.0   \n\n   Departure_Delay_in_Mins  Arrival_Delay_in_Mins  Overall_Experience  \\\n0                      0.0                    5.0                   0   \n1                      9.0                    0.0                   0   \n2                     77.0                  119.0                   1   \n3                     13.0                   18.0                   0   \n4                      0.0                    0.0                   1   \n\n   Seat_Comfort  ...  Onboard_Wifi_Service  Onboard_Entertainment  \\\n0             2  ...                     4                      2   \n1             1  ...                     4                      1   \n2             2  ...                     2                      4   \n3             3  ...                     3                      2   \n4             3  ...                     2                      4   \n\n   Online_Support  Ease_of_Online_Booking  Onboard_Service  Legroom  \\\n0               3                       2                2        3   \n1               4                       4                5        2   \n2               5                       5                5        5   \n3               3                       3                3        3   \n4               5                       4                4        4   \n\n   Baggage_Handling  CheckIn_Service  Cleanliness  Online_Boarding  \n0                 2                4            2                1  \n1                 1                2            4                4  \n2                 5                4            5                5  \n3                 3                4            3                3  \n4                 4                4            4                4  \n\n[5 rows x 23 columns]",
      "text/html": "<div>\n<style scoped>\n    .dataframe tbody tr th:only-of-type {\n        vertical-align: middle;\n    }\n\n    .dataframe tbody tr th {\n        vertical-align: top;\n    }\n\n    .dataframe thead th {\n        text-align: right;\n    }\n</style>\n<table border=\"1\" class=\"dataframe\">\n  <thead>\n    <tr style=\"text-align: right;\">\n      <th></th>\n      <th>Gender</th>\n      <th>Customer_Type</th>\n      <th>Age</th>\n      <th>Type_Travel</th>\n      <th>Travel_Class</th>\n      <th>Travel_Distance</th>\n      <th>Departure_Delay_in_Mins</th>\n      <th>Arrival_Delay_in_Mins</th>\n      <th>Overall_Experience</th>\n      <th>Seat_Comfort</th>\n      <th>...</th>\n      <th>Onboard_Wifi_Service</th>\n      <th>Onboard_Entertainment</th>\n      <th>Online_Support</th>\n      <th>Ease_of_Online_Booking</th>\n      <th>Onboard_Service</th>\n      <th>Legroom</th>\n      <th>Baggage_Handling</th>\n      <th>CheckIn_Service</th>\n      <th>Cleanliness</th>\n      <th>Online_Boarding</th>\n    </tr>\n  </thead>\n  <tbody>\n    <tr>\n      <th>0</th>\n      <td>0</td>\n      <td>1</td>\n      <td>52.0</td>\n      <td>0</td>\n      <td>0</td>\n      <td>272.0</td>\n      <td>0.0</td>\n      <td>5.0</td>\n      <td>0</td>\n      <td>2</td>\n      <td>...</td>\n      <td>4</td>\n      <td>2</td>\n      <td>3</td>\n      <td>2</td>\n      <td>2</td>\n      <td>3</td>\n      <td>2</td>\n      <td>4</td>\n      <td>2</td>\n      <td>1</td>\n    </tr>\n    <tr>\n      <th>1</th>\n      <td>1</td>\n      <td>1</td>\n      <td>48.0</td>\n      <td>1</td>\n      <td>1</td>\n      <td>2200.0</td>\n      <td>9.0</td>\n      <td>0.0</td>\n      <td>0</td>\n      <td>1</td>\n      <td>...</td>\n      <td>4</td>\n      <td>1</td>\n      <td>4</td>\n      <td>4</td>\n      <td>5</td>\n      <td>2</td>\n      <td>1</td>\n      <td>2</td>\n      <td>4</td>\n      <td>4</td>\n    </tr>\n    <tr>\n      <th>2</th>\n      <td>0</td>\n      <td>1</td>\n      <td>43.0</td>\n      <td>0</td>\n      <td>0</td>\n      <td>1061.0</td>\n      <td>77.0</td>\n      <td>119.0</td>\n      <td>1</td>\n      <td>2</td>\n      <td>...</td>\n      <td>2</td>\n      <td>4</td>\n      <td>5</td>\n      <td>5</td>\n      <td>5</td>\n      <td>5</td>\n      <td>5</td>\n      <td>4</td>\n      <td>5</td>\n      <td>5</td>\n    </tr>\n    <tr>\n      <th>3</th>\n      <td>0</td>\n      <td>1</td>\n      <td>44.0</td>\n      <td>0</td>\n      <td>0</td>\n      <td>780.0</td>\n      <td>13.0</td>\n      <td>18.0</td>\n      <td>0</td>\n      <td>3</td>\n      <td>...</td>\n      <td>3</td>\n      <td>2</td>\n      <td>3</td>\n      <td>3</td>\n      <td>3</td>\n      <td>3</td>\n      <td>3</td>\n      <td>4</td>\n      <td>3</td>\n      <td>3</td>\n    </tr>\n    <tr>\n      <th>4</th>\n      <td>0</td>\n      <td>1</td>\n      <td>50.0</td>\n      <td>0</td>\n      <td>0</td>\n      <td>1981.0</td>\n      <td>0.0</td>\n      <td>0.0</td>\n      <td>1</td>\n      <td>3</td>\n      <td>...</td>\n      <td>2</td>\n      <td>4</td>\n      <td>5</td>\n      <td>4</td>\n      <td>4</td>\n      <td>4</td>\n      <td>4</td>\n      <td>4</td>\n      <td>4</td>\n      <td>4</td>\n    </tr>\n  </tbody>\n</table>\n<p>5 rows × 23 columns</p>\n</div>"
     },
     "execution_count": 98,
     "metadata": {},
     "output_type": "execute_result"
    }
   ],
   "source": [
    "df_train.head()"
   ],
   "metadata": {
    "collapsed": false,
    "ExecuteTime": {
     "end_time": "2024-09-28T11:15:07.954914Z",
     "start_time": "2024-09-28T11:15:07.924933Z"
    }
   },
   "id": "9ec3c0d8469b271b",
   "execution_count": 98
  },
  {
   "cell_type": "code",
   "outputs": [],
   "source": [
    "# get a dataframe of only the target features\n",
    "Y: pd.Series = df_train[target]\n",
    "\n",
    "X: pd.DataFrame = df_train.drop(columns=target).copy()"
   ],
   "metadata": {
    "collapsed": false,
    "ExecuteTime": {
     "end_time": "2024-09-28T11:15:09.005344Z",
     "start_time": "2024-09-28T11:15:08.952360Z"
    }
   },
   "id": "6bfca1ce9ea6fdb1",
   "execution_count": 99
  },
  {
   "cell_type": "code",
   "outputs": [],
   "source": [
    "from sklearn.preprocessing import StandardScaler\n"
   ],
   "metadata": {
    "collapsed": false,
    "ExecuteTime": {
     "end_time": "2024-09-28T11:15:10.602810Z",
     "start_time": "2024-09-28T11:15:10.588819Z"
    }
   },
   "id": "a4f45d1433f2a7e3",
   "execution_count": 100
  },
  {
   "cell_type": "code",
   "outputs": [],
   "source": [
    "# initialize the standard scalar instance\n",
    "sc = StandardScaler()\n",
    "\n",
    "sc.fit(X)\n",
    "\n",
    "scaled_X_train = sc.transform(X)\n",
    "\n",
    "scaled_X_test = sc.transform(df_assessment)"
   ],
   "metadata": {
    "collapsed": false,
    "ExecuteTime": {
     "end_time": "2024-09-28T11:15:14.313388Z",
     "start_time": "2024-09-28T11:15:14.227453Z"
    }
   },
   "id": "75a24df39a22b1ab",
   "execution_count": 101
  },
  {
   "cell_type": "code",
   "outputs": [],
   "source": [
    "df_train_scaled: pd.DataFrame = pd.DataFrame(data=scaled_X_train, columns=X.columns)\n",
    "\n",
    "# get the target col back\n",
    "df_train_scaled[target] = Y\n",
    "\n",
    "X_test_scaled: pd.DataFrame = pd.DataFrame(data=scaled_X_test, columns=df_assessment.columns)"
   ],
   "metadata": {
    "collapsed": false,
    "ExecuteTime": {
     "end_time": "2024-09-28T11:15:18.532454Z",
     "start_time": "2024-09-28T11:15:18.520460Z"
    }
   },
   "id": "1fdfb3928cecb4a5",
   "execution_count": 102
  },
  {
   "cell_type": "code",
   "outputs": [],
   "source": [
    "df_train_scaled.to_csv(\"ProcessedData/train_scaled.csv\", index=False)\n",
    "X_test_scaled.to_csv('ProcessedData/X_test_scaled.csv', index=False)"
   ],
   "metadata": {
    "collapsed": false,
    "ExecuteTime": {
     "end_time": "2024-09-28T11:15:23.882367Z",
     "start_time": "2024-09-28T11:15:19.201633Z"
    }
   },
   "id": "5db2aab93c897046",
   "execution_count": 103
  }
 ],
 "metadata": {
  "kernelspec": {
   "display_name": "Python 3",
   "language": "python",
   "name": "python3"
  },
  "language_info": {
   "codemirror_mode": {
    "name": "ipython",
    "version": 2
   },
   "file_extension": ".py",
   "mimetype": "text/x-python",
   "name": "python",
   "nbconvert_exporter": "python",
   "pygments_lexer": "ipython2",
   "version": "2.7.6"
  }
 },
 "nbformat": 4,
 "nbformat_minor": 5
}
