{
 "cells": [
  {
   "cell_type": "code",
   "execution_count": 104,
   "id": "initial_id",
   "metadata": {
    "collapsed": true,
    "jupyter": {
     "outputs_hidden": true
    },
    "ExecuteTime": {
     "end_time": "2024-09-28T13:34:11.396472Z",
     "start_time": "2024-09-28T13:34:11.127361Z"
    }
   },
   "outputs": [],
   "source": [
    "# imports for basic data handling and numeric computations\n",
    "import numpy as np\n",
    "import pandas as pd\n",
    "\n",
    "# import the EDA helper functions\n",
    "from Utils.datascienceutils import DataScienceUtils as dsu\n",
    "\n",
    "import seaborn as sns\n",
    "import matplotlib.pyplot as plt\n",
    "\n",
    "# import one-hot encoder\n",
    "from sklearn.preprocessing import OneHotEncoder\n",
    "from sklearn.preprocessing import OrdinalEncoder\n",
    "\n",
    "# import libraries necessary for imputing\n",
    "from sklearn.impute import SimpleImputer\n",
    "from sklearn.impute import KNNImputer\n",
    "from sklearn.experimental import enable_iterative_imputer\n",
    "from sklearn.impute import IterativeImputer"
   ]
  },
  {
   "cell_type": "code",
   "execution_count": 105,
   "id": "76f70d6801156ccd",
   "metadata": {
    "collapsed": false,
    "ExecuteTime": {
     "end_time": "2024-09-28T13:34:13.566231Z",
     "start_time": "2024-09-28T13:34:12.466828Z"
    }
   },
   "outputs": [],
   "source": [
    "# read in the training set\n",
    "\n",
    "#travel train set\n",
    "df_travel_train: pd.DataFrame = pd.read_csv('Data/Traveldata_train.csv')\n",
    "\n",
    "#survey train set\n",
    "df_survey_train: pd.DataFrame = pd.read_csv('Data/Surveydata_train.csv')\n",
    "\n",
    "#read in the test set\n",
    "\n",
    "#travel test set\n",
    "df_travel_test: pd.DataFrame = pd.read_csv('Data/Traveldata_test.csv')\n",
    "\n",
    "#survery test set\n",
    "df_survey_test: pd.DataFrame = pd.read_csv('Data/Surveydata_test.csv')"
   ]
  },
  {
   "cell_type": "markdown",
   "id": "b32b498404f61775",
   "metadata": {
    "collapsed": false
   },
   "source": [
    "# Data Inspection"
   ]
  },
  {
   "cell_type": "code",
   "execution_count": 106,
   "id": "72ad26412e977996",
   "metadata": {
    "collapsed": false,
    "ExecuteTime": {
     "end_time": "2024-09-28T13:34:26.396126Z",
     "start_time": "2024-09-28T13:34:26.287186Z"
    }
   },
   "outputs": [
    {
     "name": "stdout",
     "output_type": "stream",
     "text": [
      "<class 'pandas.core.frame.DataFrame'>\n",
      "RangeIndex: 94379 entries, 0 to 94378\n",
      "Data columns (total 9 columns):\n",
      " #   Column                   Non-Null Count  Dtype  \n",
      "---  ------                   --------------  -----  \n",
      " 0   ID                       94379 non-null  int64  \n",
      " 1   Gender                   94302 non-null  object \n",
      " 2   Customer_Type            85428 non-null  object \n",
      " 3   Age                      94346 non-null  float64\n",
      " 4   Type_Travel              85153 non-null  object \n",
      " 5   Travel_Class             94379 non-null  object \n",
      " 6   Travel_Distance          94379 non-null  int64  \n",
      " 7   Departure_Delay_in_Mins  94322 non-null  float64\n",
      " 8   Arrival_Delay_in_Mins    94022 non-null  float64\n",
      "dtypes: float64(3), int64(2), object(4)\n",
      "memory usage: 6.5+ MB\n"
     ]
    }
   ],
   "source": [
    "# inspect the travel df\n",
    "df_travel_train.info()"
   ]
  },
  {
   "cell_type": "code",
   "execution_count": 107,
   "id": "bd21cf6098ba7c02",
   "metadata": {
    "collapsed": false,
    "ExecuteTime": {
     "end_time": "2024-09-28T13:34:26.933113Z",
     "start_time": "2024-09-28T13:34:26.912125Z"
    }
   },
   "outputs": [],
   "source": [
    "#dsu.inspect_variable_values(df_travel_train)"
   ]
  },
  {
   "cell_type": "code",
   "execution_count": 108,
   "id": "1ef8303bcb21dbf8",
   "metadata": {
    "collapsed": false,
    "ExecuteTime": {
     "end_time": "2024-09-28T13:34:27.566967Z",
     "start_time": "2024-09-28T13:34:27.492010Z"
    }
   },
   "outputs": [
    {
     "name": "stdout",
     "output_type": "stream",
     "text": [
      "<class 'pandas.core.frame.DataFrame'>\n",
      "RangeIndex: 94379 entries, 0 to 94378\n",
      "Data columns (total 17 columns):\n",
      " #   Column                   Non-Null Count  Dtype \n",
      "---  ------                   --------------  ----- \n",
      " 0   ID                       94379 non-null  int64 \n",
      " 1   Overall_Experience       94379 non-null  int64 \n",
      " 2   Seat_Comfort             94318 non-null  object\n",
      " 3   Seat_Class               94379 non-null  object\n",
      " 4   Arrival_Time_Convenient  85449 non-null  object\n",
      " 5   Catering                 85638 non-null  object\n",
      " 6   Platform_Location        94349 non-null  object\n",
      " 7   Onboard_Wifi_Service     94349 non-null  object\n",
      " 8   Onboard_Entertainment    94361 non-null  object\n",
      " 9   Online_Support           94288 non-null  object\n",
      " 10  Ease_of_Online_Booking   94306 non-null  object\n",
      " 11  Onboard_Service          86778 non-null  object\n",
      " 12  Legroom                  94289 non-null  object\n",
      " 13  Baggage_Handling         94237 non-null  object\n",
      " 14  CheckIn_Service          94302 non-null  object\n",
      " 15  Cleanliness              94373 non-null  object\n",
      " 16  Online_Boarding          94373 non-null  object\n",
      "dtypes: int64(2), object(15)\n",
      "memory usage: 12.2+ MB\n"
     ]
    }
   ],
   "source": [
    "# inspect the survey data dataframe\n",
    "df_survey_train.info()"
   ]
  },
  {
   "cell_type": "code",
   "execution_count": 109,
   "id": "2243df46f643b246",
   "metadata": {
    "collapsed": false,
    "ExecuteTime": {
     "end_time": "2024-09-28T13:34:28.517538Z",
     "start_time": "2024-09-28T13:34:28.507543Z"
    }
   },
   "outputs": [],
   "source": [
    "# inspect the values of the variables in the survey data dataset\n",
    "#dsu.inspect_variable_values(df_survey_train)"
   ]
  },
  {
   "cell_type": "markdown",
   "id": "cf0da9281ad9e1b5",
   "metadata": {
    "collapsed": false
   },
   "source": [
    "## Merging the Datasets"
   ]
  },
  {
   "cell_type": "code",
   "execution_count": 110,
   "id": "43d7e5eb26f6a79d",
   "metadata": {
    "collapsed": false,
    "ExecuteTime": {
     "end_time": "2024-09-28T13:34:30.073769Z",
     "start_time": "2024-09-28T13:34:29.916861Z"
    }
   },
   "outputs": [],
   "source": [
    "# we need to merge the two datasets\n",
    "\n",
    "df_train: pd.DataFrame = pd.merge(df_travel_train, df_survey_train, how='inner', on=['ID'])\n",
    "\n",
    "df_assessment: pd.DataFrame = pd.merge(df_travel_test, df_survey_test, how='inner', on=['ID'])"
   ]
  },
  {
   "cell_type": "code",
   "outputs": [
    {
     "data": {
      "text/plain": "         ID  Gender   Customer_Type   Age      Type_Travel Travel_Class  \\\n0  98800001  Female  Loyal Customer  52.0              NaN     Business   \n1  98800002    Male  Loyal Customer  48.0  Personal Travel          Eco   \n2  98800003  Female  Loyal Customer  43.0  Business Travel     Business   \n3  98800004  Female  Loyal Customer  44.0  Business Travel     Business   \n4  98800005  Female  Loyal Customer  50.0  Business Travel     Business   \n\n   Travel_Distance  Departure_Delay_in_Mins  Arrival_Delay_in_Mins  \\\n0              272                      0.0                    5.0   \n1             2200                      9.0                    0.0   \n2             1061                     77.0                  119.0   \n3              780                     13.0                   18.0   \n4             1981                      0.0                    0.0   \n\n   Overall_Experience  ... Onboard_Wifi_Service Onboard_Entertainment  \\\n0                   0  ...                 Good     Needs Improvement   \n1                   0  ...                 Good                  Poor   \n2                   1  ...    Needs Improvement                  Good   \n3                   0  ...           Acceptable     Needs Improvement   \n4                   1  ...    Needs Improvement                  Good   \n\n  Online_Support Ease_of_Online_Booking    Onboard_Service            Legroom  \\\n0     Acceptable      Needs Improvement  Needs Improvement         Acceptable   \n1           Good                   Good          Excellent  Needs Improvement   \n2      Excellent              Excellent          Excellent          Excellent   \n3     Acceptable             Acceptable         Acceptable         Acceptable   \n4      Excellent                   Good               Good               Good   \n\n    Baggage_Handling    CheckIn_Service        Cleanliness Online_Boarding  \n0  Needs Improvement               Good  Needs Improvement            Poor  \n1               Poor  Needs Improvement               Good            Good  \n2          Excellent               Good          Excellent       Excellent  \n3         Acceptable               Good         Acceptable      Acceptable  \n4               Good               Good               Good            Good  \n\n[5 rows x 25 columns]",
      "text/html": "<div>\n<style scoped>\n    .dataframe tbody tr th:only-of-type {\n        vertical-align: middle;\n    }\n\n    .dataframe tbody tr th {\n        vertical-align: top;\n    }\n\n    .dataframe thead th {\n        text-align: right;\n    }\n</style>\n<table border=\"1\" class=\"dataframe\">\n  <thead>\n    <tr style=\"text-align: right;\">\n      <th></th>\n      <th>ID</th>\n      <th>Gender</th>\n      <th>Customer_Type</th>\n      <th>Age</th>\n      <th>Type_Travel</th>\n      <th>Travel_Class</th>\n      <th>Travel_Distance</th>\n      <th>Departure_Delay_in_Mins</th>\n      <th>Arrival_Delay_in_Mins</th>\n      <th>Overall_Experience</th>\n      <th>...</th>\n      <th>Onboard_Wifi_Service</th>\n      <th>Onboard_Entertainment</th>\n      <th>Online_Support</th>\n      <th>Ease_of_Online_Booking</th>\n      <th>Onboard_Service</th>\n      <th>Legroom</th>\n      <th>Baggage_Handling</th>\n      <th>CheckIn_Service</th>\n      <th>Cleanliness</th>\n      <th>Online_Boarding</th>\n    </tr>\n  </thead>\n  <tbody>\n    <tr>\n      <th>0</th>\n      <td>98800001</td>\n      <td>Female</td>\n      <td>Loyal Customer</td>\n      <td>52.0</td>\n      <td>NaN</td>\n      <td>Business</td>\n      <td>272</td>\n      <td>0.0</td>\n      <td>5.0</td>\n      <td>0</td>\n      <td>...</td>\n      <td>Good</td>\n      <td>Needs Improvement</td>\n      <td>Acceptable</td>\n      <td>Needs Improvement</td>\n      <td>Needs Improvement</td>\n      <td>Acceptable</td>\n      <td>Needs Improvement</td>\n      <td>Good</td>\n      <td>Needs Improvement</td>\n      <td>Poor</td>\n    </tr>\n    <tr>\n      <th>1</th>\n      <td>98800002</td>\n      <td>Male</td>\n      <td>Loyal Customer</td>\n      <td>48.0</td>\n      <td>Personal Travel</td>\n      <td>Eco</td>\n      <td>2200</td>\n      <td>9.0</td>\n      <td>0.0</td>\n      <td>0</td>\n      <td>...</td>\n      <td>Good</td>\n      <td>Poor</td>\n      <td>Good</td>\n      <td>Good</td>\n      <td>Excellent</td>\n      <td>Needs Improvement</td>\n      <td>Poor</td>\n      <td>Needs Improvement</td>\n      <td>Good</td>\n      <td>Good</td>\n    </tr>\n    <tr>\n      <th>2</th>\n      <td>98800003</td>\n      <td>Female</td>\n      <td>Loyal Customer</td>\n      <td>43.0</td>\n      <td>Business Travel</td>\n      <td>Business</td>\n      <td>1061</td>\n      <td>77.0</td>\n      <td>119.0</td>\n      <td>1</td>\n      <td>...</td>\n      <td>Needs Improvement</td>\n      <td>Good</td>\n      <td>Excellent</td>\n      <td>Excellent</td>\n      <td>Excellent</td>\n      <td>Excellent</td>\n      <td>Excellent</td>\n      <td>Good</td>\n      <td>Excellent</td>\n      <td>Excellent</td>\n    </tr>\n    <tr>\n      <th>3</th>\n      <td>98800004</td>\n      <td>Female</td>\n      <td>Loyal Customer</td>\n      <td>44.0</td>\n      <td>Business Travel</td>\n      <td>Business</td>\n      <td>780</td>\n      <td>13.0</td>\n      <td>18.0</td>\n      <td>0</td>\n      <td>...</td>\n      <td>Acceptable</td>\n      <td>Needs Improvement</td>\n      <td>Acceptable</td>\n      <td>Acceptable</td>\n      <td>Acceptable</td>\n      <td>Acceptable</td>\n      <td>Acceptable</td>\n      <td>Good</td>\n      <td>Acceptable</td>\n      <td>Acceptable</td>\n    </tr>\n    <tr>\n      <th>4</th>\n      <td>98800005</td>\n      <td>Female</td>\n      <td>Loyal Customer</td>\n      <td>50.0</td>\n      <td>Business Travel</td>\n      <td>Business</td>\n      <td>1981</td>\n      <td>0.0</td>\n      <td>0.0</td>\n      <td>1</td>\n      <td>...</td>\n      <td>Needs Improvement</td>\n      <td>Good</td>\n      <td>Excellent</td>\n      <td>Good</td>\n      <td>Good</td>\n      <td>Good</td>\n      <td>Good</td>\n      <td>Good</td>\n      <td>Good</td>\n      <td>Good</td>\n    </tr>\n  </tbody>\n</table>\n<p>5 rows × 25 columns</p>\n</div>"
     },
     "execution_count": 111,
     "metadata": {},
     "output_type": "execute_result"
    }
   ],
   "source": [
    "df_train.head()"
   ],
   "metadata": {
    "collapsed": false,
    "ExecuteTime": {
     "end_time": "2024-09-28T13:34:37.234764Z",
     "start_time": "2024-09-28T13:34:37.169800Z"
    }
   },
   "id": "a8b6de9d94588aa8",
   "execution_count": 111
  },
  {
   "cell_type": "code",
   "execution_count": 62,
   "id": "6e524bc7f91f3b87",
   "metadata": {
    "ExecuteTime": {
     "end_time": "2024-09-28T10:56:42.096534Z",
     "start_time": "2024-09-28T10:56:42.020564Z"
    },
    "collapsed": false
   },
   "outputs": [
    {
     "name": "stdout",
     "output_type": "stream",
     "text": [
      "<class 'pandas.core.frame.DataFrame'>\n",
      "RangeIndex: 94379 entries, 0 to 94378\n",
      "Data columns (total 25 columns):\n",
      " #   Column                   Non-Null Count  Dtype  \n",
      "---  ------                   --------------  -----  \n",
      " 0   ID                       94379 non-null  int64  \n",
      " 1   Gender                   94302 non-null  object \n",
      " 2   Customer_Type            85428 non-null  object \n",
      " 3   Age                      94346 non-null  float64\n",
      " 4   Type_Travel              85153 non-null  object \n",
      " 5   Travel_Class             94379 non-null  object \n",
      " 6   Travel_Distance          94379 non-null  int64  \n",
      " 7   Departure_Delay_in_Mins  94322 non-null  float64\n",
      " 8   Arrival_Delay_in_Mins    94022 non-null  float64\n",
      " 9   Overall_Experience       94379 non-null  int64  \n",
      " 10  Seat_Comfort             94318 non-null  object \n",
      " 11  Seat_Class               94379 non-null  object \n",
      " 12  Arrival_Time_Convenient  85449 non-null  object \n",
      " 13  Catering                 85638 non-null  object \n",
      " 14  Platform_Location        94349 non-null  object \n",
      " 15  Onboard_Wifi_Service     94349 non-null  object \n",
      " 16  Onboard_Entertainment    94361 non-null  object \n",
      " 17  Online_Support           94288 non-null  object \n",
      " 18  Ease_of_Online_Booking   94306 non-null  object \n",
      " 19  Onboard_Service          86778 non-null  object \n",
      " 20  Legroom                  94289 non-null  object \n",
      " 21  Baggage_Handling         94237 non-null  object \n",
      " 22  CheckIn_Service          94302 non-null  object \n",
      " 23  Cleanliness              94373 non-null  object \n",
      " 24  Online_Boarding          94373 non-null  object \n",
      "dtypes: float64(3), int64(3), object(19)\n",
      "memory usage: 18.0+ MB\n"
     ]
    }
   ],
   "source": [
    "# inspect the columns of the new dataframe\n",
    "df_train.info()"
   ]
  },
  {
   "cell_type": "code",
   "execution_count": 63,
   "id": "444ca8891dd7aafd",
   "metadata": {
    "ExecuteTime": {
     "end_time": "2024-09-28T10:56:43.013740Z",
     "start_time": "2024-09-28T10:56:42.995737Z"
    },
    "collapsed": false
   },
   "outputs": [],
   "source": [
    "# inspect the variables of the merged dataframe\n",
    "\n",
    "#dsu.inspect_variable_values(df_train)"
   ]
  },
  {
   "cell_type": "code",
   "execution_count": 64,
   "id": "26f50020b7c4b86f",
   "metadata": {
    "ExecuteTime": {
     "end_time": "2024-09-28T10:56:44.037949Z",
     "start_time": "2024-09-28T10:56:43.826930Z"
    },
    "collapsed": false
   },
   "outputs": [],
   "source": [
    "# split variables by type for EDA\n",
    "numerical_vars, categorical_vars, binary_vars = dsu.get_vars_by_type(df_train)"
   ]
  },
  {
   "cell_type": "code",
   "execution_count": 65,
   "id": "7db5b4c3af625d10",
   "metadata": {
    "ExecuteTime": {
     "end_time": "2024-09-28T10:56:44.797237Z",
     "start_time": "2024-09-28T10:56:44.783253Z"
    },
    "collapsed": false
   },
   "outputs": [
    {
     "name": "stdout",
     "output_type": "stream",
     "text": [
      "['ID', 'Age', 'Travel_Distance', 'Departure_Delay_in_Mins', 'Arrival_Delay_in_Mins'] \n",
      " ['Seat_Comfort', 'Arrival_Time_Convenient', 'Catering', 'Platform_Location', 'Onboard_Wifi_Service', 'Onboard_Entertainment', 'Online_Support', 'Ease_of_Online_Booking', 'Onboard_Service', 'Legroom', 'Baggage_Handling', 'CheckIn_Service', 'Cleanliness', 'Online_Boarding'] \n",
      " ['Gender', 'Customer_Type', 'Type_Travel', 'Travel_Class', 'Overall_Experience', 'Seat_Class']\n"
     ]
    }
   ],
   "source": [
    "print(numerical_vars, '\\n', categorical_vars, '\\n', binary_vars)"
   ]
  },
  {
   "cell_type": "code",
   "execution_count": 66,
   "id": "a0db85add33adc98",
   "metadata": {
    "ExecuteTime": {
     "end_time": "2024-09-28T10:56:45.700069Z",
     "start_time": "2024-09-28T10:56:45.691074Z"
    },
    "collapsed": false
   },
   "outputs": [],
   "source": [
    "# store the name of the target for later use\n",
    "target = \"Overall_Experience\"\n",
    "#binary_vars.remove(target)"
   ]
  },
  {
   "cell_type": "markdown",
   "id": "51b04e8e47eb4a3e",
   "metadata": {
    "collapsed": false
   },
   "source": [
    "# EDA"
   ]
  },
  {
   "cell_type": "markdown",
   "id": "e293f519f433cdfd",
   "metadata": {
    "collapsed": false
   },
   "source": [
    "## Univariate Analysis"
   ]
  },
  {
   "cell_type": "markdown",
   "id": "49f0040c44f7b57c",
   "metadata": {
    "collapsed": false
   },
   "source": [
    "### Numerical Variables"
   ]
  },
  {
   "cell_type": "code",
   "execution_count": 67,
   "id": "b51a974414ab812a",
   "metadata": {
    "ExecuteTime": {
     "end_time": "2024-09-28T10:56:48.775294Z",
     "start_time": "2024-09-28T10:56:48.759304Z"
    },
    "collapsed": false
   },
   "outputs": [],
   "source": [
    "# analyze the numerical variables in the travel dataset\n",
    "#dsu.analyze_numerical_features(df_train, numerical_vars)"
   ]
  },
  {
   "cell_type": "code",
   "execution_count": 68,
   "id": "55b474cda3054eec",
   "metadata": {
    "ExecuteTime": {
     "end_time": "2024-09-28T10:56:50.114132Z",
     "start_time": "2024-09-28T10:56:50.100138Z"
    },
    "collapsed": false
   },
   "outputs": [],
   "source": [
    "# inspect the correlations in the data\n",
    "#df_train[numerical_vars].corr()"
   ]
  },
  {
   "cell_type": "markdown",
   "id": "8be0bbcbd31bbf0b",
   "metadata": {
    "collapsed": false
   },
   "source": [
    "### Categorical Variables"
   ]
  },
  {
   "cell_type": "code",
   "execution_count": 69,
   "id": "b6e24f8e1691b914",
   "metadata": {
    "ExecuteTime": {
     "end_time": "2024-09-28T10:56:52.232242Z",
     "start_time": "2024-09-28T10:56:52.223247Z"
    },
    "collapsed": false
   },
   "outputs": [],
   "source": [
    "# analyze the categorical variables of the travel dataset\n",
    "#dsu.analyze_categorical_features(df_train, categorical_vars)"
   ]
  },
  {
   "cell_type": "markdown",
   "id": "6a3bedef95513051",
   "metadata": {
    "collapsed": false
   },
   "source": [
    "### Binary Variables"
   ]
  },
  {
   "cell_type": "code",
   "execution_count": 70,
   "id": "b897902c7af48c9",
   "metadata": {
    "ExecuteTime": {
     "end_time": "2024-09-28T10:56:54.135538Z",
     "start_time": "2024-09-28T10:56:54.122545Z"
    },
    "collapsed": false
   },
   "outputs": [],
   "source": [
    "# analyze the binary variables\n",
    "#dsu.analyze_binary_features(df_train, binary_vars)"
   ]
  },
  {
   "cell_type": "markdown",
   "id": "b671ed16fc04b775",
   "metadata": {
    "collapsed": false
   },
   "source": [
    "### Analysis\n",
    "\n",
    "**Gender**: The distribution of Males vs Females in the dataset is almost uniform.\n",
    "\n",
    "**Customer Type:** Most customers (~82%) are loyal customers, with 18% being non-loyal customers.\n",
    "\n",
    "**Type Travel:** Approximately 68% of customers are travelling for business purposes. The other 32% are travelling for personal reasons. \n",
    "\n",
    "**Travel Class:** The travel classes (economy and business) have very similar distributions. Slightly more individuals (52%) travel on economy flights, with the other 48% travelling on business.\n",
    "\n",
    "**Overall Experience.** Approximately 55% (45% dissatisfied) of customers are satisfied with their travel experience.\n",
    "\n",
    "**Seat Class:** The values in the Seat Class variable (Green Car, Ordinary) have almost identical distributions."
   ]
  },
  {
   "cell_type": "markdown",
   "id": "f8ac41fb6042e177",
   "metadata": {
    "collapsed": false
   },
   "source": [
    "## Bivariate Analysis"
   ]
  },
  {
   "cell_type": "markdown",
   "id": "978ca3975021301a",
   "metadata": {
    "collapsed": false
   },
   "source": [
    "### Numerical Variables"
   ]
  },
  {
   "cell_type": "code",
   "execution_count": 71,
   "id": "a4939f883d923a6f",
   "metadata": {
    "ExecuteTime": {
     "end_time": "2024-09-28T10:56:57.471253Z",
     "start_time": "2024-09-28T10:56:57.452262Z"
    },
    "collapsed": false
   },
   "outputs": [],
   "source": [
    "# bivariate analysis of numerical features\n",
    "#dsu.analyze_numerical_features(df_train, numerical_vars, bivariate=True, target=target)"
   ]
  },
  {
   "cell_type": "markdown",
   "id": "4fc14e0f3c08eb5e",
   "metadata": {
    "collapsed": false
   },
   "source": [
    "### Categorical Variables"
   ]
  },
  {
   "cell_type": "code",
   "execution_count": 72,
   "id": "21c756571fccd386",
   "metadata": {
    "ExecuteTime": {
     "end_time": "2024-09-28T10:56:59.304003Z",
     "start_time": "2024-09-28T10:56:59.294994Z"
    },
    "collapsed": false
   },
   "outputs": [],
   "source": [
    "#df_train[target] = df_train[target].astype(str)"
   ]
  },
  {
   "cell_type": "code",
   "execution_count": 73,
   "id": "4cb94787846fe5f5",
   "metadata": {
    "ExecuteTime": {
     "end_time": "2024-09-28T10:56:59.902457Z",
     "start_time": "2024-09-28T10:56:59.893463Z"
    },
    "collapsed": false
   },
   "outputs": [],
   "source": [
    "# analyze the categorical vars\n",
    "#dsu.analyze_categorical_features(df_train, categorical_vars, bivariate=True, target=target)"
   ]
  },
  {
   "cell_type": "markdown",
   "id": "771f055c9df65f9b",
   "metadata": {
    "collapsed": false
   },
   "source": [
    "### Analysis\n",
    "\n",
    "The categorical are all ordinal in nature. \n",
    "\n",
    "The ranking systems from extremely poor to excellent demonstrate that in most cases, poor ratings lead to dissatisfied consumers."
   ]
  },
  {
   "cell_type": "markdown",
   "id": "ea06f3968b1b9b68",
   "metadata": {
    "collapsed": false
   },
   "source": [
    "### Binary Variables"
   ]
  },
  {
   "cell_type": "code",
   "execution_count": 74,
   "id": "f06d9e1bd8d0af05",
   "metadata": {
    "ExecuteTime": {
     "end_time": "2024-09-28T10:57:02.063653Z",
     "start_time": "2024-09-28T10:57:02.057656Z"
    },
    "collapsed": false
   },
   "outputs": [],
   "source": [
    "# analyze the binary features\n",
    "\n",
    "# remove the target from the list of variables\n",
    "binary_vars.remove(target)\n",
    "\n",
    "# inspect the distribution\n",
    "#dsu.analyze_categorical_features(df_train, binary_vars, bivariate=True, target=target)"
   ]
  },
  {
   "cell_type": "markdown",
   "id": "2b4af8e15727041b",
   "metadata": {
    "collapsed": false
   },
   "source": [
    "### Analysis:\n",
    "\n",
    "Seat Class: The distribution of the values of the Seat Class variable are identical and therefore not relevant for the analysis. \n",
    "\n",
    "Travel Class: Clearly customers who travel in the business class show higher satisfaction rates, while consumers travelling economy are more likely to be dissatisfied.\n",
    "\n"
   ]
  },
  {
   "cell_type": "markdown",
   "id": "1788ba261fdd8aaf",
   "metadata": {
    "collapsed": false
   },
   "source": [
    "# Data Preprocessing:"
   ]
  },
  {
   "cell_type": "markdown",
   "id": "653178024fddbbc8",
   "metadata": {
    "collapsed": false
   },
   "source": [
    "## Drop Irrelevant Columns"
   ]
  },
  {
   "cell_type": "code",
   "execution_count": 75,
   "id": "887ea9685c8e2e22",
   "metadata": {
    "ExecuteTime": {
     "end_time": "2024-09-28T10:57:05.311701Z",
     "start_time": "2024-09-28T10:57:05.251739Z"
    },
    "collapsed": false
   },
   "outputs": [],
   "source": [
    "# drop columns that have no value\n",
    "df_train.drop(columns=[\"ID\", \"Seat_Class\"], inplace=True)\n",
    "df_assessment.drop(columns=[\"ID\", \"Seat_Class\"], inplace=True)\n",
    "\n",
    "# and remove from the list\n",
    "numerical_vars.remove(\"ID\")\n",
    "binary_vars.remove(\"Seat_Class\")"
   ]
  },
  {
   "cell_type": "code",
   "execution_count": 76,
   "id": "d8be259071f585e5",
   "metadata": {
    "ExecuteTime": {
     "end_time": "2024-09-28T10:57:06.695959Z",
     "start_time": "2024-09-28T10:57:06.618006Z"
    },
    "collapsed": false
   },
   "outputs": [
    {
     "name": "stdout",
     "output_type": "stream",
     "text": [
      "<class 'pandas.core.frame.DataFrame'>\n",
      "RangeIndex: 94379 entries, 0 to 94378\n",
      "Data columns (total 23 columns):\n",
      " #   Column                   Non-Null Count  Dtype  \n",
      "---  ------                   --------------  -----  \n",
      " 0   Gender                   94302 non-null  object \n",
      " 1   Customer_Type            85428 non-null  object \n",
      " 2   Age                      94346 non-null  float64\n",
      " 3   Type_Travel              85153 non-null  object \n",
      " 4   Travel_Class             94379 non-null  object \n",
      " 5   Travel_Distance          94379 non-null  int64  \n",
      " 6   Departure_Delay_in_Mins  94322 non-null  float64\n",
      " 7   Arrival_Delay_in_Mins    94022 non-null  float64\n",
      " 8   Overall_Experience       94379 non-null  int64  \n",
      " 9   Seat_Comfort             94318 non-null  object \n",
      " 10  Arrival_Time_Convenient  85449 non-null  object \n",
      " 11  Catering                 85638 non-null  object \n",
      " 12  Platform_Location        94349 non-null  object \n",
      " 13  Onboard_Wifi_Service     94349 non-null  object \n",
      " 14  Onboard_Entertainment    94361 non-null  object \n",
      " 15  Online_Support           94288 non-null  object \n",
      " 16  Ease_of_Online_Booking   94306 non-null  object \n",
      " 17  Onboard_Service          86778 non-null  object \n",
      " 18  Legroom                  94289 non-null  object \n",
      " 19  Baggage_Handling         94237 non-null  object \n",
      " 20  CheckIn_Service          94302 non-null  object \n",
      " 21  Cleanliness              94373 non-null  object \n",
      " 22  Online_Boarding          94373 non-null  object \n",
      "dtypes: float64(3), int64(2), object(18)\n",
      "memory usage: 16.6+ MB\n"
     ]
    }
   ],
   "source": [
    "df_train.info()"
   ]
  },
  {
   "cell_type": "markdown",
   "id": "98679ecc9c3e6a2f",
   "metadata": {
    "collapsed": false
   },
   "source": [
    "## Impute Missing Data"
   ]
  },
  {
   "cell_type": "code",
   "execution_count": 77,
   "id": "b36405839d820b9f",
   "metadata": {
    "ExecuteTime": {
     "end_time": "2024-09-28T10:57:13.171325Z",
     "start_time": "2024-09-28T10:57:13.092328Z"
    },
    "collapsed": false
   },
   "outputs": [
    {
     "data": {
      "text/plain": [
       "Gender                       77\n",
       "Customer_Type              8951\n",
       "Age                          33\n",
       "Type_Travel                9226\n",
       "Travel_Class                  0\n",
       "Travel_Distance               0\n",
       "Departure_Delay_in_Mins      57\n",
       "Arrival_Delay_in_Mins       357\n",
       "Overall_Experience            0\n",
       "Seat_Comfort                 61\n",
       "Arrival_Time_Convenient    8930\n",
       "Catering                   8741\n",
       "Platform_Location            30\n",
       "Onboard_Wifi_Service         30\n",
       "Onboard_Entertainment        18\n",
       "Online_Support               91\n",
       "Ease_of_Online_Booking       73\n",
       "Onboard_Service            7601\n",
       "Legroom                      90\n",
       "Baggage_Handling            142\n",
       "CheckIn_Service              77\n",
       "Cleanliness                   6\n",
       "Online_Boarding               6\n",
       "dtype: int64"
      ]
     },
     "execution_count": 77,
     "metadata": {},
     "output_type": "execute_result"
    }
   ],
   "source": [
    "# columns with missing data\n",
    "df_train.isna().sum()"
   ]
  },
  {
   "cell_type": "markdown",
   "id": "c5d29f7532527cc6",
   "metadata": {
    "collapsed": false
   },
   "source": [
    "### Imputation of numerical variables"
   ]
  },
  {
   "cell_type": "code",
   "execution_count": 78,
   "id": "313239be5d420103",
   "metadata": {
    "ExecuteTime": {
     "end_time": "2024-09-28T10:57:16.497355Z",
     "start_time": "2024-09-28T10:57:16.142577Z"
    },
    "collapsed": false
   },
   "outputs": [],
   "source": [
    "# initialize the IterativeImputer instance\n",
    "numeric_imputer: IterativeImputer = IterativeImputer(random_state=1)\n",
    "\n",
    "# fit the test data to the imputer\n",
    "numeric_imputer.fit(df_train[numerical_vars])\n",
    "\n",
    "# transform the test data\n",
    "df_train[numerical_vars] = numeric_imputer.transform(df_train[numerical_vars])\n",
    "\n",
    "# impute values of dt_assessment also\n",
    "df_assessment[numerical_vars] = numeric_imputer.transform(df_assessment[numerical_vars])"
   ]
  },
  {
   "cell_type": "code",
   "execution_count": 79,
   "id": "6ea83fba6e449f91",
   "metadata": {
    "ExecuteTime": {
     "end_time": "2024-09-28T10:57:17.610227Z",
     "start_time": "2024-09-28T10:57:17.591245Z"
    },
    "collapsed": false
   },
   "outputs": [
    {
     "data": {
      "text/plain": [
       "Age                        0\n",
       "Travel_Distance            0\n",
       "Departure_Delay_in_Mins    0\n",
       "Arrival_Delay_in_Mins      0\n",
       "dtype: int64"
      ]
     },
     "execution_count": 79,
     "metadata": {},
     "output_type": "execute_result"
    }
   ],
   "source": [
    "# test that there are no more nulls\n",
    "df_train[numerical_vars].isna().sum()"
   ]
  },
  {
   "cell_type": "code",
   "execution_count": 81,
   "id": "f2eae3a5d251afa2",
   "metadata": {
    "ExecuteTime": {
     "end_time": "2024-09-28T10:57:38.851322Z",
     "start_time": "2024-09-28T10:57:38.843328Z"
    },
    "collapsed": false
   },
   "outputs": [],
   "source": [
    "# inspect the distribution of the data for significant changes\n",
    "#dsu.analyze_numerical_features(df_train, numerical_vars)"
   ]
  },
  {
   "cell_type": "markdown",
   "id": "87545e17b2867194",
   "metadata": {
    "collapsed": false
   },
   "source": [
    "## Encoding Categorical and Binary Variables"
   ]
  },
  {
   "cell_type": "markdown",
   "id": "151677a76abbfa4c",
   "metadata": {
    "collapsed": false
   },
   "source": [
    "### Encoding the categorical variables"
   ]
  },
  {
   "cell_type": "markdown",
   "id": "409d36bcf2668d5f",
   "metadata": {
    "collapsed": false
   },
   "source": [
    "We cant impute missing values until the categorical variables have been encoded."
   ]
  },
  {
   "cell_type": "code",
   "execution_count": 82,
   "id": "de9766e7bf32d26a",
   "metadata": {
    "ExecuteTime": {
     "end_time": "2024-09-28T10:57:45.831630Z",
     "start_time": "2024-09-28T10:57:45.644564Z"
    },
    "collapsed": false
   },
   "outputs": [],
   "source": [
    "# initialize the mapping\n",
    "# encode the categorical columns\n",
    "\n",
    "loc = 'Platform_Location'\n",
    "\n",
    "mapping_dict_loc = {'Very Convenient': int(6), 'Needs Improvement': int(3), 'Manageable': int(4), 'Inconvenient': int(2),\n",
    " 'Convenient': int(5), 'Very Inconvenient': int(1)}\n",
    "\n",
    "categorical_vars.remove(loc)\n",
    "\n",
    "#dictionary to map the ordinal categories of the categorical variables\n",
    "mapping_dict = {'Needs Improvement': int(2),  'Poor': int(1),  'Excellent': int(5), 'Acceptable': int(3), 'Good': int(4)}\n",
    "\n",
    "# map each col in the categorical vars\n",
    "for col in categorical_vars:\n",
    "    df_train[col] = df_train[col].map(mapping_dict)\n",
    "    df_assessment[col] = df_assessment[col].map(mapping_dict)\n",
    "\n",
    "# mapp the Platform_Location \n",
    "df_train[loc] = df_train[loc].map(mapping_dict_loc)\n",
    "df_assessment[loc] = df_assessment[loc].map(mapping_dict_loc)"
   ]
  },
  {
   "cell_type": "code",
   "execution_count": 83,
   "id": "88b120853122c2c",
   "metadata": {
    "ExecuteTime": {
     "end_time": "2024-09-28T10:57:51.022848Z",
     "start_time": "2024-09-28T10:57:51.011863Z"
    },
    "collapsed": false
   },
   "outputs": [],
   "source": [
    "# inspect the values of the encoded columns\n",
    "#dsu.inspect_variable_values(df_train[categorical_vars])"
   ]
  },
  {
   "cell_type": "code",
   "execution_count": 84,
   "id": "3f0990f99d22c041",
   "metadata": {
    "ExecuteTime": {
     "end_time": "2024-09-28T10:57:55.007516Z",
     "start_time": "2024-09-28T10:57:54.992522Z"
    },
    "collapsed": false
   },
   "outputs": [],
   "source": [
    "# check the distribution of the data after imputing\n",
    "\n",
    "#dsu.analyze_categorical_features(df_train, categorical_vars)"
   ]
  },
  {
   "cell_type": "markdown",
   "id": "fd83a7a848eefd7f",
   "metadata": {
    "collapsed": false
   },
   "source": [
    "### Encoding Binary Variables"
   ]
  },
  {
   "cell_type": "code",
   "execution_count": 85,
   "id": "d7cf6867a59803ce",
   "metadata": {
    "ExecuteTime": {
     "end_time": "2024-09-28T10:57:58.485300Z",
     "start_time": "2024-09-28T10:57:58.090372Z"
    },
    "collapsed": false
   },
   "outputs": [],
   "source": [
    "\n",
    "\n",
    "# initialize the one-hot encoder\n",
    "binary_encoder = OrdinalEncoder(handle_unknown='use_encoded_value', unknown_value=-1)\n",
    "\n",
    "# mask to get nan values back to nan after encoding\n",
    "nan_mask = df_train[binary_vars].isna()\n",
    "nan_mask_assessment = df_assessment[binary_vars].isna()\n",
    "\n",
    "# fit to the encoder\n",
    "binary_encoder.fit(df_train[binary_vars])\n",
    "\n",
    "# transform values to 0s and 1s\n",
    "df_train[binary_vars] = binary_encoder.transform(df_train[binary_vars])\n",
    "\n",
    "df_assessment[binary_vars] = binary_encoder.transform(df_assessment[binary_vars])\n",
    "\n",
    "# reassign binary vars\n",
    "df_train[nan_mask] = np.nan\n",
    "df_assessment[nan_mask_assessment] = np.nan"
   ]
  },
  {
   "cell_type": "markdown",
   "id": "cb4100b8049014f3",
   "metadata": {
    "collapsed": false
   },
   "source": [
    "## Impute Missing Data for binary and Categorical Columns"
   ]
  },
  {
   "cell_type": "code",
   "execution_count": 86,
   "id": "e259f7e4a98241d2",
   "metadata": {
    "ExecuteTime": {
     "end_time": "2024-09-28T10:58:02.952060Z",
     "start_time": "2024-09-28T10:58:02.938068Z"
    },
    "collapsed": false
   },
   "outputs": [],
   "source": [
    "# encode the categorical columns\n",
    "\n",
    "# list of columns to impute\n",
    "cols_to_impute: list = categorical_vars + binary_vars\n",
    "cols_to_impute.append(loc)"
   ]
  },
  {
   "cell_type": "code",
   "execution_count": 87,
   "id": "ae9cc948af08f95e",
   "metadata": {
    "ExecuteTime": {
     "end_time": "2024-09-28T11:06:25.489620Z",
     "start_time": "2024-09-28T10:58:03.841656Z"
    },
    "collapsed": false
   },
   "outputs": [],
   "source": [
    "# initialize the KNN imputer\n",
    "cat_imputer: KNNImputer = KNNImputer(n_neighbors=10, weights='distance')\n",
    "\n",
    "# impute missing values\n",
    "cat_imputer.fit(df_train[cols_to_impute])\n",
    "\n",
    "# impute data for test set\n",
    "df_train[cols_to_impute]: np.ndarray = cat_imputer.transform(df_train[cols_to_impute])\n",
    "\n",
    "df_assessment[cols_to_impute] = cat_imputer.transform(df_assessment[cols_to_impute])"
   ]
  },
  {
   "cell_type": "code",
   "execution_count": 88,
   "id": "6fcffb1c391d79b8",
   "metadata": {
    "ExecuteTime": {
     "end_time": "2024-09-28T11:13:04.833087Z",
     "start_time": "2024-09-28T11:13:04.769125Z"
    },
    "collapsed": false
   },
   "outputs": [
    {
     "data": {
      "text/plain": [
       "Gender                     False\n",
       "Customer_Type              False\n",
       "Age                        False\n",
       "Type_Travel                False\n",
       "Travel_Class               False\n",
       "Travel_Distance            False\n",
       "Departure_Delay_in_Mins    False\n",
       "Arrival_Delay_in_Mins      False\n",
       "Overall_Experience         False\n",
       "Seat_Comfort               False\n",
       "Arrival_Time_Convenient    False\n",
       "Catering                   False\n",
       "Platform_Location          False\n",
       "Onboard_Wifi_Service       False\n",
       "Onboard_Entertainment      False\n",
       "Online_Support             False\n",
       "Ease_of_Online_Booking     False\n",
       "Onboard_Service            False\n",
       "Legroom                    False\n",
       "Baggage_Handling           False\n",
       "CheckIn_Service            False\n",
       "Cleanliness                False\n",
       "Online_Boarding            False\n",
       "dtype: bool"
      ]
     },
     "execution_count": 88,
     "metadata": {},
     "output_type": "execute_result"
    }
   ],
   "source": [
    "df_train.isna().any()"
   ]
  },
  {
   "cell_type": "code",
   "execution_count": 89,
   "id": "3ba964845a2c3bbe",
   "metadata": {
    "ExecuteTime": {
     "end_time": "2024-09-28T11:13:14.578273Z",
     "start_time": "2024-09-28T11:13:14.553289Z"
    },
    "collapsed": false
   },
   "outputs": [
    {
     "data": {
      "text/plain": [
       "Gender                     False\n",
       "Customer_Type              False\n",
       "Age                        False\n",
       "Type_Travel                False\n",
       "Travel_Class               False\n",
       "Travel_Distance            False\n",
       "Departure_Delay_in_Mins    False\n",
       "Arrival_Delay_in_Mins      False\n",
       "Seat_Comfort               False\n",
       "Arrival_Time_Convenient    False\n",
       "Catering                   False\n",
       "Platform_Location          False\n",
       "Onboard_Wifi_Service       False\n",
       "Onboard_Entertainment      False\n",
       "Online_Support             False\n",
       "Ease_of_Online_Booking     False\n",
       "Onboard_Service            False\n",
       "Legroom                    False\n",
       "Baggage_Handling           False\n",
       "CheckIn_Service            False\n",
       "Cleanliness                False\n",
       "Online_Boarding            False\n",
       "dtype: bool"
      ]
     },
     "execution_count": 89,
     "metadata": {},
     "output_type": "execute_result"
    }
   ],
   "source": [
    "# inspect the assessment set\n",
    "df_assessment.isna().any()"
   ]
  },
  {
   "cell_type": "code",
   "execution_count": 90,
   "id": "45e653a03404eed6",
   "metadata": {
    "ExecuteTime": {
     "end_time": "2024-09-28T11:14:53.509156Z",
     "start_time": "2024-09-28T11:14:53.499147Z"
    },
    "collapsed": false
   },
   "outputs": [],
   "source": [
    "# function to cast values back to integers for categorical types\n",
    "def to_int(x: float):\n",
    "    if x < 1.5:\n",
    "        return 1\n",
    "    elif x < 2.5:\n",
    "        return 2\n",
    "    elif x < 3.5:\n",
    "        return 3\n",
    "    elif x < 4.5:\n",
    "        return 4\n",
    "    elif x < 5.5:\n",
    "        return  5\n",
    "    elif x < 6.5:\n",
    "        return 6"
   ]
  },
  {
   "cell_type": "code",
   "execution_count": 91,
   "id": "d5fda4a677360c9",
   "metadata": {
    "ExecuteTime": {
     "end_time": "2024-09-28T11:14:55.789056Z",
     "start_time": "2024-09-28T11:14:54.771357Z"
    },
    "collapsed": false
   },
   "outputs": [],
   "source": [
    "for col in categorical_vars:\n",
    "    df_train[col] = df_train[col].apply(to_int)\n",
    "    df_assessment[col] = df_assessment[col].apply(to_int)"
   ]
  },
  {
   "cell_type": "code",
   "execution_count": 92,
   "id": "2cff39abd1ce9f08",
   "metadata": {
    "ExecuteTime": {
     "end_time": "2024-09-28T11:14:56.692111Z",
     "start_time": "2024-09-28T11:14:56.659131Z"
    },
    "collapsed": false
   },
   "outputs": [
    {
     "data": {
      "text/html": [
       "<div>\n",
       "<style scoped>\n",
       "    .dataframe tbody tr th:only-of-type {\n",
       "        vertical-align: middle;\n",
       "    }\n",
       "\n",
       "    .dataframe tbody tr th {\n",
       "        vertical-align: top;\n",
       "    }\n",
       "\n",
       "    .dataframe thead th {\n",
       "        text-align: right;\n",
       "    }\n",
       "</style>\n",
       "<table border=\"1\" class=\"dataframe\">\n",
       "  <thead>\n",
       "    <tr style=\"text-align: right;\">\n",
       "      <th></th>\n",
       "      <th>Gender</th>\n",
       "      <th>Customer_Type</th>\n",
       "      <th>Age</th>\n",
       "      <th>Type_Travel</th>\n",
       "      <th>Travel_Class</th>\n",
       "      <th>Travel_Distance</th>\n",
       "      <th>Departure_Delay_in_Mins</th>\n",
       "      <th>Arrival_Delay_in_Mins</th>\n",
       "      <th>Overall_Experience</th>\n",
       "      <th>Seat_Comfort</th>\n",
       "      <th>...</th>\n",
       "      <th>Onboard_Wifi_Service</th>\n",
       "      <th>Onboard_Entertainment</th>\n",
       "      <th>Online_Support</th>\n",
       "      <th>Ease_of_Online_Booking</th>\n",
       "      <th>Onboard_Service</th>\n",
       "      <th>Legroom</th>\n",
       "      <th>Baggage_Handling</th>\n",
       "      <th>CheckIn_Service</th>\n",
       "      <th>Cleanliness</th>\n",
       "      <th>Online_Boarding</th>\n",
       "    </tr>\n",
       "  </thead>\n",
       "  <tbody>\n",
       "    <tr>\n",
       "      <th>0</th>\n",
       "      <td>0.0</td>\n",
       "      <td>1.0</td>\n",
       "      <td>52.0</td>\n",
       "      <td>0.0</td>\n",
       "      <td>0.0</td>\n",
       "      <td>272.0</td>\n",
       "      <td>0.0</td>\n",
       "      <td>5.0</td>\n",
       "      <td>0</td>\n",
       "      <td>2</td>\n",
       "      <td>...</td>\n",
       "      <td>4</td>\n",
       "      <td>2</td>\n",
       "      <td>3</td>\n",
       "      <td>2</td>\n",
       "      <td>2</td>\n",
       "      <td>3</td>\n",
       "      <td>2</td>\n",
       "      <td>4</td>\n",
       "      <td>2</td>\n",
       "      <td>1</td>\n",
       "    </tr>\n",
       "    <tr>\n",
       "      <th>1</th>\n",
       "      <td>1.0</td>\n",
       "      <td>1.0</td>\n",
       "      <td>48.0</td>\n",
       "      <td>1.0</td>\n",
       "      <td>1.0</td>\n",
       "      <td>2200.0</td>\n",
       "      <td>9.0</td>\n",
       "      <td>0.0</td>\n",
       "      <td>0</td>\n",
       "      <td>1</td>\n",
       "      <td>...</td>\n",
       "      <td>4</td>\n",
       "      <td>1</td>\n",
       "      <td>4</td>\n",
       "      <td>4</td>\n",
       "      <td>5</td>\n",
       "      <td>2</td>\n",
       "      <td>1</td>\n",
       "      <td>2</td>\n",
       "      <td>4</td>\n",
       "      <td>4</td>\n",
       "    </tr>\n",
       "    <tr>\n",
       "      <th>2</th>\n",
       "      <td>0.0</td>\n",
       "      <td>1.0</td>\n",
       "      <td>43.0</td>\n",
       "      <td>0.0</td>\n",
       "      <td>0.0</td>\n",
       "      <td>1061.0</td>\n",
       "      <td>77.0</td>\n",
       "      <td>119.0</td>\n",
       "      <td>1</td>\n",
       "      <td>2</td>\n",
       "      <td>...</td>\n",
       "      <td>2</td>\n",
       "      <td>4</td>\n",
       "      <td>5</td>\n",
       "      <td>5</td>\n",
       "      <td>5</td>\n",
       "      <td>5</td>\n",
       "      <td>5</td>\n",
       "      <td>4</td>\n",
       "      <td>5</td>\n",
       "      <td>5</td>\n",
       "    </tr>\n",
       "    <tr>\n",
       "      <th>3</th>\n",
       "      <td>0.0</td>\n",
       "      <td>1.0</td>\n",
       "      <td>44.0</td>\n",
       "      <td>0.0</td>\n",
       "      <td>0.0</td>\n",
       "      <td>780.0</td>\n",
       "      <td>13.0</td>\n",
       "      <td>18.0</td>\n",
       "      <td>0</td>\n",
       "      <td>3</td>\n",
       "      <td>...</td>\n",
       "      <td>3</td>\n",
       "      <td>2</td>\n",
       "      <td>3</td>\n",
       "      <td>3</td>\n",
       "      <td>3</td>\n",
       "      <td>3</td>\n",
       "      <td>3</td>\n",
       "      <td>4</td>\n",
       "      <td>3</td>\n",
       "      <td>3</td>\n",
       "    </tr>\n",
       "    <tr>\n",
       "      <th>4</th>\n",
       "      <td>0.0</td>\n",
       "      <td>1.0</td>\n",
       "      <td>50.0</td>\n",
       "      <td>0.0</td>\n",
       "      <td>0.0</td>\n",
       "      <td>1981.0</td>\n",
       "      <td>0.0</td>\n",
       "      <td>0.0</td>\n",
       "      <td>1</td>\n",
       "      <td>3</td>\n",
       "      <td>...</td>\n",
       "      <td>2</td>\n",
       "      <td>4</td>\n",
       "      <td>5</td>\n",
       "      <td>4</td>\n",
       "      <td>4</td>\n",
       "      <td>4</td>\n",
       "      <td>4</td>\n",
       "      <td>4</td>\n",
       "      <td>4</td>\n",
       "      <td>4</td>\n",
       "    </tr>\n",
       "  </tbody>\n",
       "</table>\n",
       "<p>5 rows × 23 columns</p>\n",
       "</div>"
      ],
      "text/plain": [
       "   Gender  Customer_Type   Age  Type_Travel  Travel_Class  Travel_Distance  \\\n",
       "0     0.0            1.0  52.0          0.0           0.0            272.0   \n",
       "1     1.0            1.0  48.0          1.0           1.0           2200.0   \n",
       "2     0.0            1.0  43.0          0.0           0.0           1061.0   \n",
       "3     0.0            1.0  44.0          0.0           0.0            780.0   \n",
       "4     0.0            1.0  50.0          0.0           0.0           1981.0   \n",
       "\n",
       "   Departure_Delay_in_Mins  Arrival_Delay_in_Mins  Overall_Experience  \\\n",
       "0                      0.0                    5.0                   0   \n",
       "1                      9.0                    0.0                   0   \n",
       "2                     77.0                  119.0                   1   \n",
       "3                     13.0                   18.0                   0   \n",
       "4                      0.0                    0.0                   1   \n",
       "\n",
       "   Seat_Comfort  ...  Onboard_Wifi_Service  Onboard_Entertainment  \\\n",
       "0             2  ...                     4                      2   \n",
       "1             1  ...                     4                      1   \n",
       "2             2  ...                     2                      4   \n",
       "3             3  ...                     3                      2   \n",
       "4             3  ...                     2                      4   \n",
       "\n",
       "   Online_Support  Ease_of_Online_Booking  Onboard_Service  Legroom  \\\n",
       "0               3                       2                2        3   \n",
       "1               4                       4                5        2   \n",
       "2               5                       5                5        5   \n",
       "3               3                       3                3        3   \n",
       "4               5                       4                4        4   \n",
       "\n",
       "   Baggage_Handling  CheckIn_Service  Cleanliness  Online_Boarding  \n",
       "0                 2                4            2                1  \n",
       "1                 1                2            4                4  \n",
       "2                 5                4            5                5  \n",
       "3                 3                4            3                3  \n",
       "4                 4                4            4                4  \n",
       "\n",
       "[5 rows x 23 columns]"
      ]
     },
     "execution_count": 92,
     "metadata": {},
     "output_type": "execute_result"
    }
   ],
   "source": [
    "df_train.head()"
   ]
  },
  {
   "cell_type": "code",
   "execution_count": 93,
   "id": "8bf21fce0f8093e8",
   "metadata": {
    "ExecuteTime": {
     "end_time": "2024-09-28T11:14:58.022929Z",
     "start_time": "2024-09-28T11:14:57.944976Z"
    },
    "collapsed": false
   },
   "outputs": [],
   "source": [
    "# cast floats to integers for the platform variable\n",
    "df_train['Platform_Location'] = df_train['Platform_Location'].apply(to_int)\n",
    "\n",
    "# do the same for the assessment set\n",
    "df_assessment['Platform_Location'] = df_assessment['Platform_Location'].apply(to_int)"
   ]
  },
  {
   "cell_type": "code",
   "execution_count": 94,
   "id": "39e1579acab1a6ea",
   "metadata": {
    "ExecuteTime": {
     "end_time": "2024-09-28T11:14:58.907216Z",
     "start_time": "2024-09-28T11:14:58.891226Z"
    },
    "collapsed": false
   },
   "outputs": [],
   "source": [
    "def to_binary(x):\n",
    "    if x < 0.5:\n",
    "        return 0\n",
    "    else:\n",
    "        return 1"
   ]
  },
  {
   "cell_type": "code",
   "execution_count": 95,
   "id": "455e4e827a5c3c52",
   "metadata": {
    "ExecuteTime": {
     "end_time": "2024-09-28T11:14:59.841195Z",
     "start_time": "2024-09-28T11:14:59.633194Z"
    },
    "collapsed": false
   },
   "outputs": [],
   "source": [
    "for col in binary_vars:\n",
    "    df_train[col] = df_train[col].apply(to_binary)\n",
    "    df_assessment[col] = df_assessment[col].apply(to_binary)"
   ]
  },
  {
   "cell_type": "code",
   "execution_count": 96,
   "id": "e8960c3010865712",
   "metadata": {
    "ExecuteTime": {
     "end_time": "2024-09-28T11:15:03.416297Z",
     "start_time": "2024-09-28T11:15:02.278795Z"
    },
    "collapsed": false
   },
   "outputs": [],
   "source": [
    "df_train.to_csv('ProcessedData/train_data_unscaled.csv', index=False)\n",
    "df_assessment.to_csv('ProcessedData/test_data_unscaled.csv', index=False)"
   ]
  },
  {
   "cell_type": "markdown",
   "id": "5e96e11614d8047c",
   "metadata": {
    "collapsed": false
   },
   "source": [
    "# Data Preparation"
   ]
  },
  {
   "cell_type": "markdown",
   "id": "5cb0d3ef677220b2",
   "metadata": {
    "collapsed": false
   },
   "source": [
    "Prepare the data for creation of ML models by splitting into target and features, as well as scaling the data using the standard scaler."
   ]
  },
  {
   "cell_type": "code",
   "execution_count": 97,
   "id": "c144799be9d7754f",
   "metadata": {
    "ExecuteTime": {
     "end_time": "2024-09-28T11:15:07.387250Z",
     "start_time": "2024-09-28T11:15:07.374259Z"
    },
    "collapsed": false
   },
   "outputs": [],
   "source": [
    "#df_train = pd.read_csv(\"ProcessedData/train_data.csv\")\n",
    "#df_assessment = pd.read_csv(\"ProcessedData/test_data.csv\")"
   ]
  },
  {
   "cell_type": "code",
   "execution_count": 98,
   "id": "9ec3c0d8469b271b",
   "metadata": {
    "ExecuteTime": {
     "end_time": "2024-09-28T11:15:07.954914Z",
     "start_time": "2024-09-28T11:15:07.924933Z"
    },
    "collapsed": false
   },
   "outputs": [
    {
     "data": {
      "text/html": [
       "<div>\n",
       "<style scoped>\n",
       "    .dataframe tbody tr th:only-of-type {\n",
       "        vertical-align: middle;\n",
       "    }\n",
       "\n",
       "    .dataframe tbody tr th {\n",
       "        vertical-align: top;\n",
       "    }\n",
       "\n",
       "    .dataframe thead th {\n",
       "        text-align: right;\n",
       "    }\n",
       "</style>\n",
       "<table border=\"1\" class=\"dataframe\">\n",
       "  <thead>\n",
       "    <tr style=\"text-align: right;\">\n",
       "      <th></th>\n",
       "      <th>Gender</th>\n",
       "      <th>Customer_Type</th>\n",
       "      <th>Age</th>\n",
       "      <th>Type_Travel</th>\n",
       "      <th>Travel_Class</th>\n",
       "      <th>Travel_Distance</th>\n",
       "      <th>Departure_Delay_in_Mins</th>\n",
       "      <th>Arrival_Delay_in_Mins</th>\n",
       "      <th>Overall_Experience</th>\n",
       "      <th>Seat_Comfort</th>\n",
       "      <th>...</th>\n",
       "      <th>Onboard_Wifi_Service</th>\n",
       "      <th>Onboard_Entertainment</th>\n",
       "      <th>Online_Support</th>\n",
       "      <th>Ease_of_Online_Booking</th>\n",
       "      <th>Onboard_Service</th>\n",
       "      <th>Legroom</th>\n",
       "      <th>Baggage_Handling</th>\n",
       "      <th>CheckIn_Service</th>\n",
       "      <th>Cleanliness</th>\n",
       "      <th>Online_Boarding</th>\n",
       "    </tr>\n",
       "  </thead>\n",
       "  <tbody>\n",
       "    <tr>\n",
       "      <th>0</th>\n",
       "      <td>0</td>\n",
       "      <td>1</td>\n",
       "      <td>52.0</td>\n",
       "      <td>0</td>\n",
       "      <td>0</td>\n",
       "      <td>272.0</td>\n",
       "      <td>0.0</td>\n",
       "      <td>5.0</td>\n",
       "      <td>0</td>\n",
       "      <td>2</td>\n",
       "      <td>...</td>\n",
       "      <td>4</td>\n",
       "      <td>2</td>\n",
       "      <td>3</td>\n",
       "      <td>2</td>\n",
       "      <td>2</td>\n",
       "      <td>3</td>\n",
       "      <td>2</td>\n",
       "      <td>4</td>\n",
       "      <td>2</td>\n",
       "      <td>1</td>\n",
       "    </tr>\n",
       "    <tr>\n",
       "      <th>1</th>\n",
       "      <td>1</td>\n",
       "      <td>1</td>\n",
       "      <td>48.0</td>\n",
       "      <td>1</td>\n",
       "      <td>1</td>\n",
       "      <td>2200.0</td>\n",
       "      <td>9.0</td>\n",
       "      <td>0.0</td>\n",
       "      <td>0</td>\n",
       "      <td>1</td>\n",
       "      <td>...</td>\n",
       "      <td>4</td>\n",
       "      <td>1</td>\n",
       "      <td>4</td>\n",
       "      <td>4</td>\n",
       "      <td>5</td>\n",
       "      <td>2</td>\n",
       "      <td>1</td>\n",
       "      <td>2</td>\n",
       "      <td>4</td>\n",
       "      <td>4</td>\n",
       "    </tr>\n",
       "    <tr>\n",
       "      <th>2</th>\n",
       "      <td>0</td>\n",
       "      <td>1</td>\n",
       "      <td>43.0</td>\n",
       "      <td>0</td>\n",
       "      <td>0</td>\n",
       "      <td>1061.0</td>\n",
       "      <td>77.0</td>\n",
       "      <td>119.0</td>\n",
       "      <td>1</td>\n",
       "      <td>2</td>\n",
       "      <td>...</td>\n",
       "      <td>2</td>\n",
       "      <td>4</td>\n",
       "      <td>5</td>\n",
       "      <td>5</td>\n",
       "      <td>5</td>\n",
       "      <td>5</td>\n",
       "      <td>5</td>\n",
       "      <td>4</td>\n",
       "      <td>5</td>\n",
       "      <td>5</td>\n",
       "    </tr>\n",
       "    <tr>\n",
       "      <th>3</th>\n",
       "      <td>0</td>\n",
       "      <td>1</td>\n",
       "      <td>44.0</td>\n",
       "      <td>0</td>\n",
       "      <td>0</td>\n",
       "      <td>780.0</td>\n",
       "      <td>13.0</td>\n",
       "      <td>18.0</td>\n",
       "      <td>0</td>\n",
       "      <td>3</td>\n",
       "      <td>...</td>\n",
       "      <td>3</td>\n",
       "      <td>2</td>\n",
       "      <td>3</td>\n",
       "      <td>3</td>\n",
       "      <td>3</td>\n",
       "      <td>3</td>\n",
       "      <td>3</td>\n",
       "      <td>4</td>\n",
       "      <td>3</td>\n",
       "      <td>3</td>\n",
       "    </tr>\n",
       "    <tr>\n",
       "      <th>4</th>\n",
       "      <td>0</td>\n",
       "      <td>1</td>\n",
       "      <td>50.0</td>\n",
       "      <td>0</td>\n",
       "      <td>0</td>\n",
       "      <td>1981.0</td>\n",
       "      <td>0.0</td>\n",
       "      <td>0.0</td>\n",
       "      <td>1</td>\n",
       "      <td>3</td>\n",
       "      <td>...</td>\n",
       "      <td>2</td>\n",
       "      <td>4</td>\n",
       "      <td>5</td>\n",
       "      <td>4</td>\n",
       "      <td>4</td>\n",
       "      <td>4</td>\n",
       "      <td>4</td>\n",
       "      <td>4</td>\n",
       "      <td>4</td>\n",
       "      <td>4</td>\n",
       "    </tr>\n",
       "  </tbody>\n",
       "</table>\n",
       "<p>5 rows × 23 columns</p>\n",
       "</div>"
      ],
      "text/plain": [
       "   Gender  Customer_Type   Age  Type_Travel  Travel_Class  Travel_Distance  \\\n",
       "0       0              1  52.0            0             0            272.0   \n",
       "1       1              1  48.0            1             1           2200.0   \n",
       "2       0              1  43.0            0             0           1061.0   \n",
       "3       0              1  44.0            0             0            780.0   \n",
       "4       0              1  50.0            0             0           1981.0   \n",
       "\n",
       "   Departure_Delay_in_Mins  Arrival_Delay_in_Mins  Overall_Experience  \\\n",
       "0                      0.0                    5.0                   0   \n",
       "1                      9.0                    0.0                   0   \n",
       "2                     77.0                  119.0                   1   \n",
       "3                     13.0                   18.0                   0   \n",
       "4                      0.0                    0.0                   1   \n",
       "\n",
       "   Seat_Comfort  ...  Onboard_Wifi_Service  Onboard_Entertainment  \\\n",
       "0             2  ...                     4                      2   \n",
       "1             1  ...                     4                      1   \n",
       "2             2  ...                     2                      4   \n",
       "3             3  ...                     3                      2   \n",
       "4             3  ...                     2                      4   \n",
       "\n",
       "   Online_Support  Ease_of_Online_Booking  Onboard_Service  Legroom  \\\n",
       "0               3                       2                2        3   \n",
       "1               4                       4                5        2   \n",
       "2               5                       5                5        5   \n",
       "3               3                       3                3        3   \n",
       "4               5                       4                4        4   \n",
       "\n",
       "   Baggage_Handling  CheckIn_Service  Cleanliness  Online_Boarding  \n",
       "0                 2                4            2                1  \n",
       "1                 1                2            4                4  \n",
       "2                 5                4            5                5  \n",
       "3                 3                4            3                3  \n",
       "4                 4                4            4                4  \n",
       "\n",
       "[5 rows x 23 columns]"
      ]
     },
     "execution_count": 98,
     "metadata": {},
     "output_type": "execute_result"
    }
   ],
   "source": [
    "df_train.head()"
   ]
  },
  {
   "cell_type": "code",
   "execution_count": 99,
   "id": "6bfca1ce9ea6fdb1",
   "metadata": {
    "ExecuteTime": {
     "end_time": "2024-09-28T11:15:09.005344Z",
     "start_time": "2024-09-28T11:15:08.952360Z"
    },
    "collapsed": false
   },
   "outputs": [],
   "source": [
    "# get a dataframe of only the target features\n",
    "Y: pd.Series = df_train[target]\n",
    "\n",
    "X: pd.DataFrame = df_train.drop(columns=target).copy()"
   ]
  },
  {
   "cell_type": "code",
   "execution_count": 100,
   "id": "a4f45d1433f2a7e3",
   "metadata": {
    "ExecuteTime": {
     "end_time": "2024-09-28T11:15:10.602810Z",
     "start_time": "2024-09-28T11:15:10.588819Z"
    },
    "collapsed": false
   },
   "outputs": [],
   "source": [
    "from sklearn.preprocessing import StandardScaler\n"
   ]
  },
  {
   "cell_type": "code",
   "execution_count": 101,
   "id": "75a24df39a22b1ab",
   "metadata": {
    "ExecuteTime": {
     "end_time": "2024-09-28T11:15:14.313388Z",
     "start_time": "2024-09-28T11:15:14.227453Z"
    },
    "collapsed": false
   },
   "outputs": [],
   "source": [
    "# initialize the standard scalar instance\n",
    "sc = StandardScaler()\n",
    "\n",
    "sc.fit(X)\n",
    "\n",
    "scaled_X_train = sc.transform(X)\n",
    "\n",
    "scaled_X_test = sc.transform(df_assessment)"
   ]
  },
  {
   "cell_type": "code",
   "execution_count": 102,
   "id": "1fdfb3928cecb4a5",
   "metadata": {
    "ExecuteTime": {
     "end_time": "2024-09-28T11:15:18.532454Z",
     "start_time": "2024-09-28T11:15:18.520460Z"
    },
    "collapsed": false
   },
   "outputs": [],
   "source": [
    "df_train_scaled: pd.DataFrame = pd.DataFrame(data=scaled_X_train, columns=X.columns)\n",
    "\n",
    "# get the target col back\n",
    "df_train_scaled[target] = Y\n",
    "\n",
    "X_test_scaled: pd.DataFrame = pd.DataFrame(data=scaled_X_test, columns=df_assessment.columns)"
   ]
  },
  {
   "cell_type": "code",
   "execution_count": 103,
   "id": "5db2aab93c897046",
   "metadata": {
    "ExecuteTime": {
     "end_time": "2024-09-28T11:15:23.882367Z",
     "start_time": "2024-09-28T11:15:19.201633Z"
    },
    "collapsed": false
   },
   "outputs": [],
   "source": [
    "df_train_scaled.to_csv(\"ProcessedData/train_scaled.csv\", index=False)\n",
    "X_test_scaled.to_csv('ProcessedData/X_test_scaled.csv', index=False)"
   ]
  }
 ],
 "metadata": {
  "kernelspec": {
   "display_name": "Python 3 (ipykernel)",
   "language": "python",
   "name": "python3"
  },
  "language_info": {
   "codemirror_mode": {
    "name": "ipython",
    "version": 3
   },
   "file_extension": ".py",
   "mimetype": "text/x-python",
   "name": "python",
   "nbconvert_exporter": "python",
   "pygments_lexer": "ipython3",
   "version": "3.11.5"
  }
 },
 "nbformat": 4,
 "nbformat_minor": 5
}
