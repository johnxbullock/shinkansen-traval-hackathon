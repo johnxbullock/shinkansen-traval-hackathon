{
 "cells": [
  {
   "cell_type": "code",
   "execution_count": 1,
   "id": "initial_id",
   "metadata": {
    "collapsed": true,
    "ExecuteTime": {
     "end_time": "2024-09-28T07:25:23.991976Z",
     "start_time": "2024-09-28T07:25:19.951812Z"
    }
   },
   "outputs": [],
   "source": [
    "# import the necessary libraries\n",
    "\n",
    "# numpy for numerical computations and arrays\n",
    "import numpy as np\n",
    "import pandas as pd\n",
    "\n",
    "# for splitting data into training and testing sets\n",
    "from sklearn.model_selection import train_test_split\n",
    "\n",
    "# import the Support Vector Module\n",
    "from sklearn.svm import SVC\n",
    "\n",
    "# evaluation metrics\n",
    "from sklearn import metrics\n",
    "from sklearn.metrics import confusion_matrix, classification_report, precision_recall_curve, recall_score, average_precision_score\n",
    "from sklearn.metrics import roc_curve\n",
    "\n",
    "# for tuning the model \n",
    "from sklearn.model_selection import GridSearchCV"
   ]
  },
  {
   "cell_type": "markdown",
   "source": [
    "# Import the data"
   ],
   "metadata": {
    "collapsed": false
   },
   "id": "92c0546a7e4c9ead"
  },
  {
   "cell_type": "code",
   "outputs": [],
   "source": [
    "# use the scaled data\n",
    "df = pd.read_csv('ProcessedData/train_scaled.csv')\n",
    "\n",
    "# reset the index\n",
    "df = df.set_index(keys='Unnamed: 0')\n",
    "\n",
    "# get the assessment data set\n",
    "df_assess = pd.read_csv('Data/Surveydata_test.csv')"
   ],
   "metadata": {
    "collapsed": false
   },
   "id": "5c36a1489feafd2"
  },
  {
   "cell_type": "markdown",
   "source": [
    "# Prepare the data"
   ],
   "metadata": {
    "collapsed": false
   },
   "id": "ca524f1307688703"
  },
  {
   "cell_type": "markdown",
   "source": [
    "# Splitting Data into test and target sets"
   ],
   "metadata": {
    "collapsed": false
   },
   "id": "ff7b502243c2fecd"
  },
  {
   "cell_type": "code",
   "outputs": [],
   "source": [
    "# split data into features and target\n",
    "\n",
    "# class\n",
    "Y = df['Overall_Experience']\n",
    "\n",
    "# features\n",
    "X = df.drop(columns='Overall_Experience')"
   ],
   "metadata": {
    "collapsed": false
   },
   "id": "39fa771ddd374a98"
  },
  {
   "cell_type": "markdown",
   "source": [
    "# Splitting data into test and training sets"
   ],
   "metadata": {
    "collapsed": false
   },
   "id": "35896f28a909841c"
  },
  {
   "cell_type": "code",
   "outputs": [],
   "source": [
    "# split data into train and test sets\n",
    "X_train, X_test, Y_train, Y_test = train_test_split(X, Y, test_size=0.3, random_state=1)"
   ],
   "metadata": {
    "collapsed": false
   },
   "id": "be3c99b18ed1b60c"
  }
 ],
 "metadata": {
  "kernelspec": {
   "display_name": "Python 3",
   "language": "python",
   "name": "python3"
  },
  "language_info": {
   "codemirror_mode": {
    "name": "ipython",
    "version": 2
   },
   "file_extension": ".py",
   "mimetype": "text/x-python",
   "name": "python",
   "nbconvert_exporter": "python",
   "pygments_lexer": "ipython2",
   "version": "2.7.6"
  }
 },
 "nbformat": 4,
 "nbformat_minor": 5
}
