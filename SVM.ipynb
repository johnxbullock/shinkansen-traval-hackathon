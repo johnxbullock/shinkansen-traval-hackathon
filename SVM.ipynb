{
 "cells": [
  {
   "cell_type": "code",
   "execution_count": 46,
   "id": "initial_id",
   "metadata": {
    "collapsed": true,
    "ExecuteTime": {
     "end_time": "2024-09-28T11:48:04.189206Z",
     "start_time": "2024-09-28T11:48:04.173201Z"
    }
   },
   "outputs": [],
   "source": [
    "# import the necessary libraries\n",
    "\n",
    "# numpy for numerical computations and arrays\n",
    "import numpy as np\n",
    "import pandas as pd\n",
    "\n",
    "# for splitting data into training and testing sets\n",
    "from sklearn.model_selection import train_test_split\n",
    "\n",
    "# import the Support Vector Module\n",
    "from sklearn.svm import SVC\n",
    "\n",
    "# evaluation metrics\n",
    "from sklearn import metrics\n",
    "from sklearn.metrics import confusion_matrix, classification_report, precision_recall_curve, recall_score, average_precision_score\n",
    "from sklearn.metrics import roc_curve\n",
    "\n",
    "# for tuning the model \n",
    "from sklearn.model_selection import GridSearchCV, StratifiedShuffleSplit\n",
    "\n",
    "# import libraries for visualizing results\n",
    "from matplotlib import pyplot as plt\n",
    "import seaborn as sns\n",
    "\n",
    "# import utility functions\n",
    "#from Utils.evaluate import Evaluator\n"
   ]
  },
  {
   "cell_type": "markdown",
   "source": [
    "# Import the data"
   ],
   "metadata": {
    "collapsed": false
   },
   "id": "92c0546a7e4c9ead"
  },
  {
   "cell_type": "code",
   "outputs": [
    {
     "data": {
      "text/plain": "     Gender  Customer_Type       Age  Type_Travel  Travel_Class  \\\n0 -0.986183       0.469409  0.832354    -0.667882     -1.046703   \n1  1.014010       0.469409  0.567700     1.497270      0.955380   \n2 -0.986183       0.469409  0.236883    -0.667882     -1.046703   \n3 -0.986183       0.469409  0.303047    -0.667882     -1.046703   \n4 -0.986183       0.469409  0.700027    -0.667882     -1.046703   \n\n   Travel_Distance  Departure_Delay_in_Mins  Arrival_Delay_in_Mins  \\\n0        -1.660469                -0.384168              -0.261250   \n1         0.215099                -0.148115              -0.390872   \n2        -0.892926                 1.635395               2.694135   \n3        -1.166284                -0.043202               0.075767   \n4         0.002054                -0.384168              -0.390872   \n\n   Seat_Comfort  Arrival_Time_Convenient  ...  Onboard_Entertainment  \\\n0     -0.729514                 1.347471  ...              -1.152971   \n1     -1.502953                 1.347471  ...              -1.949232   \n2     -0.729514                -0.851080  ...               0.439551   \n3      0.043925                -0.851080  ...              -1.152971   \n4      0.043925                -0.118229  ...               0.439551   \n\n   Online_Support  Ease_of_Online_Booking  Onboard_Service   Legroom  \\\n0       -0.397119               -1.127257        -1.176984 -0.387739   \n1        0.367413                0.405643         1.221517 -1.171161   \n2        1.131945                1.172093         1.221517  1.179105   \n3       -0.397119               -0.360807        -0.377484 -0.387739   \n4        1.131945                0.405643         0.422017  0.395683   \n\n   Baggage_Handling  CheckIn_Service  Cleanliness  Online_Boarding  \\\n0         -1.467601         0.521801    -1.479684        -1.812778   \n1         -2.332568        -1.065508     0.256870         0.499214   \n2          1.127302         0.521801     1.125147         1.269878   \n3         -0.602633         0.521801    -0.611407        -0.271450   \n4          0.262334         0.521801     0.256870         0.499214   \n\n   Overall_Experience  \n0                   0  \n1                   0  \n2                   1  \n3                   0  \n4                   1  \n\n[5 rows x 23 columns]",
      "text/html": "<div>\n<style scoped>\n    .dataframe tbody tr th:only-of-type {\n        vertical-align: middle;\n    }\n\n    .dataframe tbody tr th {\n        vertical-align: top;\n    }\n\n    .dataframe thead th {\n        text-align: right;\n    }\n</style>\n<table border=\"1\" class=\"dataframe\">\n  <thead>\n    <tr style=\"text-align: right;\">\n      <th></th>\n      <th>Gender</th>\n      <th>Customer_Type</th>\n      <th>Age</th>\n      <th>Type_Travel</th>\n      <th>Travel_Class</th>\n      <th>Travel_Distance</th>\n      <th>Departure_Delay_in_Mins</th>\n      <th>Arrival_Delay_in_Mins</th>\n      <th>Seat_Comfort</th>\n      <th>Arrival_Time_Convenient</th>\n      <th>...</th>\n      <th>Onboard_Entertainment</th>\n      <th>Online_Support</th>\n      <th>Ease_of_Online_Booking</th>\n      <th>Onboard_Service</th>\n      <th>Legroom</th>\n      <th>Baggage_Handling</th>\n      <th>CheckIn_Service</th>\n      <th>Cleanliness</th>\n      <th>Online_Boarding</th>\n      <th>Overall_Experience</th>\n    </tr>\n  </thead>\n  <tbody>\n    <tr>\n      <th>0</th>\n      <td>-0.986183</td>\n      <td>0.469409</td>\n      <td>0.832354</td>\n      <td>-0.667882</td>\n      <td>-1.046703</td>\n      <td>-1.660469</td>\n      <td>-0.384168</td>\n      <td>-0.261250</td>\n      <td>-0.729514</td>\n      <td>1.347471</td>\n      <td>...</td>\n      <td>-1.152971</td>\n      <td>-0.397119</td>\n      <td>-1.127257</td>\n      <td>-1.176984</td>\n      <td>-0.387739</td>\n      <td>-1.467601</td>\n      <td>0.521801</td>\n      <td>-1.479684</td>\n      <td>-1.812778</td>\n      <td>0</td>\n    </tr>\n    <tr>\n      <th>1</th>\n      <td>1.014010</td>\n      <td>0.469409</td>\n      <td>0.567700</td>\n      <td>1.497270</td>\n      <td>0.955380</td>\n      <td>0.215099</td>\n      <td>-0.148115</td>\n      <td>-0.390872</td>\n      <td>-1.502953</td>\n      <td>1.347471</td>\n      <td>...</td>\n      <td>-1.949232</td>\n      <td>0.367413</td>\n      <td>0.405643</td>\n      <td>1.221517</td>\n      <td>-1.171161</td>\n      <td>-2.332568</td>\n      <td>-1.065508</td>\n      <td>0.256870</td>\n      <td>0.499214</td>\n      <td>0</td>\n    </tr>\n    <tr>\n      <th>2</th>\n      <td>-0.986183</td>\n      <td>0.469409</td>\n      <td>0.236883</td>\n      <td>-0.667882</td>\n      <td>-1.046703</td>\n      <td>-0.892926</td>\n      <td>1.635395</td>\n      <td>2.694135</td>\n      <td>-0.729514</td>\n      <td>-0.851080</td>\n      <td>...</td>\n      <td>0.439551</td>\n      <td>1.131945</td>\n      <td>1.172093</td>\n      <td>1.221517</td>\n      <td>1.179105</td>\n      <td>1.127302</td>\n      <td>0.521801</td>\n      <td>1.125147</td>\n      <td>1.269878</td>\n      <td>1</td>\n    </tr>\n    <tr>\n      <th>3</th>\n      <td>-0.986183</td>\n      <td>0.469409</td>\n      <td>0.303047</td>\n      <td>-0.667882</td>\n      <td>-1.046703</td>\n      <td>-1.166284</td>\n      <td>-0.043202</td>\n      <td>0.075767</td>\n      <td>0.043925</td>\n      <td>-0.851080</td>\n      <td>...</td>\n      <td>-1.152971</td>\n      <td>-0.397119</td>\n      <td>-0.360807</td>\n      <td>-0.377484</td>\n      <td>-0.387739</td>\n      <td>-0.602633</td>\n      <td>0.521801</td>\n      <td>-0.611407</td>\n      <td>-0.271450</td>\n      <td>0</td>\n    </tr>\n    <tr>\n      <th>4</th>\n      <td>-0.986183</td>\n      <td>0.469409</td>\n      <td>0.700027</td>\n      <td>-0.667882</td>\n      <td>-1.046703</td>\n      <td>0.002054</td>\n      <td>-0.384168</td>\n      <td>-0.390872</td>\n      <td>0.043925</td>\n      <td>-0.118229</td>\n      <td>...</td>\n      <td>0.439551</td>\n      <td>1.131945</td>\n      <td>0.405643</td>\n      <td>0.422017</td>\n      <td>0.395683</td>\n      <td>0.262334</td>\n      <td>0.521801</td>\n      <td>0.256870</td>\n      <td>0.499214</td>\n      <td>1</td>\n    </tr>\n  </tbody>\n</table>\n<p>5 rows × 23 columns</p>\n</div>"
     },
     "execution_count": 40,
     "metadata": {},
     "output_type": "execute_result"
    }
   ],
   "source": [
    "# use the scaled data\n",
    "df = pd.read_csv('ProcessedData/train_scaled.csv')\n",
    "\n",
    "# get the assessment data set\n",
    "df_assess = pd.read_csv('Data/Surveydata_test.csv')\n",
    "\n",
    "# import the assessment data \n",
    "X_assess_df = pd.read_csv('ProcessedData/X_test_scaled.csv')\n",
    "\n",
    "# inspect the dataset\n",
    "df.head()"
   ],
   "metadata": {
    "collapsed": false,
    "ExecuteTime": {
     "end_time": "2024-09-28T11:29:11.121375Z",
     "start_time": "2024-09-28T11:29:09.907032Z"
    }
   },
   "id": "6c486b5ccde4b29d",
   "execution_count": 40
  },
  {
   "cell_type": "markdown",
   "source": [
    "# Prepare the data"
   ],
   "metadata": {
    "collapsed": false
   },
   "id": "ca524f1307688703"
  },
  {
   "cell_type": "markdown",
   "source": [
    "# Splitting Data into test and target sets"
   ],
   "metadata": {
    "collapsed": false
   },
   "id": "ff7b502243c2fecd"
  },
  {
   "cell_type": "code",
   "outputs": [],
   "source": [
    "# split data into features and target\n",
    "\n",
    "# class\n",
    "Y = df['Overall_Experience']\n",
    "\n",
    "# features\n",
    "X = df.drop(columns='Overall_Experience')"
   ],
   "metadata": {
    "collapsed": false,
    "ExecuteTime": {
     "end_time": "2024-09-28T11:29:38.027546Z",
     "start_time": "2024-09-28T11:29:37.986570Z"
    }
   },
   "id": "39fa771ddd374a98",
   "execution_count": 41
  },
  {
   "cell_type": "markdown",
   "source": [
    "# Splitting data into test and training sets"
   ],
   "metadata": {
    "collapsed": false
   },
   "id": "35896f28a909841c"
  },
  {
   "cell_type": "code",
   "outputs": [],
   "source": [
    "# split data into train and test sets\n",
    "X_train, X_test, Y_train, Y_test = train_test_split(X, Y, test_size=0.3, random_state=1)"
   ],
   "metadata": {
    "collapsed": false,
    "ExecuteTime": {
     "end_time": "2024-09-28T11:29:40.012708Z",
     "start_time": "2024-09-28T11:29:39.877770Z"
    }
   },
   "id": "be3c99b18ed1b60c",
   "execution_count": 42
  },
  {
   "cell_type": "markdown",
   "source": [
    "# Functions for model evaluation"
   ],
   "metadata": {
    "collapsed": false
   },
   "id": "b1271b9091adaf6a"
  },
  {
   "cell_type": "code",
   "outputs": [],
   "source": [
    "# Creating metric function \n",
    "def metrics_score(model, x_test, y_test):\n",
    "    \n",
    "    y_pred = model.predict(x_test)\n",
    "    \n",
    "    print(classification_report(y_test, y_pred))\n",
    "\n",
    "    cm = confusion_matrix(y_test, y_pred)\n",
    "    plt.figure(figsize=(8,5))\n",
    "    \n",
    "    sns.heatmap(cm, annot=True,  fmt='.2f', xticklabels=['Not Attrite', 'Attrite'], yticklabels=['Not Attrite', 'Attrite'])\n",
    "    plt.ylabel('Actual')\n",
    "    plt.xlabel('Predicted')\n",
    "    plt.show()"
   ],
   "metadata": {
    "collapsed": false,
    "ExecuteTime": {
     "end_time": "2024-09-28T11:29:42.527897Z",
     "start_time": "2024-09-28T11:29:42.513905Z"
    }
   },
   "id": "1d8612cf9a2f03c4",
   "execution_count": 43
  },
  {
   "cell_type": "markdown",
   "source": [
    "# Model Building"
   ],
   "metadata": {
    "collapsed": false
   },
   "id": "187c05abc0ffb465"
  },
  {
   "cell_type": "markdown",
   "source": [
    "## Model 1 (Linear Baseline)"
   ],
   "metadata": {
    "collapsed": false
   },
   "id": "95c3a58b182bbd7d"
  },
  {
   "cell_type": "code",
   "outputs": [
    {
     "data": {
      "text/plain": "SVC(class_weight={0: 0.45, 1: 0.55}, kernel='linear', random_state=1)",
      "text/html": "<style>#sk-container-id-1 {color: black;}#sk-container-id-1 pre{padding: 0;}#sk-container-id-1 div.sk-toggleable {background-color: white;}#sk-container-id-1 label.sk-toggleable__label {cursor: pointer;display: block;width: 100%;margin-bottom: 0;padding: 0.3em;box-sizing: border-box;text-align: center;}#sk-container-id-1 label.sk-toggleable__label-arrow:before {content: \"▸\";float: left;margin-right: 0.25em;color: #696969;}#sk-container-id-1 label.sk-toggleable__label-arrow:hover:before {color: black;}#sk-container-id-1 div.sk-estimator:hover label.sk-toggleable__label-arrow:before {color: black;}#sk-container-id-1 div.sk-toggleable__content {max-height: 0;max-width: 0;overflow: hidden;text-align: left;background-color: #f0f8ff;}#sk-container-id-1 div.sk-toggleable__content pre {margin: 0.2em;color: black;border-radius: 0.25em;background-color: #f0f8ff;}#sk-container-id-1 input.sk-toggleable__control:checked~div.sk-toggleable__content {max-height: 200px;max-width: 100%;overflow: auto;}#sk-container-id-1 input.sk-toggleable__control:checked~label.sk-toggleable__label-arrow:before {content: \"▾\";}#sk-container-id-1 div.sk-estimator input.sk-toggleable__control:checked~label.sk-toggleable__label {background-color: #d4ebff;}#sk-container-id-1 div.sk-label input.sk-toggleable__control:checked~label.sk-toggleable__label {background-color: #d4ebff;}#sk-container-id-1 input.sk-hidden--visually {border: 0;clip: rect(1px 1px 1px 1px);clip: rect(1px, 1px, 1px, 1px);height: 1px;margin: -1px;overflow: hidden;padding: 0;position: absolute;width: 1px;}#sk-container-id-1 div.sk-estimator {font-family: monospace;background-color: #f0f8ff;border: 1px dotted black;border-radius: 0.25em;box-sizing: border-box;margin-bottom: 0.5em;}#sk-container-id-1 div.sk-estimator:hover {background-color: #d4ebff;}#sk-container-id-1 div.sk-parallel-item::after {content: \"\";width: 100%;border-bottom: 1px solid gray;flex-grow: 1;}#sk-container-id-1 div.sk-label:hover label.sk-toggleable__label {background-color: #d4ebff;}#sk-container-id-1 div.sk-serial::before {content: \"\";position: absolute;border-left: 1px solid gray;box-sizing: border-box;top: 0;bottom: 0;left: 50%;z-index: 0;}#sk-container-id-1 div.sk-serial {display: flex;flex-direction: column;align-items: center;background-color: white;padding-right: 0.2em;padding-left: 0.2em;position: relative;}#sk-container-id-1 div.sk-item {position: relative;z-index: 1;}#sk-container-id-1 div.sk-parallel {display: flex;align-items: stretch;justify-content: center;background-color: white;position: relative;}#sk-container-id-1 div.sk-item::before, #sk-container-id-1 div.sk-parallel-item::before {content: \"\";position: absolute;border-left: 1px solid gray;box-sizing: border-box;top: 0;bottom: 0;left: 50%;z-index: -1;}#sk-container-id-1 div.sk-parallel-item {display: flex;flex-direction: column;z-index: 1;position: relative;background-color: white;}#sk-container-id-1 div.sk-parallel-item:first-child::after {align-self: flex-end;width: 50%;}#sk-container-id-1 div.sk-parallel-item:last-child::after {align-self: flex-start;width: 50%;}#sk-container-id-1 div.sk-parallel-item:only-child::after {width: 0;}#sk-container-id-1 div.sk-dashed-wrapped {border: 1px dashed gray;margin: 0 0.4em 0.5em 0.4em;box-sizing: border-box;padding-bottom: 0.4em;background-color: white;}#sk-container-id-1 div.sk-label label {font-family: monospace;font-weight: bold;display: inline-block;line-height: 1.2em;}#sk-container-id-1 div.sk-label-container {text-align: center;}#sk-container-id-1 div.sk-container {/* jupyter's `normalize.less` sets `[hidden] { display: none; }` but bootstrap.min.css set `[hidden] { display: none !important; }` so we also need the `!important` here to be able to override the default hidden behavior on the sphinx rendered scikit-learn.org. See: https://github.com/scikit-learn/scikit-learn/issues/21755 */display: inline-block !important;position: relative;}#sk-container-id-1 div.sk-text-repr-fallback {display: none;}</style><div id=\"sk-container-id-1\" class=\"sk-top-container\"><div class=\"sk-text-repr-fallback\"><pre>SVC(class_weight={0: 0.45, 1: 0.55}, kernel=&#x27;linear&#x27;, random_state=1)</pre><b>In a Jupyter environment, please rerun this cell to show the HTML representation or trust the notebook. <br />On GitHub, the HTML representation is unable to render, please try loading this page with nbviewer.org.</b></div><div class=\"sk-container\" hidden><div class=\"sk-item\"><div class=\"sk-estimator sk-toggleable\"><input class=\"sk-toggleable__control sk-hidden--visually\" id=\"sk-estimator-id-1\" type=\"checkbox\" checked><label for=\"sk-estimator-id-1\" class=\"sk-toggleable__label sk-toggleable__label-arrow\">SVC</label><div class=\"sk-toggleable__content\"><pre>SVC(class_weight={0: 0.45, 1: 0.55}, kernel=&#x27;linear&#x27;, random_state=1)</pre></div></div></div></div></div>"
     },
     "execution_count": 25,
     "metadata": {},
     "output_type": "execute_result"
    }
   ],
   "source": [
    "#  initialize a SVM with linear decision boundaries\n",
    "model1 = SVC(kernel='linear', class_weight={1: 0.55, 0: 0.45}, random_state=1)\n",
    "\n",
    "# fit the data to the SVM\n",
    "model1.fit(X=X_train, y=Y_train)"
   ],
   "metadata": {
    "collapsed": false,
    "ExecuteTime": {
     "end_time": "2024-09-28T08:11:24.621111Z",
     "start_time": "2024-09-28T08:06:07.538442Z"
    }
   },
   "id": "4dd86038ca80ed91",
   "execution_count": 25
  },
  {
   "cell_type": "code",
   "outputs": [],
   "source": [
    "y_pred = model1.predict(X_test)"
   ],
   "metadata": {
    "collapsed": false,
    "ExecuteTime": {
     "end_time": "2024-09-28T08:12:37.881327Z",
     "start_time": "2024-09-28T08:12:13.561188Z"
    }
   },
   "id": "25815998a37e491e",
   "execution_count": 26
  },
  {
   "cell_type": "markdown",
   "source": [
    "## Model 2 (RBF baseline)"
   ],
   "metadata": {
    "collapsed": false
   },
   "id": "a91f790a55729beb"
  },
  {
   "cell_type": "code",
   "outputs": [
    {
     "data": {
      "text/plain": "SVC(class_weight={0: 0.45, 1: 0.55}, random_state=1)",
      "text/html": "<style>#sk-container-id-2 {color: black;}#sk-container-id-2 pre{padding: 0;}#sk-container-id-2 div.sk-toggleable {background-color: white;}#sk-container-id-2 label.sk-toggleable__label {cursor: pointer;display: block;width: 100%;margin-bottom: 0;padding: 0.3em;box-sizing: border-box;text-align: center;}#sk-container-id-2 label.sk-toggleable__label-arrow:before {content: \"▸\";float: left;margin-right: 0.25em;color: #696969;}#sk-container-id-2 label.sk-toggleable__label-arrow:hover:before {color: black;}#sk-container-id-2 div.sk-estimator:hover label.sk-toggleable__label-arrow:before {color: black;}#sk-container-id-2 div.sk-toggleable__content {max-height: 0;max-width: 0;overflow: hidden;text-align: left;background-color: #f0f8ff;}#sk-container-id-2 div.sk-toggleable__content pre {margin: 0.2em;color: black;border-radius: 0.25em;background-color: #f0f8ff;}#sk-container-id-2 input.sk-toggleable__control:checked~div.sk-toggleable__content {max-height: 200px;max-width: 100%;overflow: auto;}#sk-container-id-2 input.sk-toggleable__control:checked~label.sk-toggleable__label-arrow:before {content: \"▾\";}#sk-container-id-2 div.sk-estimator input.sk-toggleable__control:checked~label.sk-toggleable__label {background-color: #d4ebff;}#sk-container-id-2 div.sk-label input.sk-toggleable__control:checked~label.sk-toggleable__label {background-color: #d4ebff;}#sk-container-id-2 input.sk-hidden--visually {border: 0;clip: rect(1px 1px 1px 1px);clip: rect(1px, 1px, 1px, 1px);height: 1px;margin: -1px;overflow: hidden;padding: 0;position: absolute;width: 1px;}#sk-container-id-2 div.sk-estimator {font-family: monospace;background-color: #f0f8ff;border: 1px dotted black;border-radius: 0.25em;box-sizing: border-box;margin-bottom: 0.5em;}#sk-container-id-2 div.sk-estimator:hover {background-color: #d4ebff;}#sk-container-id-2 div.sk-parallel-item::after {content: \"\";width: 100%;border-bottom: 1px solid gray;flex-grow: 1;}#sk-container-id-2 div.sk-label:hover label.sk-toggleable__label {background-color: #d4ebff;}#sk-container-id-2 div.sk-serial::before {content: \"\";position: absolute;border-left: 1px solid gray;box-sizing: border-box;top: 0;bottom: 0;left: 50%;z-index: 0;}#sk-container-id-2 div.sk-serial {display: flex;flex-direction: column;align-items: center;background-color: white;padding-right: 0.2em;padding-left: 0.2em;position: relative;}#sk-container-id-2 div.sk-item {position: relative;z-index: 1;}#sk-container-id-2 div.sk-parallel {display: flex;align-items: stretch;justify-content: center;background-color: white;position: relative;}#sk-container-id-2 div.sk-item::before, #sk-container-id-2 div.sk-parallel-item::before {content: \"\";position: absolute;border-left: 1px solid gray;box-sizing: border-box;top: 0;bottom: 0;left: 50%;z-index: -1;}#sk-container-id-2 div.sk-parallel-item {display: flex;flex-direction: column;z-index: 1;position: relative;background-color: white;}#sk-container-id-2 div.sk-parallel-item:first-child::after {align-self: flex-end;width: 50%;}#sk-container-id-2 div.sk-parallel-item:last-child::after {align-self: flex-start;width: 50%;}#sk-container-id-2 div.sk-parallel-item:only-child::after {width: 0;}#sk-container-id-2 div.sk-dashed-wrapped {border: 1px dashed gray;margin: 0 0.4em 0.5em 0.4em;box-sizing: border-box;padding-bottom: 0.4em;background-color: white;}#sk-container-id-2 div.sk-label label {font-family: monospace;font-weight: bold;display: inline-block;line-height: 1.2em;}#sk-container-id-2 div.sk-label-container {text-align: center;}#sk-container-id-2 div.sk-container {/* jupyter's `normalize.less` sets `[hidden] { display: none; }` but bootstrap.min.css set `[hidden] { display: none !important; }` so we also need the `!important` here to be able to override the default hidden behavior on the sphinx rendered scikit-learn.org. See: https://github.com/scikit-learn/scikit-learn/issues/21755 */display: inline-block !important;position: relative;}#sk-container-id-2 div.sk-text-repr-fallback {display: none;}</style><div id=\"sk-container-id-2\" class=\"sk-top-container\"><div class=\"sk-text-repr-fallback\"><pre>SVC(class_weight={0: 0.45, 1: 0.55}, random_state=1)</pre><b>In a Jupyter environment, please rerun this cell to show the HTML representation or trust the notebook. <br />On GitHub, the HTML representation is unable to render, please try loading this page with nbviewer.org.</b></div><div class=\"sk-container\" hidden><div class=\"sk-item\"><div class=\"sk-estimator sk-toggleable\"><input class=\"sk-toggleable__control sk-hidden--visually\" id=\"sk-estimator-id-2\" type=\"checkbox\" checked><label for=\"sk-estimator-id-2\" class=\"sk-toggleable__label sk-toggleable__label-arrow\">SVC</label><div class=\"sk-toggleable__content\"><pre>SVC(class_weight={0: 0.45, 1: 0.55}, random_state=1)</pre></div></div></div></div></div>"
     },
     "execution_count": 32,
     "metadata": {},
     "output_type": "execute_result"
    }
   ],
   "source": [
    "# initialize the model \n",
    "model2 = SVC(kernel='rbf', class_weight={1: 0.55, 0: 0.45}, random_state=1)\n",
    "\n",
    "# fit the data to the model \n",
    "model2.fit(X=X_train, y=Y_train)"
   ],
   "metadata": {
    "collapsed": false,
    "ExecuteTime": {
     "end_time": "2024-09-28T08:27:14.541720Z",
     "start_time": "2024-09-28T08:24:24.858711Z"
    }
   },
   "id": "dd5640d248b03d8a",
   "execution_count": 32
  },
  {
   "cell_type": "markdown",
   "source": [
    "Improved accuracy using the rbf basis function. No overfitting."
   ],
   "metadata": {
    "collapsed": false
   },
   "id": "12dec1d3e287048"
  },
  {
   "cell_type": "markdown",
   "source": [
    "## Model 3 - Tuned SVM"
   ],
   "metadata": {
    "collapsed": false
   },
   "id": "234a218bde81ba2d"
  },
  {
   "cell_type": "code",
   "outputs": [],
   "source": [
    "# initialize the estimator to be tuned\n",
    "model3 = SVC(class_weight={1: 0.55, 0: 0.45}, random_state=1)\n",
    "\n",
    "# range of C values to test \n",
    "C_range = np.logspace(-2, 10, 13)\n",
    "\n",
    "# range of gammas to test\n",
    "gamma_range = np.logspace(-9, 3, 13)\n",
    "\n",
    "# cross validation \n",
    "cv = StratifiedShuffleSplit(n_splits=5, test_size=0.2, random_state=42)\n",
    "\n",
    "# grid of params to choose from\n",
    "params3 = dict(gamma=gamma_range, C=C_range)\n",
    "\n",
    "# initalize the grid\n",
    "grid = GridSearchCV(model3, param_grid=params3, cv=cv)\n",
    "\n",
    "grid.fit(X_train, Y_train)\n",
    "\n",
    "print(\n",
    "    \"The best parameters are %s with a score of %0.2f\"\n",
    "    % (grid.best_params_, grid.best_score_)\n",
    ")"
   ],
   "metadata": {
    "collapsed": false,
    "is_executing": true,
    "ExecuteTime": {
     "start_time": "2024-09-28T11:48:08.256347Z"
    }
   },
   "id": "266dc75f2dc3a3dd",
   "execution_count": null
  },
  {
   "cell_type": "code",
   "outputs": [],
   "source": [],
   "metadata": {
    "collapsed": false
   },
   "id": "a47532879bf1b028"
  }
 ],
 "metadata": {
  "kernelspec": {
   "display_name": "Python 3",
   "language": "python",
   "name": "python3"
  },
  "language_info": {
   "codemirror_mode": {
    "name": "ipython",
    "version": 2
   },
   "file_extension": ".py",
   "mimetype": "text/x-python",
   "name": "python",
   "nbconvert_exporter": "python",
   "pygments_lexer": "ipython2",
   "version": "2.7.6"
  }
 },
 "nbformat": 4,
 "nbformat_minor": 5
}
