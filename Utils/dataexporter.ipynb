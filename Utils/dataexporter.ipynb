{
 "cells": [
  {
   "cell_type": "code",
   "execution_count": 12,
   "id": "initial_id",
   "metadata": {
    "collapsed": true,
    "ExecuteTime": {
     "end_time": "2024-10-06T12:56:16.137367Z",
     "start_time": "2024-10-06T12:56:16.118378Z"
    }
   },
   "outputs": [],
   "source": [
    "import pandas as pd\n",
    "import numpy as np\n",
    "from sklearn.model_selection import train_test_split"
   ]
  },
  {
   "cell_type": "code",
   "outputs": [],
   "source": [
    "df = pd.read_csv('../ProcessedData/train_scaled.csv')"
   ],
   "metadata": {
    "collapsed": false,
    "ExecuteTime": {
     "end_time": "2024-10-06T12:56:17.603079Z",
     "start_time": "2024-10-06T12:56:16.941284Z"
    }
   },
   "id": "526b4f78c805d95b",
   "execution_count": 13
  },
  {
   "cell_type": "code",
   "outputs": [],
   "source": [
    "# split data into targets and features\n",
    "Y = df['Overall_Experience']\n",
    "X = df.drop(columns='Overall_Experience')"
   ],
   "metadata": {
    "collapsed": false,
    "ExecuteTime": {
     "end_time": "2024-10-06T12:56:18.652657Z",
     "start_time": "2024-10-06T12:56:18.622676Z"
    }
   },
   "id": "8dd0d4812f870b42",
   "execution_count": 14
  },
  {
   "cell_type": "code",
   "outputs": [],
   "source": [
    "X_train, X_test, Y_train, Y_test = train_test_split(X, Y, test_size=0.3, random_state=42)"
   ],
   "metadata": {
    "collapsed": false,
    "ExecuteTime": {
     "end_time": "2024-10-06T12:56:19.560165Z",
     "start_time": "2024-10-06T12:56:19.519188Z"
    }
   },
   "id": "dd23020b082db94",
   "execution_count": 15
  },
  {
   "cell_type": "code",
   "outputs": [],
   "source": [
    "X_train.to_csv('../ProcessedData/x_train.csv', index=False, header=False)"
   ],
   "metadata": {
    "collapsed": false,
    "ExecuteTime": {
     "end_time": "2024-10-06T12:56:22.393225Z",
     "start_time": "2024-10-06T12:56:20.165989Z"
    }
   },
   "id": "3989f31f3a1b6cf4",
   "execution_count": 16
  },
  {
   "cell_type": "code",
   "outputs": [],
   "source": [
    "X_test.to_csv('../ProcessedData/x_test.csv', index=False, header=False)"
   ],
   "metadata": {
    "collapsed": false,
    "ExecuteTime": {
     "end_time": "2024-10-06T12:56:24.128559Z",
     "start_time": "2024-10-06T12:56:23.090147Z"
    }
   },
   "id": "1b35ccce609180bc",
   "execution_count": 17
  },
  {
   "cell_type": "code",
   "outputs": [],
   "source": [
    "Y_test.to_csv('../ProcessedData/y_test.csv', index=False, header=False)"
   ],
   "metadata": {
    "collapsed": false,
    "ExecuteTime": {
     "end_time": "2024-10-06T12:56:24.813702Z",
     "start_time": "2024-10-06T12:56:24.782726Z"
    }
   },
   "id": "46658aaca111623d",
   "execution_count": 18
  },
  {
   "cell_type": "code",
   "outputs": [],
   "source": [
    "Y_train.to_csv('../ProcessedData/Y_train.csv', index=False, header=False)"
   ],
   "metadata": {
    "collapsed": false,
    "ExecuteTime": {
     "end_time": "2024-10-06T12:56:26.614003Z",
     "start_time": "2024-10-06T12:56:26.570004Z"
    }
   },
   "id": "a01b0064e88bc0db",
   "execution_count": 19
  }
 ],
 "metadata": {
  "kernelspec": {
   "display_name": "Python 3",
   "language": "python",
   "name": "python3"
  },
  "language_info": {
   "codemirror_mode": {
    "name": "ipython",
    "version": 2
   },
   "file_extension": ".py",
   "mimetype": "text/x-python",
   "name": "python",
   "nbconvert_exporter": "python",
   "pygments_lexer": "ipython2",
   "version": "2.7.6"
  }
 },
 "nbformat": 4,
 "nbformat_minor": 5
}
