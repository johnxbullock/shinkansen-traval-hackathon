{
 "cells": [
  {
   "cell_type": "code",
   "execution_count": 1,
   "id": "initial_id",
   "metadata": {
    "collapsed": true,
    "ExecuteTime": {
     "end_time": "2024-09-28T04:52:20.996003Z",
     "start_time": "2024-09-28T04:52:07.766748Z"
    }
   },
   "outputs": [],
   "source": [
    "# imports\n",
    "import pandas as pd\n",
    "import numpy as np\n",
    "import random\n",
    "from sklearn.model_selection import train_test_split\n",
    "from sklearn.preprocessing import LabelEncoder, OneHotEncoder, OrdinalEncoder, StandardScaler\n",
    "from sklearn import model_selection\n",
    "from sklearn.compose import ColumnTransformer\n",
    "from sklearn.metrics import classification_report, roc_auc_score, confusion_matrix, roc_curve\n",
    "import matplotlib.pyplot as plt\n",
    "import seaborn as sns\n",
    "from sklearn.impute import SimpleImputer\n",
    "import warnings\n",
    "from sklearn.metrics import confusion_matrix\n",
    "from sklearn.pipeline import Pipeline\n",
    "from sklearn.model_selection import GridSearchCV\n",
    "from sklearn.model_selection import RandomizedSearchCV\n",
    "import tensorflow as tf\n",
    "from tensorflow.keras.models import Sequential\n",
    "from tensorflow.keras.layers import Dense\n",
    "from tensorflow.keras.layers import Dense, Input, Dropout,BatchNormalization\n",
    "from scikeras.wrappers import KerasClassifier\n",
    "from datascienceutils import DataScienceUtils as dsu\n",
    "\n",
    "import random\n",
    "from tensorflow.keras import backend\n",
    "random.seed(1)\n",
    "np.random.seed(1)\n",
    "tf.random.set_seed(1)\n",
    "warnings.filterwarnings(\"ignore\")"
   ]
  },
  {
   "cell_type": "markdown",
   "source": [
    "# Importing Data"
   ],
   "metadata": {
    "collapsed": false
   },
   "id": "7747b0ff756f161b"
  },
  {
   "cell_type": "code",
   "outputs": [],
   "source": [
    "# use the scaled data\n",
    "df = pd.read_csv('ProcessedData/train_scaled.csv')"
   ],
   "metadata": {
    "collapsed": false,
    "ExecuteTime": {
     "end_time": "2024-09-28T04:53:07.364318Z",
     "start_time": "2024-09-28T04:53:06.151035Z"
    }
   },
   "id": "fa2629e97f8f8b98",
   "execution_count": 2
  },
  {
   "cell_type": "code",
   "outputs": [],
   "source": [
    "# reset the index\n",
    "df = df.set_index(keys='Unnamed: 0')"
   ],
   "metadata": {
    "collapsed": false,
    "ExecuteTime": {
     "end_time": "2024-09-28T04:55:32.835636Z",
     "start_time": "2024-09-28T04:55:32.758287Z"
    }
   },
   "id": "e6e252833164c8e6",
   "execution_count": 4
  },
  {
   "cell_type": "code",
   "outputs": [
    {
     "data": {
      "text/plain": "              Gender  Customer_Type       Age  Type_Travel  Travel_Class  \\\nUnnamed: 0                                                                 \n0          -0.986142       0.457245  0.832354     1.522136     -1.046703   \n1           1.014053       0.457245  0.567700     1.522136      0.955380   \n2          -0.986142       0.457245  0.236883    -0.656972     -1.046703   \n3          -0.986142       0.457245  0.303047    -0.656972     -1.046703   \n4          -0.986142       0.457245  0.700027    -0.656972     -1.046703   \n\n            Travel_Distance  Departure_Delay_in_Mins  Arrival_Delay_in_Mins  \\\nUnnamed: 0                                                                    \n0                 -1.660469                -0.384168              -0.261250   \n1                  0.215099                -0.148115              -0.390872   \n2                 -0.892926                 1.635395               2.694135   \n3                 -1.166284                -0.043202               0.075767   \n4                  0.002054                -0.384168              -0.390872   \n\n            Seat_Comfort  Arrival_Time_Convenient  ...  Onboard_Entertainment  \\\nUnnamed: 0                                         ...                          \n0              -0.742520                 1.396646  ...              -1.169832   \n1              -1.523049                 1.396646  ...              -1.972154   \n2              -0.742520                -0.887615  ...               0.434813   \n3               0.038010                -0.887615  ...              -1.169832   \n4               0.038010                -0.126195  ...               0.434813   \n\n            Online_Support  Ease_of_Online_Booking  Onboard_Service   Legroom  \\\nUnnamed: 0                                                                      \n0                -0.397253               -1.127589        -1.203839 -0.389006   \n1                 0.367507                0.405740         1.239225 -1.173176   \n2                 1.132266                1.172405         1.239225  1.179333   \n3                -0.397253               -0.360924        -0.389484 -0.389006   \n4                 1.132266                0.405740         0.424870  0.395163   \n\n            Baggage_Handling  CheckIn_Service  Cleanliness  Online_Boarding  \\\nUnnamed: 0                                                                    \n0                  -1.468343         0.521882    -1.479859        -1.812906   \n1                  -2.333656        -1.065622     0.256793         0.499208   \n2                   1.127596         0.521882     1.125119         1.269912   \n3                  -0.603030         0.521882    -0.611533        -0.271497   \n4                   0.262283         0.521882     0.256793         0.499208   \n\n            Overall_Experience  \nUnnamed: 0                      \n0                            0  \n1                            0  \n2                            1  \n3                            0  \n4                            1  \n\n[5 rows x 23 columns]",
      "text/html": "<div>\n<style scoped>\n    .dataframe tbody tr th:only-of-type {\n        vertical-align: middle;\n    }\n\n    .dataframe tbody tr th {\n        vertical-align: top;\n    }\n\n    .dataframe thead th {\n        text-align: right;\n    }\n</style>\n<table border=\"1\" class=\"dataframe\">\n  <thead>\n    <tr style=\"text-align: right;\">\n      <th></th>\n      <th>Gender</th>\n      <th>Customer_Type</th>\n      <th>Age</th>\n      <th>Type_Travel</th>\n      <th>Travel_Class</th>\n      <th>Travel_Distance</th>\n      <th>Departure_Delay_in_Mins</th>\n      <th>Arrival_Delay_in_Mins</th>\n      <th>Seat_Comfort</th>\n      <th>Arrival_Time_Convenient</th>\n      <th>...</th>\n      <th>Onboard_Entertainment</th>\n      <th>Online_Support</th>\n      <th>Ease_of_Online_Booking</th>\n      <th>Onboard_Service</th>\n      <th>Legroom</th>\n      <th>Baggage_Handling</th>\n      <th>CheckIn_Service</th>\n      <th>Cleanliness</th>\n      <th>Online_Boarding</th>\n      <th>Overall_Experience</th>\n    </tr>\n    <tr>\n      <th>Unnamed: 0</th>\n      <th></th>\n      <th></th>\n      <th></th>\n      <th></th>\n      <th></th>\n      <th></th>\n      <th></th>\n      <th></th>\n      <th></th>\n      <th></th>\n      <th></th>\n      <th></th>\n      <th></th>\n      <th></th>\n      <th></th>\n      <th></th>\n      <th></th>\n      <th></th>\n      <th></th>\n      <th></th>\n      <th></th>\n    </tr>\n  </thead>\n  <tbody>\n    <tr>\n      <th>0</th>\n      <td>-0.986142</td>\n      <td>0.457245</td>\n      <td>0.832354</td>\n      <td>1.522136</td>\n      <td>-1.046703</td>\n      <td>-1.660469</td>\n      <td>-0.384168</td>\n      <td>-0.261250</td>\n      <td>-0.742520</td>\n      <td>1.396646</td>\n      <td>...</td>\n      <td>-1.169832</td>\n      <td>-0.397253</td>\n      <td>-1.127589</td>\n      <td>-1.203839</td>\n      <td>-0.389006</td>\n      <td>-1.468343</td>\n      <td>0.521882</td>\n      <td>-1.479859</td>\n      <td>-1.812906</td>\n      <td>0</td>\n    </tr>\n    <tr>\n      <th>1</th>\n      <td>1.014053</td>\n      <td>0.457245</td>\n      <td>0.567700</td>\n      <td>1.522136</td>\n      <td>0.955380</td>\n      <td>0.215099</td>\n      <td>-0.148115</td>\n      <td>-0.390872</td>\n      <td>-1.523049</td>\n      <td>1.396646</td>\n      <td>...</td>\n      <td>-1.972154</td>\n      <td>0.367507</td>\n      <td>0.405740</td>\n      <td>1.239225</td>\n      <td>-1.173176</td>\n      <td>-2.333656</td>\n      <td>-1.065622</td>\n      <td>0.256793</td>\n      <td>0.499208</td>\n      <td>0</td>\n    </tr>\n    <tr>\n      <th>2</th>\n      <td>-0.986142</td>\n      <td>0.457245</td>\n      <td>0.236883</td>\n      <td>-0.656972</td>\n      <td>-1.046703</td>\n      <td>-0.892926</td>\n      <td>1.635395</td>\n      <td>2.694135</td>\n      <td>-0.742520</td>\n      <td>-0.887615</td>\n      <td>...</td>\n      <td>0.434813</td>\n      <td>1.132266</td>\n      <td>1.172405</td>\n      <td>1.239225</td>\n      <td>1.179333</td>\n      <td>1.127596</td>\n      <td>0.521882</td>\n      <td>1.125119</td>\n      <td>1.269912</td>\n      <td>1</td>\n    </tr>\n    <tr>\n      <th>3</th>\n      <td>-0.986142</td>\n      <td>0.457245</td>\n      <td>0.303047</td>\n      <td>-0.656972</td>\n      <td>-1.046703</td>\n      <td>-1.166284</td>\n      <td>-0.043202</td>\n      <td>0.075767</td>\n      <td>0.038010</td>\n      <td>-0.887615</td>\n      <td>...</td>\n      <td>-1.169832</td>\n      <td>-0.397253</td>\n      <td>-0.360924</td>\n      <td>-0.389484</td>\n      <td>-0.389006</td>\n      <td>-0.603030</td>\n      <td>0.521882</td>\n      <td>-0.611533</td>\n      <td>-0.271497</td>\n      <td>0</td>\n    </tr>\n    <tr>\n      <th>4</th>\n      <td>-0.986142</td>\n      <td>0.457245</td>\n      <td>0.700027</td>\n      <td>-0.656972</td>\n      <td>-1.046703</td>\n      <td>0.002054</td>\n      <td>-0.384168</td>\n      <td>-0.390872</td>\n      <td>0.038010</td>\n      <td>-0.126195</td>\n      <td>...</td>\n      <td>0.434813</td>\n      <td>1.132266</td>\n      <td>0.405740</td>\n      <td>0.424870</td>\n      <td>0.395163</td>\n      <td>0.262283</td>\n      <td>0.521882</td>\n      <td>0.256793</td>\n      <td>0.499208</td>\n      <td>1</td>\n    </tr>\n  </tbody>\n</table>\n<p>5 rows × 23 columns</p>\n</div>"
     },
     "execution_count": 5,
     "metadata": {},
     "output_type": "execute_result"
    }
   ],
   "source": [
    "df.head()"
   ],
   "metadata": {
    "collapsed": false,
    "ExecuteTime": {
     "end_time": "2024-09-28T04:55:37.883189Z",
     "start_time": "2024-09-28T04:55:37.842201Z"
    }
   },
   "id": "2723fcb4301f6304",
   "execution_count": 5
  },
  {
   "cell_type": "markdown",
   "source": [
    "# Data Preparation"
   ],
   "metadata": {
    "collapsed": false
   },
   "id": "f752856378f70dfd"
  },
  {
   "cell_type": "markdown",
   "source": [
    "## Splitting data into targets and features"
   ],
   "metadata": {
    "collapsed": false
   },
   "id": "a4373f7976d9265"
  },
  {
   "cell_type": "code",
   "outputs": [],
   "source": [
    "# split data into features and target\n",
    "\n",
    "# class\n",
    "Y = df['Overall_Experience']\n",
    "\n",
    "# features\n",
    "X = df.drop(columns='Overall_Experience')"
   ],
   "metadata": {
    "collapsed": false,
    "ExecuteTime": {
     "end_time": "2024-09-28T04:55:59.715550Z",
     "start_time": "2024-09-28T04:55:59.693560Z"
    }
   },
   "id": "2fde0a161fd430b5",
   "execution_count": 6
  },
  {
   "cell_type": "markdown",
   "source": [
    "## Split the Data into test and training sets"
   ],
   "metadata": {
    "collapsed": false
   },
   "id": "11662663c7bc689f"
  },
  {
   "cell_type": "code",
   "outputs": [],
   "source": [
    "# split data into train and test sets\n",
    "X_train, X_test, Y_train, Y_test = train_test_split(X, Y, test_size=0.3, random_state=1)"
   ],
   "metadata": {
    "collapsed": false,
    "ExecuteTime": {
     "end_time": "2024-09-28T05:00:10.440902Z",
     "start_time": "2024-09-28T05:00:10.390911Z"
    }
   },
   "id": "b8ddce19ef9546e1",
   "execution_count": 15
  },
  {
   "cell_type": "markdown",
   "source": [
    "# Model evaluation functions"
   ],
   "metadata": {
    "collapsed": false
   },
   "id": "f13550f8a9450ad0"
  },
  {
   "cell_type": "code",
   "outputs": [],
   "source": [
    "def train_validation_loss_plot(hist):\n",
    "    fig, ax = plt.subplots()\n",
    "    ax.plot(hist.history['loss'])\n",
    "    ax.plot(hist.history['val_loss'])\n",
    "    plt.title('model loss')\n",
    "    plt.ylabel('Loss')\n",
    "    plt.xlabel('Epoch')\n",
    "    plt.legend(['train', 'validation'], loc='upper left')\n",
    "    plt.show()"
   ],
   "metadata": {
    "collapsed": false,
    "ExecuteTime": {
     "end_time": "2024-09-28T05:00:13.609687Z",
     "start_time": "2024-09-28T05:00:13.590699Z"
    }
   },
   "id": "6dec9cacd046a638",
   "execution_count": 16
  },
  {
   "cell_type": "code",
   "outputs": [],
   "source": [
    "def get_best_threshold(mdl):\n",
    "    \n",
    "    # get the models predictions on the test set\n",
    "    Y_hat: np.ndarray = mdl.predict(X_test)\n",
    "    \n",
    "    # keep probabilities for the positive outcomes only\n",
    "    # i.e. get a 1d array of the positive outcomes only\n",
    "    Y_hat: np.ndarray = Y_hat[:, 0]\n",
    "    \n",
    "    # calculate the roc curves\n",
    "    fpr, tpr, thresholds = roc_curve(Y_test, Y_hat)\n",
    "    \n",
    "    # calculate the gmeans for each threshold\n",
    "    gmeans: np.ndarray = np.sqrt(tpr * (1-fpr))\n",
    "    \n",
    "    idx: int = np.argmax(gmeans)\n",
    "    \n",
    "    return thresholds[idx]"
   ],
   "metadata": {
    "collapsed": false,
    "ExecuteTime": {
     "end_time": "2024-09-28T05:00:14.559327Z",
     "start_time": "2024-09-28T05:00:14.538329Z"
    }
   },
   "id": "e56eed6b3a81e932",
   "execution_count": 17
  },
  {
   "cell_type": "code",
   "outputs": [],
   "source": [
    "def plot_roc_curve(mdl):\n",
    "    \n",
    "    # get the models predictions on the test set\n",
    "    Y_hat: np.ndarray = mdl.predict(X_test)\n",
    "    \n",
    "    # keep probabilities for the positive outcomes only\n",
    "    # i.e. get a 1d array of the positive outcomes only\n",
    "    Y_hat: np.ndarray = Y_hat[:, 0]\n",
    "    \n",
    "    # calculate the roc curves\n",
    "    fpr, tpr, thresholds = roc_curve(Y_test, Y_hat)\n",
    "    \n",
    "    # calculate the gmeans for each threshold\n",
    "    gmeans: np.ndarray = np.sqrt(tpr * (1-fpr))\n",
    "    \n",
    "    idx: int = np.argmax(gmeans)\n",
    "    \n",
    "    print('Best Threshold=%f, G-Mean=%.3f' % (thresholds[idx], gmeans[idx]))\n",
    "    \n",
    "    fig, ax = plt.subplots()\n",
    "    \n",
    "    # plot the roc curve for the model\n",
    "    ax.plot([0,1], [0,1], linestyle='--', label='No Skill')\n",
    "    ax.plot(fpr, tpr, marker='.')\n",
    "    ax.scatter(fpr[idx], tpr[idx], marker='o', color='black', label='Best')\n",
    "    # axis labels\n",
    "    plt.xlabel('False Positive Rate')\n",
    "    plt.ylabel('True Positive Rate')\n",
    "    plt.legend()\n",
    "    # show the plot\n",
    "    plt.show()\n",
    "    \n",
    "    return thresholds[idx]"
   ],
   "metadata": {
    "collapsed": false,
    "ExecuteTime": {
     "end_time": "2024-09-28T05:00:16.215121Z",
     "start_time": "2024-09-28T05:00:16.194133Z"
    }
   },
   "id": "23207b8e986cb406",
   "execution_count": 18
  },
  {
   "cell_type": "code",
   "outputs": [],
   "source": [
    "def make_confusion_matrix(mdl,threshold = 0.5):\n",
    "    \n",
    "    # get predictions using the test data\n",
    "\n",
    "    # make predictions on the model\n",
    "    y_pred: np.ndarray = mdl.predict(X_test)[:, 0]\n",
    "    \n",
    "    Y_pred_threshold: np.ndarray = (y_pred > threshold)\n",
    "    \n",
    "    cm = confusion_matrix(Y_test, Y_pred_threshold)\n",
    "\n",
    "    cm[[0, 1]] = cm[[1, 0]]\n",
    "    \n",
    "    cm[:, [0, 1]] = cm[:, [1, 0]]\n",
    "\n",
    "    cm_df = pd.DataFrame(cm, columns=[\"Predicted Leaving\", \"Predicted Staying\"], index=[\"Leaving\", \"Staying\"])\n",
    "    \n",
    "    TP = cm_df.loc['Leaving', 'Predicted Leaving']\n",
    "    FP = cm_df.loc['Staying', 'Predicted Leaving']\n",
    "    TN = cm_df.loc['Staying', 'Predicted Staying']\n",
    "    FN = cm_df.loc['Leaving', 'Predicted Staying']\n",
    "\n",
    "    precision = TP / (TP + FP)  # out of my true predictions, what percentage did I get right?\n",
    "    recall = TP / (TP + FN)  # how many of people that are leaving am I discovering?\n",
    "    fpr = FP / (FP + TN)  # out of the ones that are staying, how many did I predict are leaving?\n",
    "    fdr = FP / (FP + TN)\n",
    "    \n",
    "    print(f\"Precision/TPR: {precision}\")\n",
    "    print(f\"Recall: {recall}\")\n",
    "    print(f\"False Positive Rate: {fpr}\")\n",
    "    print(f\"False Discovery Rate: {fdr}\")"
   ],
   "metadata": {
    "collapsed": false,
    "ExecuteTime": {
     "end_time": "2024-09-28T05:00:17.525025Z",
     "start_time": "2024-09-28T05:00:17.500041Z"
    }
   },
   "id": "fdd999ed3f39d02b",
   "execution_count": 19
  },
  {
   "cell_type": "code",
   "outputs": [],
   "source": [
    "# now need a way to evaluate the model \n",
    "def evaluate_model(mdl, mdl_hist):\n",
    "    \n",
    "    print(f\"Train Loss vs validation loss:\\n\")\n",
    "    train_validation_loss_plot(mdl_hist)\n",
    "    \n",
    "    print(f\"ROC curve for model:\\n\")\n",
    "    threshold = plot_roc_curve(mdl)\n",
    "    \n",
    "    print(f\"Model Confusion matrix:\\n\")\n",
    "    make_confusion_matrix(mdl, threshold)"
   ],
   "metadata": {
    "collapsed": false,
    "ExecuteTime": {
     "end_time": "2024-09-28T05:00:18.740868Z",
     "start_time": "2024-09-28T05:00:18.730866Z"
    }
   },
   "id": "e6590bf3446acade",
   "execution_count": 20
  },
  {
   "cell_type": "code",
   "outputs": [],
   "source": [
    "def fix_generator_seeds():\n",
    "    \n",
    "    # not sure what this does\n",
    "    tf.keras.backend.clear_session()\n",
    "    #Fix the seed for the different random number generators\n",
    "\n",
    "    # fix seed for numpy\n",
    "    np.random.seed(42)\n",
    "    \n",
    "    # fix seed for python\n",
    "    random.seed(42)\n",
    "    \n",
    "    # fix seed for tensorflow\n",
    "    tf.random.set_seed(42)"
   ],
   "metadata": {
    "collapsed": false,
    "ExecuteTime": {
     "end_time": "2024-09-28T05:00:19.607822Z",
     "start_time": "2024-09-28T05:00:19.593829Z"
    }
   },
   "id": "66ebe4fa511efbc1",
   "execution_count": 21
  },
  {
   "cell_type": "markdown",
   "source": [
    "# Model Building"
   ],
   "metadata": {
    "collapsed": false
   },
   "id": "554560d8719ecd4a"
  },
  {
   "cell_type": "markdown",
   "source": [
    "# Model 1 (Baseline model)"
   ],
   "metadata": {
    "collapsed": false
   },
   "id": "280726b23ac2f30d"
  },
  {
   "cell_type": "code",
   "outputs": [],
   "source": [
    "# fix the generator seed\n",
    "fix_generator_seeds()"
   ],
   "metadata": {
    "collapsed": false,
    "ExecuteTime": {
     "end_time": "2024-09-28T05:00:21.836167Z",
     "start_time": "2024-09-28T05:00:21.668073Z"
    }
   },
   "id": "a7d6cb56f89a68e0",
   "execution_count": 22
  },
  {
   "cell_type": "code",
   "outputs": [],
   "source": [
    "# initialize a sequenctial model \n",
    "\n",
    "mdl1 = Sequential()"
   ],
   "metadata": {
    "collapsed": false,
    "ExecuteTime": {
     "end_time": "2024-09-28T05:01:11.446123Z",
     "start_time": "2024-09-28T05:01:11.405144Z"
    }
   },
   "id": "a2e1e956c6bb4e34",
   "execution_count": 23
  },
  {
   "cell_type": "code",
   "outputs": [],
   "source": [
    "# The amount of nodes (dimensions) in hidden layer should be the average of input and output layers, in this case 64.\n",
    "# This adds the input layer (by specifying input dimension) AND the first hidden layer (units)\n",
    "mdl1.add(Dense(activation = 'relu', input_dim = X_train.shape[1], units=64))\n",
    "#Add 1st hidden layer\n",
    "mdl1.add(Dense(32, activation='relu'))\n",
    "# Adding the output layer\n",
    "# Notice that we do not need to specify input dim.\n",
    "# we have an output of 1 node, which is the the desired dimensions of our output (stay with the bank or not)\n",
    "# We use the sigmoid because we want probability outcomes\n",
    "mdl1.add(Dense(1, activation = 'sigmoid'))"
   ],
   "metadata": {
    "collapsed": false,
    "ExecuteTime": {
     "end_time": "2024-09-28T05:02:54.451046Z",
     "start_time": "2024-09-28T05:02:54.168158Z"
    }
   },
   "id": "d5c5ce68157663bf",
   "execution_count": 25
  },
  {
   "cell_type": "code",
   "outputs": [],
   "source": [
    "# Create optimizer with default learning rate\n",
    "# Compile the model\n",
    "mdl1.compile(optimizer='SGD', loss='binary_crossentropy', metrics=['accuracy'])"
   ],
   "metadata": {
    "collapsed": false,
    "ExecuteTime": {
     "end_time": "2024-09-28T05:03:23.969279Z",
     "start_time": "2024-09-28T05:03:23.948292Z"
    }
   },
   "id": "4b0c26507be85f1f",
   "execution_count": 26
  },
  {
   "cell_type": "code",
   "outputs": [
    {
     "data": {
      "text/plain": "\u001B[1mModel: \"sequential\"\u001B[0m\n",
      "text/html": "<pre style=\"white-space:pre;overflow-x:auto;line-height:normal;font-family:Menlo,'DejaVu Sans Mono',consolas,'Courier New',monospace\"><span style=\"font-weight: bold\">Model: \"sequential\"</span>\n</pre>\n"
     },
     "metadata": {},
     "output_type": "display_data"
    },
    {
     "data": {
      "text/plain": "┏━━━━━━━━━━━━━━━━━━━━━━━━━━━━━━━━━┳━━━━━━━━━━━━━━━━━━━━━━━━┳━━━━━━━━━━━━━━━┓\n┃\u001B[1m \u001B[0m\u001B[1mLayer (type)                   \u001B[0m\u001B[1m \u001B[0m┃\u001B[1m \u001B[0m\u001B[1mOutput Shape          \u001B[0m\u001B[1m \u001B[0m┃\u001B[1m \u001B[0m\u001B[1m      Param #\u001B[0m\u001B[1m \u001B[0m┃\n┡━━━━━━━━━━━━━━━━━━━━━━━━━━━━━━━━━╇━━━━━━━━━━━━━━━━━━━━━━━━╇━━━━━━━━━━━━━━━┩\n│ dense (\u001B[38;5;33mDense\u001B[0m)                   │ (\u001B[38;5;45mNone\u001B[0m, \u001B[38;5;34m64\u001B[0m)             │         \u001B[38;5;34m1,472\u001B[0m │\n├─────────────────────────────────┼────────────────────────┼───────────────┤\n│ dense_1 (\u001B[38;5;33mDense\u001B[0m)                 │ (\u001B[38;5;45mNone\u001B[0m, \u001B[38;5;34m32\u001B[0m)             │         \u001B[38;5;34m2,080\u001B[0m │\n├─────────────────────────────────┼────────────────────────┼───────────────┤\n│ dense_2 (\u001B[38;5;33mDense\u001B[0m)                 │ (\u001B[38;5;45mNone\u001B[0m, \u001B[38;5;34m1\u001B[0m)              │            \u001B[38;5;34m33\u001B[0m │\n└─────────────────────────────────┴────────────────────────┴───────────────┘\n",
      "text/html": "<pre style=\"white-space:pre;overflow-x:auto;line-height:normal;font-family:Menlo,'DejaVu Sans Mono',consolas,'Courier New',monospace\">┏━━━━━━━━━━━━━━━━━━━━━━━━━━━━━━━━━┳━━━━━━━━━━━━━━━━━━━━━━━━┳━━━━━━━━━━━━━━━┓\n┃<span style=\"font-weight: bold\"> Layer (type)                    </span>┃<span style=\"font-weight: bold\"> Output Shape           </span>┃<span style=\"font-weight: bold\">       Param # </span>┃\n┡━━━━━━━━━━━━━━━━━━━━━━━━━━━━━━━━━╇━━━━━━━━━━━━━━━━━━━━━━━━╇━━━━━━━━━━━━━━━┩\n│ dense (<span style=\"color: #0087ff; text-decoration-color: #0087ff\">Dense</span>)                   │ (<span style=\"color: #00d7ff; text-decoration-color: #00d7ff\">None</span>, <span style=\"color: #00af00; text-decoration-color: #00af00\">64</span>)             │         <span style=\"color: #00af00; text-decoration-color: #00af00\">1,472</span> │\n├─────────────────────────────────┼────────────────────────┼───────────────┤\n│ dense_1 (<span style=\"color: #0087ff; text-decoration-color: #0087ff\">Dense</span>)                 │ (<span style=\"color: #00d7ff; text-decoration-color: #00d7ff\">None</span>, <span style=\"color: #00af00; text-decoration-color: #00af00\">32</span>)             │         <span style=\"color: #00af00; text-decoration-color: #00af00\">2,080</span> │\n├─────────────────────────────────┼────────────────────────┼───────────────┤\n│ dense_2 (<span style=\"color: #0087ff; text-decoration-color: #0087ff\">Dense</span>)                 │ (<span style=\"color: #00d7ff; text-decoration-color: #00d7ff\">None</span>, <span style=\"color: #00af00; text-decoration-color: #00af00\">1</span>)              │            <span style=\"color: #00af00; text-decoration-color: #00af00\">33</span> │\n└─────────────────────────────────┴────────────────────────┴───────────────┘\n</pre>\n"
     },
     "metadata": {},
     "output_type": "display_data"
    },
    {
     "data": {
      "text/plain": "\u001B[1m Total params: \u001B[0m\u001B[38;5;34m3,585\u001B[0m (14.00 KB)\n",
      "text/html": "<pre style=\"white-space:pre;overflow-x:auto;line-height:normal;font-family:Menlo,'DejaVu Sans Mono',consolas,'Courier New',monospace\"><span style=\"font-weight: bold\"> Total params: </span><span style=\"color: #00af00; text-decoration-color: #00af00\">3,585</span> (14.00 KB)\n</pre>\n"
     },
     "metadata": {},
     "output_type": "display_data"
    },
    {
     "data": {
      "text/plain": "\u001B[1m Trainable params: \u001B[0m\u001B[38;5;34m3,585\u001B[0m (14.00 KB)\n",
      "text/html": "<pre style=\"white-space:pre;overflow-x:auto;line-height:normal;font-family:Menlo,'DejaVu Sans Mono',consolas,'Courier New',monospace\"><span style=\"font-weight: bold\"> Trainable params: </span><span style=\"color: #00af00; text-decoration-color: #00af00\">3,585</span> (14.00 KB)\n</pre>\n"
     },
     "metadata": {},
     "output_type": "display_data"
    },
    {
     "data": {
      "text/plain": "\u001B[1m Non-trainable params: \u001B[0m\u001B[38;5;34m0\u001B[0m (0.00 B)\n",
      "text/html": "<pre style=\"white-space:pre;overflow-x:auto;line-height:normal;font-family:Menlo,'DejaVu Sans Mono',consolas,'Courier New',monospace\"><span style=\"font-weight: bold\"> Non-trainable params: </span><span style=\"color: #00af00; text-decoration-color: #00af00\">0</span> (0.00 B)\n</pre>\n"
     },
     "metadata": {},
     "output_type": "display_data"
    }
   ],
   "source": [
    "# inspect a summary of the model\n",
    "mdl1.summary()"
   ],
   "metadata": {
    "collapsed": false,
    "ExecuteTime": {
     "end_time": "2024-09-28T05:03:31.636034Z",
     "start_time": "2024-09-28T05:03:31.608050Z"
    }
   },
   "id": "7b35da20591bf740",
   "execution_count": 28
  },
  {
   "cell_type": "code",
   "outputs": [
    {
     "name": "stdout",
     "output_type": "stream",
     "text": [
      "Epoch 1/50\n",
      "\u001B[1m1652/1652\u001B[0m \u001B[32m━━━━━━━━━━━━━━━━━━━━\u001B[0m\u001B[37m\u001B[0m \u001B[1m4s\u001B[0m 2ms/step - accuracy: 0.7888 - loss: 0.4521 - val_accuracy: 0.8694 - val_loss: 0.3005\n",
      "Epoch 2/50\n",
      "\u001B[1m1652/1652\u001B[0m \u001B[32m━━━━━━━━━━━━━━━━━━━━\u001B[0m\u001B[37m\u001B[0m \u001B[1m2s\u001B[0m 1ms/step - accuracy: 0.8732 - loss: 0.2946 - val_accuracy: 0.8897 - val_loss: 0.2633\n",
      "Epoch 3/50\n",
      "\u001B[1m1652/1652\u001B[0m \u001B[32m━━━━━━━━━━━━━━━━━━━━\u001B[0m\u001B[37m\u001B[0m \u001B[1m2s\u001B[0m 1ms/step - accuracy: 0.8867 - loss: 0.2635 - val_accuracy: 0.8974 - val_loss: 0.2431\n",
      "Epoch 4/50\n",
      "\u001B[1m1652/1652\u001B[0m \u001B[32m━━━━━━━━━━━━━━━━━━━━\u001B[0m\u001B[37m\u001B[0m \u001B[1m2s\u001B[0m 1ms/step - accuracy: 0.8952 - loss: 0.2458 - val_accuracy: 0.9027 - val_loss: 0.2314\n",
      "Epoch 5/50\n",
      "\u001B[1m1652/1652\u001B[0m \u001B[32m━━━━━━━━━━━━━━━━━━━━\u001B[0m\u001B[37m\u001B[0m \u001B[1m3s\u001B[0m 2ms/step - accuracy: 0.9004 - loss: 0.2348 - val_accuracy: 0.9051 - val_loss: 0.2238\n",
      "Epoch 6/50\n",
      "\u001B[1m1652/1652\u001B[0m \u001B[32m━━━━━━━━━━━━━━━━━━━━\u001B[0m\u001B[37m\u001B[0m \u001B[1m2s\u001B[0m 1ms/step - accuracy: 0.9041 - loss: 0.2272 - val_accuracy: 0.9083 - val_loss: 0.2181\n",
      "Epoch 7/50\n",
      "\u001B[1m1652/1652\u001B[0m \u001B[32m━━━━━━━━━━━━━━━━━━━━\u001B[0m\u001B[37m\u001B[0m \u001B[1m2s\u001B[0m 1ms/step - accuracy: 0.9070 - loss: 0.2214 - val_accuracy: 0.9090 - val_loss: 0.2136\n",
      "Epoch 8/50\n",
      "\u001B[1m1652/1652\u001B[0m \u001B[32m━━━━━━━━━━━━━━━━━━━━\u001B[0m\u001B[37m\u001B[0m \u001B[1m2s\u001B[0m 1ms/step - accuracy: 0.9087 - loss: 0.2165 - val_accuracy: 0.9111 - val_loss: 0.2095\n",
      "Epoch 9/50\n",
      "\u001B[1m1652/1652\u001B[0m \u001B[32m━━━━━━━━━━━━━━━━━━━━\u001B[0m\u001B[37m\u001B[0m \u001B[1m2s\u001B[0m 1ms/step - accuracy: 0.9105 - loss: 0.2123 - val_accuracy: 0.9136 - val_loss: 0.2060\n",
      "Epoch 10/50\n",
      "\u001B[1m1652/1652\u001B[0m \u001B[32m━━━━━━━━━━━━━━━━━━━━\u001B[0m\u001B[37m\u001B[0m \u001B[1m2s\u001B[0m 1ms/step - accuracy: 0.9116 - loss: 0.2086 - val_accuracy: 0.9153 - val_loss: 0.2028\n",
      "Epoch 11/50\n",
      "\u001B[1m1652/1652\u001B[0m \u001B[32m━━━━━━━━━━━━━━━━━━━━\u001B[0m\u001B[37m\u001B[0m \u001B[1m3s\u001B[0m 2ms/step - accuracy: 0.9137 - loss: 0.2051 - val_accuracy: 0.9166 - val_loss: 0.1999\n",
      "Epoch 12/50\n",
      "\u001B[1m1652/1652\u001B[0m \u001B[32m━━━━━━━━━━━━━━━━━━━━\u001B[0m\u001B[37m\u001B[0m \u001B[1m2s\u001B[0m 1ms/step - accuracy: 0.9152 - loss: 0.2019 - val_accuracy: 0.9173 - val_loss: 0.1972\n",
      "Epoch 13/50\n",
      "\u001B[1m1652/1652\u001B[0m \u001B[32m━━━━━━━━━━━━━━━━━━━━\u001B[0m\u001B[37m\u001B[0m \u001B[1m2s\u001B[0m 1ms/step - accuracy: 0.9161 - loss: 0.1988 - val_accuracy: 0.9179 - val_loss: 0.1947\n",
      "Epoch 14/50\n",
      "\u001B[1m1652/1652\u001B[0m \u001B[32m━━━━━━━━━━━━━━━━━━━━\u001B[0m\u001B[37m\u001B[0m \u001B[1m2s\u001B[0m 1ms/step - accuracy: 0.9174 - loss: 0.1958 - val_accuracy: 0.9193 - val_loss: 0.1922\n",
      "Epoch 15/50\n",
      "\u001B[1m1652/1652\u001B[0m \u001B[32m━━━━━━━━━━━━━━━━━━━━\u001B[0m\u001B[37m\u001B[0m \u001B[1m2s\u001B[0m 1ms/step - accuracy: 0.9196 - loss: 0.1929 - val_accuracy: 0.9208 - val_loss: 0.1899\n",
      "Epoch 16/50\n",
      "\u001B[1m1652/1652\u001B[0m \u001B[32m━━━━━━━━━━━━━━━━━━━━\u001B[0m\u001B[37m\u001B[0m \u001B[1m2s\u001B[0m 1ms/step - accuracy: 0.9205 - loss: 0.1902 - val_accuracy: 0.9217 - val_loss: 0.1877\n",
      "Epoch 17/50\n",
      "\u001B[1m1652/1652\u001B[0m \u001B[32m━━━━━━━━━━━━━━━━━━━━\u001B[0m\u001B[37m\u001B[0m \u001B[1m2s\u001B[0m 1ms/step - accuracy: 0.9215 - loss: 0.1875 - val_accuracy: 0.9223 - val_loss: 0.1858\n",
      "Epoch 18/50\n",
      "\u001B[1m1652/1652\u001B[0m \u001B[32m━━━━━━━━━━━━━━━━━━━━\u001B[0m\u001B[37m\u001B[0m \u001B[1m2s\u001B[0m 1ms/step - accuracy: 0.9229 - loss: 0.1851 - val_accuracy: 0.9233 - val_loss: 0.1841\n",
      "Epoch 19/50\n",
      "\u001B[1m1652/1652\u001B[0m \u001B[32m━━━━━━━━━━━━━━━━━━━━\u001B[0m\u001B[37m\u001B[0m \u001B[1m2s\u001B[0m 1ms/step - accuracy: 0.9239 - loss: 0.1829 - val_accuracy: 0.9230 - val_loss: 0.1826\n",
      "Epoch 20/50\n",
      "\u001B[1m1652/1652\u001B[0m \u001B[32m━━━━━━━━━━━━━━━━━━━━\u001B[0m\u001B[37m\u001B[0m \u001B[1m2s\u001B[0m 1ms/step - accuracy: 0.9243 - loss: 0.1809 - val_accuracy: 0.9234 - val_loss: 0.1812\n",
      "Epoch 21/50\n",
      "\u001B[1m1652/1652\u001B[0m \u001B[32m━━━━━━━━━━━━━━━━━━━━\u001B[0m\u001B[37m\u001B[0m \u001B[1m2s\u001B[0m 1ms/step - accuracy: 0.9247 - loss: 0.1789 - val_accuracy: 0.9244 - val_loss: 0.1801\n",
      "Epoch 22/50\n",
      "\u001B[1m1652/1652\u001B[0m \u001B[32m━━━━━━━━━━━━━━━━━━━━\u001B[0m\u001B[37m\u001B[0m \u001B[1m2s\u001B[0m 1ms/step - accuracy: 0.9256 - loss: 0.1772 - val_accuracy: 0.9248 - val_loss: 0.1789\n",
      "Epoch 23/50\n",
      "\u001B[1m1652/1652\u001B[0m \u001B[32m━━━━━━━━━━━━━━━━━━━━\u001B[0m\u001B[37m\u001B[0m \u001B[1m2s\u001B[0m 1ms/step - accuracy: 0.9261 - loss: 0.1755 - val_accuracy: 0.9248 - val_loss: 0.1780\n",
      "Epoch 24/50\n",
      "\u001B[1m1652/1652\u001B[0m \u001B[32m━━━━━━━━━━━━━━━━━━━━\u001B[0m\u001B[37m\u001B[0m \u001B[1m3s\u001B[0m 2ms/step - accuracy: 0.9268 - loss: 0.1739 - val_accuracy: 0.9254 - val_loss: 0.1769\n",
      "Epoch 25/50\n",
      "\u001B[1m1652/1652\u001B[0m \u001B[32m━━━━━━━━━━━━━━━━━━━━\u001B[0m\u001B[37m\u001B[0m \u001B[1m2s\u001B[0m 1ms/step - accuracy: 0.9275 - loss: 0.1724 - val_accuracy: 0.9255 - val_loss: 0.1760\n",
      "Epoch 26/50\n",
      "\u001B[1m1652/1652\u001B[0m \u001B[32m━━━━━━━━━━━━━━━━━━━━\u001B[0m\u001B[37m\u001B[0m \u001B[1m2s\u001B[0m 1ms/step - accuracy: 0.9281 - loss: 0.1711 - val_accuracy: 0.9264 - val_loss: 0.1752\n",
      "Epoch 27/50\n",
      "\u001B[1m1652/1652\u001B[0m \u001B[32m━━━━━━━━━━━━━━━━━━━━\u001B[0m\u001B[37m\u001B[0m \u001B[1m2s\u001B[0m 1ms/step - accuracy: 0.9288 - loss: 0.1698 - val_accuracy: 0.9269 - val_loss: 0.1744\n",
      "Epoch 28/50\n",
      "\u001B[1m1652/1652\u001B[0m \u001B[32m━━━━━━━━━━━━━━━━━━━━\u001B[0m\u001B[37m\u001B[0m \u001B[1m3s\u001B[0m 2ms/step - accuracy: 0.9290 - loss: 0.1686 - val_accuracy: 0.9275 - val_loss: 0.1738\n",
      "Epoch 29/50\n",
      "\u001B[1m1652/1652\u001B[0m \u001B[32m━━━━━━━━━━━━━━━━━━━━\u001B[0m\u001B[37m\u001B[0m \u001B[1m3s\u001B[0m 2ms/step - accuracy: 0.9297 - loss: 0.1675 - val_accuracy: 0.9276 - val_loss: 0.1733\n",
      "Epoch 30/50\n",
      "\u001B[1m1652/1652\u001B[0m \u001B[32m━━━━━━━━━━━━━━━━━━━━\u001B[0m\u001B[37m\u001B[0m \u001B[1m2s\u001B[0m 1ms/step - accuracy: 0.9303 - loss: 0.1666 - val_accuracy: 0.9279 - val_loss: 0.1727\n",
      "Epoch 31/50\n",
      "\u001B[1m1652/1652\u001B[0m \u001B[32m━━━━━━━━━━━━━━━━━━━━\u001B[0m\u001B[37m\u001B[0m \u001B[1m2s\u001B[0m 1ms/step - accuracy: 0.9310 - loss: 0.1655 - val_accuracy: 0.9283 - val_loss: 0.1721\n",
      "Epoch 32/50\n",
      "\u001B[1m1652/1652\u001B[0m \u001B[32m━━━━━━━━━━━━━━━━━━━━\u001B[0m\u001B[37m\u001B[0m \u001B[1m3s\u001B[0m 2ms/step - accuracy: 0.9316 - loss: 0.1646 - val_accuracy: 0.9286 - val_loss: 0.1715\n",
      "Epoch 33/50\n",
      "\u001B[1m1652/1652\u001B[0m \u001B[32m━━━━━━━━━━━━━━━━━━━━\u001B[0m\u001B[37m\u001B[0m \u001B[1m2s\u001B[0m 1ms/step - accuracy: 0.9321 - loss: 0.1637 - val_accuracy: 0.9289 - val_loss: 0.1710\n",
      "Epoch 34/50\n",
      "\u001B[1m1652/1652\u001B[0m \u001B[32m━━━━━━━━━━━━━━━━━━━━\u001B[0m\u001B[37m\u001B[0m \u001B[1m2s\u001B[0m 1ms/step - accuracy: 0.9323 - loss: 0.1627 - val_accuracy: 0.9298 - val_loss: 0.1704\n",
      "Epoch 35/50\n",
      "\u001B[1m1652/1652\u001B[0m \u001B[32m━━━━━━━━━━━━━━━━━━━━\u001B[0m\u001B[37m\u001B[0m \u001B[1m2s\u001B[0m 1ms/step - accuracy: 0.9327 - loss: 0.1619 - val_accuracy: 0.9293 - val_loss: 0.1699\n",
      "Epoch 36/50\n",
      "\u001B[1m1652/1652\u001B[0m \u001B[32m━━━━━━━━━━━━━━━━━━━━\u001B[0m\u001B[37m\u001B[0m \u001B[1m2s\u001B[0m 1ms/step - accuracy: 0.9329 - loss: 0.1611 - val_accuracy: 0.9292 - val_loss: 0.1696\n",
      "Epoch 37/50\n",
      "\u001B[1m1652/1652\u001B[0m \u001B[32m━━━━━━━━━━━━━━━━━━━━\u001B[0m\u001B[37m\u001B[0m \u001B[1m2s\u001B[0m 1ms/step - accuracy: 0.9332 - loss: 0.1603 - val_accuracy: 0.9292 - val_loss: 0.1693\n",
      "Epoch 38/50\n",
      "\u001B[1m1652/1652\u001B[0m \u001B[32m━━━━━━━━━━━━━━━━━━━━\u001B[0m\u001B[37m\u001B[0m \u001B[1m2s\u001B[0m 1ms/step - accuracy: 0.9337 - loss: 0.1596 - val_accuracy: 0.9292 - val_loss: 0.1691\n",
      "Epoch 39/50\n",
      "\u001B[1m1652/1652\u001B[0m \u001B[32m━━━━━━━━━━━━━━━━━━━━\u001B[0m\u001B[37m\u001B[0m \u001B[1m3s\u001B[0m 2ms/step - accuracy: 0.9339 - loss: 0.1588 - val_accuracy: 0.9296 - val_loss: 0.1688\n",
      "Epoch 40/50\n",
      "\u001B[1m1652/1652\u001B[0m \u001B[32m━━━━━━━━━━━━━━━━━━━━\u001B[0m\u001B[37m\u001B[0m \u001B[1m2s\u001B[0m 1ms/step - accuracy: 0.9341 - loss: 0.1582 - val_accuracy: 0.9298 - val_loss: 0.1687\n",
      "Epoch 41/50\n",
      "\u001B[1m1652/1652\u001B[0m \u001B[32m━━━━━━━━━━━━━━━━━━━━\u001B[0m\u001B[37m\u001B[0m \u001B[1m2s\u001B[0m 1ms/step - accuracy: 0.9348 - loss: 0.1575 - val_accuracy: 0.9294 - val_loss: 0.1684\n",
      "Epoch 42/50\n",
      "\u001B[1m1652/1652\u001B[0m \u001B[32m━━━━━━━━━━━━━━━━━━━━\u001B[0m\u001B[37m\u001B[0m \u001B[1m2s\u001B[0m 1ms/step - accuracy: 0.9351 - loss: 0.1569 - val_accuracy: 0.9299 - val_loss: 0.1682\n",
      "Epoch 43/50\n",
      "\u001B[1m1652/1652\u001B[0m \u001B[32m━━━━━━━━━━━━━━━━━━━━\u001B[0m\u001B[37m\u001B[0m \u001B[1m2s\u001B[0m 1ms/step - accuracy: 0.9352 - loss: 0.1563 - val_accuracy: 0.9299 - val_loss: 0.1681\n",
      "Epoch 44/50\n",
      "\u001B[1m1652/1652\u001B[0m \u001B[32m━━━━━━━━━━━━━━━━━━━━\u001B[0m\u001B[37m\u001B[0m \u001B[1m2s\u001B[0m 1ms/step - accuracy: 0.9355 - loss: 0.1557 - val_accuracy: 0.9298 - val_loss: 0.1679\n",
      "Epoch 45/50\n",
      "\u001B[1m1652/1652\u001B[0m \u001B[32m━━━━━━━━━━━━━━━━━━━━\u001B[0m\u001B[37m\u001B[0m \u001B[1m2s\u001B[0m 1ms/step - accuracy: 0.9356 - loss: 0.1551 - val_accuracy: 0.9304 - val_loss: 0.1676\n",
      "Epoch 46/50\n",
      "\u001B[1m1652/1652\u001B[0m \u001B[32m━━━━━━━━━━━━━━━━━━━━\u001B[0m\u001B[37m\u001B[0m \u001B[1m2s\u001B[0m 1ms/step - accuracy: 0.9358 - loss: 0.1545 - val_accuracy: 0.9311 - val_loss: 0.1674\n",
      "Epoch 47/50\n",
      "\u001B[1m1652/1652\u001B[0m \u001B[32m━━━━━━━━━━━━━━━━━━━━\u001B[0m\u001B[37m\u001B[0m \u001B[1m3s\u001B[0m 2ms/step - accuracy: 0.9360 - loss: 0.1540 - val_accuracy: 0.9308 - val_loss: 0.1673\n",
      "Epoch 48/50\n",
      "\u001B[1m1652/1652\u001B[0m \u001B[32m━━━━━━━━━━━━━━━━━━━━\u001B[0m\u001B[37m\u001B[0m \u001B[1m2s\u001B[0m 1ms/step - accuracy: 0.9364 - loss: 0.1534 - val_accuracy: 0.9307 - val_loss: 0.1673\n",
      "Epoch 49/50\n",
      "\u001B[1m1652/1652\u001B[0m \u001B[32m━━━━━━━━━━━━━━━━━━━━\u001B[0m\u001B[37m\u001B[0m \u001B[1m2s\u001B[0m 1ms/step - accuracy: 0.9363 - loss: 0.1529 - val_accuracy: 0.9307 - val_loss: 0.1671\n",
      "Epoch 50/50\n",
      "\u001B[1m1652/1652\u001B[0m \u001B[32m━━━━━━━━━━━━━━━━━━━━\u001B[0m\u001B[37m\u001B[0m \u001B[1m2s\u001B[0m 1ms/step - accuracy: 0.9367 - loss: 0.1524 - val_accuracy: 0.9307 - val_loss: 0.1669\n"
     ]
    }
   ],
   "source": [
    "# fit the model\n",
    "hist1 = mdl1.fit(X_train, Y_train,\n",
    "          validation_split=0.2,\n",
    "          epochs=50,\n",
    "          batch_size=32,verbose=1)"
   ],
   "metadata": {
    "collapsed": false,
    "ExecuteTime": {
     "end_time": "2024-09-28T05:06:40.379372Z",
     "start_time": "2024-09-28T05:04:39.292558Z"
    }
   },
   "id": "c62f718b6a0077ee",
   "execution_count": 29
  },
  {
   "cell_type": "code",
   "outputs": [
    {
     "name": "stdout",
     "output_type": "stream",
     "text": [
      "\u001B[1m885/885\u001B[0m \u001B[32m━━━━━━━━━━━━━━━━━━━━\u001B[0m\u001B[37m\u001B[0m \u001B[1m1s\u001B[0m 1ms/step - accuracy: 0.9279 - loss: 0.1696\n"
     ]
    },
    {
     "data": {
      "text/plain": "<Figure size 640x480 with 1 Axes>",
      "image/png": "[encoded data removed]"
     },
     "metadata": {},
     "output_type": "display_data"
    }
   ],
   "source": [
    "# Capturing learning history per epoch\n",
    "hist1_df  = pd.DataFrame(hist1.history)\n",
    "hist1_df['epoch'] = hist1.epoch\n",
    "\n",
    "# Plotting accuracy at different epochs\n",
    "plt.plot(hist1_df['loss'])\n",
    "plt.plot(hist1_df['val_loss'])\n",
    "plt.legend((\"train\" , \"valid\") , loc =0)\n",
    "\n",
    "#Printing results\n",
    "results = mdl1.evaluate(X_test, Y_test)"
   ],
   "metadata": {
    "collapsed": false,
    "ExecuteTime": {
     "end_time": "2024-09-28T05:07:09.006987Z",
     "start_time": "2024-09-28T05:07:07.714845Z"
    }
   },
   "id": "a7caddf138a15285",
   "execution_count": 30
  },
  {
   "cell_type": "code",
   "outputs": [
    {
     "name": "stdout",
     "output_type": "stream",
     "text": [
      "\u001B[1m885/885\u001B[0m \u001B[32m━━━━━━━━━━━━━━━━━━━━\u001B[0m\u001B[37m\u001B[0m \u001B[1m1s\u001B[0m 1ms/step\n",
      "Best Threshold=0.486079, G-Mean=0.930\n"
     ]
    },
    {
     "data": {
      "text/plain": "<Figure size 640x480 with 1 Axes>",
      "image/png": "[encoded data removed]"
     },
     "metadata": {},
     "output_type": "display_data"
    }
   ],
   "source": [
    "# plot the roc curve\n",
    "\n",
    "threshold1 = plot_roc_curve(mdl1)"
   ],
   "metadata": {
    "collapsed": false,
    "ExecuteTime": {
     "end_time": "2024-09-28T05:10:31.562565Z",
     "start_time": "2024-09-28T05:10:29.783594Z"
    }
   },
   "id": "22786f1afa7fa5f3",
   "execution_count": 32
  },
  {
   "cell_type": "code",
   "outputs": [
    {
     "name": "stdout",
     "output_type": "stream",
     "text": [
      "\u001B[1m885/885\u001B[0m \u001B[32m━━━━━━━━━━━━━━━━━━━━\u001B[0m\u001B[37m\u001B[0m \u001B[1m1s\u001B[0m 961us/step\n",
      "Precision/TPR: 0.9485528412108338\n",
      "Recall: 0.9202679203967283\n",
      "False Positive Rate: 0.06060843043716274\n",
      "False Discovery Rate: 0.06060843043716274\n"
     ]
    }
   ],
   "source": [
    "make_confusion_matrix(mdl1, threshold1)"
   ],
   "metadata": {
    "collapsed": false,
    "ExecuteTime": {
     "end_time": "2024-09-28T05:10:42.056403Z",
     "start_time": "2024-09-28T05:10:40.599246Z"
    }
   },
   "id": "5be6f1051d1b1cbb",
   "execution_count": 33
  },
  {
   "cell_type": "code",
   "outputs": [],
   "source": [
    "df_assess = pd.read_csv('ProcessedData/X_test.csv')"
   ],
   "metadata": {
    "collapsed": false,
    "ExecuteTime": {
     "end_time": "2024-09-28T05:12:06.844937Z",
     "start_time": "2024-09-28T05:12:06.644052Z"
    }
   },
   "id": "70b77817fdf94fc9",
   "execution_count": 34
  },
  {
   "cell_type": "code",
   "outputs": [
    {
     "data": {
      "text/plain": "     Gender  Customer_Type       Age  Type_Travel  Travel_Class  \\\n0 -0.986142       0.457245 -0.226260    -0.656972     -1.046703   \n1 -0.986142      -2.187013 -1.218710    -0.656972     -1.046703   \n2  1.014053       0.457245  1.361660    -0.656972     -1.046703   \n3 -0.986142       0.457245 -0.689404     1.522136      0.955380   \n4  1.014053      -2.187013 -1.417201    -0.656972     -1.046703   \n\n   Travel_Distance  Departure_Delay_in_Mins  Arrival_Delay_in_Mins  \\\n0        -1.407540                -0.384168              -0.390872   \n1        -0.538825                -0.148115               0.335012   \n2         0.829911                -0.384168              -0.390872   \n3        -0.609840                -0.384168              -0.390872   \n4        -0.358856                 0.061710              -0.390872   \n\n   Seat_Comfort  Arrival_Time_Convenient  ...  Onboard_Wifi_Service  \\\n0      0.038010                -0.126195  ...             -0.951175   \n1     -1.523049                 0.635225  ...             -0.191068   \n2      1.599069                 1.396646  ...              1.329146   \n3      0.038010                 1.396646  ...             -1.711282   \n4      1.599069                -0.126195  ...              1.329146   \n\n   Onboard_Entertainment  Online_Support  Ease_of_Online_Booking  \\\n0               1.237135        0.367507                1.172405   \n1              -1.972154       -0.397253               -0.360924   \n2               1.237135        1.132266               -1.127589   \n3              -0.367510        1.132266               -1.894253   \n4               1.237135        1.132266                1.172405   \n\n   Onboard_Service   Legroom  Baggage_Handling  CheckIn_Service  Cleanliness  \\\n0         1.239225  1.179333          1.127596         0.521882     1.125119   \n1         1.239225 -0.389006          0.262283        -0.271870     1.125119   \n2        -1.203839 -1.173176         -1.468343         0.521882    -1.479859   \n3        -0.389484 -1.173176          1.127596         1.315634     1.125119   \n4         0.424870 -0.389006          1.127596         1.315634     1.125119   \n\n   Online_Boarding  \n0        -1.812906  \n1        -0.271497  \n2         1.269912  \n3        -1.812906  \n4         1.269912  \n\n[5 rows x 22 columns]",
      "text/html": "<div>\n<style scoped>\n    .dataframe tbody tr th:only-of-type {\n        vertical-align: middle;\n    }\n\n    .dataframe tbody tr th {\n        vertical-align: top;\n    }\n\n    .dataframe thead th {\n        text-align: right;\n    }\n</style>\n<table border=\"1\" class=\"dataframe\">\n  <thead>\n    <tr style=\"text-align: right;\">\n      <th></th>\n      <th>Gender</th>\n      <th>Customer_Type</th>\n      <th>Age</th>\n      <th>Type_Travel</th>\n      <th>Travel_Class</th>\n      <th>Travel_Distance</th>\n      <th>Departure_Delay_in_Mins</th>\n      <th>Arrival_Delay_in_Mins</th>\n      <th>Seat_Comfort</th>\n      <th>Arrival_Time_Convenient</th>\n      <th>...</th>\n      <th>Onboard_Wifi_Service</th>\n      <th>Onboard_Entertainment</th>\n      <th>Online_Support</th>\n      <th>Ease_of_Online_Booking</th>\n      <th>Onboard_Service</th>\n      <th>Legroom</th>\n      <th>Baggage_Handling</th>\n      <th>CheckIn_Service</th>\n      <th>Cleanliness</th>\n      <th>Online_Boarding</th>\n    </tr>\n  </thead>\n  <tbody>\n    <tr>\n      <th>0</th>\n      <td>-0.986142</td>\n      <td>0.457245</td>\n      <td>-0.226260</td>\n      <td>-0.656972</td>\n      <td>-1.046703</td>\n      <td>-1.407540</td>\n      <td>-0.384168</td>\n      <td>-0.390872</td>\n      <td>0.038010</td>\n      <td>-0.126195</td>\n      <td>...</td>\n      <td>-0.951175</td>\n      <td>1.237135</td>\n      <td>0.367507</td>\n      <td>1.172405</td>\n      <td>1.239225</td>\n      <td>1.179333</td>\n      <td>1.127596</td>\n      <td>0.521882</td>\n      <td>1.125119</td>\n      <td>-1.812906</td>\n    </tr>\n    <tr>\n      <th>1</th>\n      <td>-0.986142</td>\n      <td>-2.187013</td>\n      <td>-1.218710</td>\n      <td>-0.656972</td>\n      <td>-1.046703</td>\n      <td>-0.538825</td>\n      <td>-0.148115</td>\n      <td>0.335012</td>\n      <td>-1.523049</td>\n      <td>0.635225</td>\n      <td>...</td>\n      <td>-0.191068</td>\n      <td>-1.972154</td>\n      <td>-0.397253</td>\n      <td>-0.360924</td>\n      <td>1.239225</td>\n      <td>-0.389006</td>\n      <td>0.262283</td>\n      <td>-0.271870</td>\n      <td>1.125119</td>\n      <td>-0.271497</td>\n    </tr>\n    <tr>\n      <th>2</th>\n      <td>1.014053</td>\n      <td>0.457245</td>\n      <td>1.361660</td>\n      <td>-0.656972</td>\n      <td>-1.046703</td>\n      <td>0.829911</td>\n      <td>-0.384168</td>\n      <td>-0.390872</td>\n      <td>1.599069</td>\n      <td>1.396646</td>\n      <td>...</td>\n      <td>1.329146</td>\n      <td>1.237135</td>\n      <td>1.132266</td>\n      <td>-1.127589</td>\n      <td>-1.203839</td>\n      <td>-1.173176</td>\n      <td>-1.468343</td>\n      <td>0.521882</td>\n      <td>-1.479859</td>\n      <td>1.269912</td>\n    </tr>\n    <tr>\n      <th>3</th>\n      <td>-0.986142</td>\n      <td>0.457245</td>\n      <td>-0.689404</td>\n      <td>1.522136</td>\n      <td>0.955380</td>\n      <td>-0.609840</td>\n      <td>-0.384168</td>\n      <td>-0.390872</td>\n      <td>0.038010</td>\n      <td>1.396646</td>\n      <td>...</td>\n      <td>-1.711282</td>\n      <td>-0.367510</td>\n      <td>1.132266</td>\n      <td>-1.894253</td>\n      <td>-0.389484</td>\n      <td>-1.173176</td>\n      <td>1.127596</td>\n      <td>1.315634</td>\n      <td>1.125119</td>\n      <td>-1.812906</td>\n    </tr>\n    <tr>\n      <th>4</th>\n      <td>1.014053</td>\n      <td>-2.187013</td>\n      <td>-1.417201</td>\n      <td>-0.656972</td>\n      <td>-1.046703</td>\n      <td>-0.358856</td>\n      <td>0.061710</td>\n      <td>-0.390872</td>\n      <td>1.599069</td>\n      <td>-0.126195</td>\n      <td>...</td>\n      <td>1.329146</td>\n      <td>1.237135</td>\n      <td>1.132266</td>\n      <td>1.172405</td>\n      <td>0.424870</td>\n      <td>-0.389006</td>\n      <td>1.127596</td>\n      <td>1.315634</td>\n      <td>1.125119</td>\n      <td>1.269912</td>\n    </tr>\n  </tbody>\n</table>\n<p>5 rows × 22 columns</p>\n</div>"
     },
     "execution_count": 35,
     "metadata": {},
     "output_type": "execute_result"
    }
   ],
   "source": [
    "df_assess.head()"
   ],
   "metadata": {
    "collapsed": false,
    "ExecuteTime": {
     "end_time": "2024-09-28T05:12:13.225403Z",
     "start_time": "2024-09-28T05:12:13.204370Z"
    }
   },
   "id": "82f3827ce46591af",
   "execution_count": 35
  },
  {
   "cell_type": "code",
   "outputs": [
    {
     "name": "stdout",
     "output_type": "stream",
     "text": [
      "<class 'pandas.core.frame.DataFrame'>\n",
      "RangeIndex: 35602 entries, 0 to 35601\n",
      "Data columns (total 22 columns):\n",
      " #   Column                   Non-Null Count  Dtype  \n",
      "---  ------                   --------------  -----  \n",
      " 0   Gender                   35602 non-null  float64\n",
      " 1   Customer_Type            35602 non-null  float64\n",
      " 2   Age                      35602 non-null  float64\n",
      " 3   Type_Travel              35602 non-null  float64\n",
      " 4   Travel_Class             35602 non-null  float64\n",
      " 5   Travel_Distance          35602 non-null  float64\n",
      " 6   Departure_Delay_in_Mins  35602 non-null  float64\n",
      " 7   Arrival_Delay_in_Mins    35602 non-null  float64\n",
      " 8   Seat_Comfort             35602 non-null  float64\n",
      " 9   Arrival_Time_Convenient  35602 non-null  float64\n",
      " 10  Catering                 35602 non-null  float64\n",
      " 11  Platform_Location        35590 non-null  float64\n",
      " 12  Onboard_Wifi_Service     35602 non-null  float64\n",
      " 13  Onboard_Entertainment    35602 non-null  float64\n",
      " 14  Online_Support           35602 non-null  float64\n",
      " 15  Ease_of_Online_Booking   35602 non-null  float64\n",
      " 16  Onboard_Service          35602 non-null  float64\n",
      " 17  Legroom                  35602 non-null  float64\n",
      " 18  Baggage_Handling         35602 non-null  float64\n",
      " 19  CheckIn_Service          35602 non-null  float64\n",
      " 20  Cleanliness              35602 non-null  float64\n",
      " 21  Online_Boarding          35602 non-null  float64\n",
      "dtypes: float64(22)\n",
      "memory usage: 6.0 MB\n"
     ]
    }
   ],
   "source": [
    "df_assess.info()"
   ],
   "metadata": {
    "collapsed": false,
    "ExecuteTime": {
     "end_time": "2024-09-28T05:13:04.878281Z",
     "start_time": "2024-09-28T05:13:04.840303Z"
    }
   },
   "id": "9744737157b960f0",
   "execution_count": 37
  },
  {
   "cell_type": "code",
   "outputs": [
    {
     "name": "stdout",
     "output_type": "stream",
     "text": [
      "\u001B[1m1113/1113\u001B[0m \u001B[32m━━━━━━━━━━━━━━━━━━━━\u001B[0m\u001B[37m\u001B[0m \u001B[1m1s\u001B[0m 977us/step\n"
     ]
    }
   ],
   "source": [
    "y = mdl1.predict(df_assess)"
   ],
   "metadata": {
    "collapsed": false,
    "ExecuteTime": {
     "end_time": "2024-09-28T05:12:51.440474Z",
     "start_time": "2024-09-28T05:12:48.736752Z"
    }
   },
   "id": "d922b88779566328",
   "execution_count": 36
  },
  {
   "cell_type": "code",
   "outputs": [],
   "source": [
    "y = pd.Series(y[:, 0])"
   ],
   "metadata": {
    "collapsed": false,
    "ExecuteTime": {
     "end_time": "2024-09-28T05:14:13.823728Z",
     "start_time": "2024-09-28T05:14:13.817735Z"
    }
   },
   "id": "c1d59b7f748c60c2",
   "execution_count": 40
  },
  {
   "cell_type": "code",
   "outputs": [],
   "source": [
    "y = y > threshold1"
   ],
   "metadata": {
    "collapsed": false,
    "ExecuteTime": {
     "end_time": "2024-09-28T05:14:33.389960Z",
     "start_time": "2024-09-28T05:14:33.379976Z"
    }
   },
   "id": "98e537f3e6f4b79d",
   "execution_count": 42
  },
  {
   "cell_type": "code",
   "outputs": [
    {
     "data": {
      "text/plain": "0     True\n1    False\n2     True\n3    False\n4     True\ndtype: bool"
     },
     "execution_count": 43,
     "metadata": {},
     "output_type": "execute_result"
    }
   ],
   "source": [
    "y.head()"
   ],
   "metadata": {
    "collapsed": false,
    "ExecuteTime": {
     "end_time": "2024-09-28T05:14:41.436195Z",
     "start_time": "2024-09-28T05:14:41.351575Z"
    }
   },
   "id": "a71b976bde44e405",
   "execution_count": 43
  },
  {
   "cell_type": "code",
   "outputs": [],
   "source": [
    "y = y.astype(int)"
   ],
   "metadata": {
    "collapsed": false,
    "ExecuteTime": {
     "end_time": "2024-09-28T05:15:26.868315Z",
     "start_time": "2024-09-28T05:15:26.852313Z"
    }
   },
   "id": "9b8abd0e252c6e7",
   "execution_count": 44
  },
  {
   "cell_type": "code",
   "outputs": [
    {
     "data": {
      "text/plain": "0    1\n1    0\n2    1\n3    0\n4    1\ndtype: int32"
     },
     "execution_count": 45,
     "metadata": {},
     "output_type": "execute_result"
    }
   ],
   "source": [
    "y.head()"
   ],
   "metadata": {
    "collapsed": false,
    "ExecuteTime": {
     "end_time": "2024-09-28T05:15:31.174191Z",
     "start_time": "2024-09-28T05:15:31.153148Z"
    }
   },
   "id": "5cbd0f2c7b5bc07e",
   "execution_count": 45
  },
  {
   "cell_type": "code",
   "outputs": [],
   "source": [
    "y_df = pd.DataFrame({\"Overall_Experience\": y})"
   ],
   "metadata": {
    "collapsed": false,
    "ExecuteTime": {
     "end_time": "2024-09-28T05:24:04.783155Z",
     "start_time": "2024-09-28T05:24:04.770162Z"
    }
   },
   "id": "1ffc14221859eebb",
   "execution_count": 52
  },
  {
   "cell_type": "code",
   "outputs": [
    {
     "data": {
      "text/plain": "   Overall_Experience\n0                   1\n1                   0\n2                   1\n3                   0\n4                   1",
      "text/html": "<div>\n<style scoped>\n    .dataframe tbody tr th:only-of-type {\n        vertical-align: middle;\n    }\n\n    .dataframe tbody tr th {\n        vertical-align: top;\n    }\n\n    .dataframe thead th {\n        text-align: right;\n    }\n</style>\n<table border=\"1\" class=\"dataframe\">\n  <thead>\n    <tr style=\"text-align: right;\">\n      <th></th>\n      <th>Overall_Experience</th>\n    </tr>\n  </thead>\n  <tbody>\n    <tr>\n      <th>0</th>\n      <td>1</td>\n    </tr>\n    <tr>\n      <th>1</th>\n      <td>0</td>\n    </tr>\n    <tr>\n      <th>2</th>\n      <td>1</td>\n    </tr>\n    <tr>\n      <th>3</th>\n      <td>0</td>\n    </tr>\n    <tr>\n      <th>4</th>\n      <td>1</td>\n    </tr>\n  </tbody>\n</table>\n</div>"
     },
     "execution_count": 53,
     "metadata": {},
     "output_type": "execute_result"
    }
   ],
   "source": [
    "y_df.head()"
   ],
   "metadata": {
    "collapsed": false,
    "ExecuteTime": {
     "end_time": "2024-09-28T05:24:05.688236Z",
     "start_time": "2024-09-28T05:24:05.664248Z"
    }
   },
   "id": "4634fc2092505c36",
   "execution_count": 53
  },
  {
   "cell_type": "code",
   "outputs": [
    {
     "data": {
      "text/plain": "         ID    Seat_Comfort Seat_Class Arrival_Time_Convenient    Catering  \\\n0  99900001      Acceptable  Green Car              Acceptable  Acceptable   \n1  99900002  Extremely Poor   Ordinary                    Good        Poor   \n2  99900003       Excellent   Ordinary               Excellent   Excellent   \n3  99900004      Acceptable  Green Car               Excellent  Acceptable   \n4  99900005       Excellent   Ordinary          Extremely Poor   Excellent   \n\n   Platform_Location Onboard_Wifi_Service Onboard_Entertainment  \\\n0         Manageable    Needs Improvement             Excellent   \n1         Manageable           Acceptable                  Poor   \n2    Very Convenient            Excellent             Excellent   \n3    Very Convenient                 Poor            Acceptable   \n4  Needs Improvement            Excellent             Excellent   \n\n  Online_Support Ease_of_Online_Booking    Onboard_Service            Legroom  \\\n0           Good              Excellent          Excellent          Excellent   \n1     Acceptable             Acceptable          Excellent         Acceptable   \n2      Excellent      Needs Improvement  Needs Improvement  Needs Improvement   \n3      Excellent                   Poor         Acceptable  Needs Improvement   \n4      Excellent              Excellent                NaN         Acceptable   \n\n    Baggage_Handling CheckIn_Service        Cleanliness Online_Boarding  \n0          Excellent            Good          Excellent            Poor  \n1               Good      Acceptable          Excellent      Acceptable  \n2  Needs Improvement            Good  Needs Improvement       Excellent  \n3          Excellent       Excellent          Excellent            Poor  \n4          Excellent       Excellent          Excellent       Excellent  ",
      "text/html": "<div>\n<style scoped>\n    .dataframe tbody tr th:only-of-type {\n        vertical-align: middle;\n    }\n\n    .dataframe tbody tr th {\n        vertical-align: top;\n    }\n\n    .dataframe thead th {\n        text-align: right;\n    }\n</style>\n<table border=\"1\" class=\"dataframe\">\n  <thead>\n    <tr style=\"text-align: right;\">\n      <th></th>\n      <th>ID</th>\n      <th>Seat_Comfort</th>\n      <th>Seat_Class</th>\n      <th>Arrival_Time_Convenient</th>\n      <th>Catering</th>\n      <th>Platform_Location</th>\n      <th>Onboard_Wifi_Service</th>\n      <th>Onboard_Entertainment</th>\n      <th>Online_Support</th>\n      <th>Ease_of_Online_Booking</th>\n      <th>Onboard_Service</th>\n      <th>Legroom</th>\n      <th>Baggage_Handling</th>\n      <th>CheckIn_Service</th>\n      <th>Cleanliness</th>\n      <th>Online_Boarding</th>\n    </tr>\n  </thead>\n  <tbody>\n    <tr>\n      <th>0</th>\n      <td>99900001</td>\n      <td>Acceptable</td>\n      <td>Green Car</td>\n      <td>Acceptable</td>\n      <td>Acceptable</td>\n      <td>Manageable</td>\n      <td>Needs Improvement</td>\n      <td>Excellent</td>\n      <td>Good</td>\n      <td>Excellent</td>\n      <td>Excellent</td>\n      <td>Excellent</td>\n      <td>Excellent</td>\n      <td>Good</td>\n      <td>Excellent</td>\n      <td>Poor</td>\n    </tr>\n    <tr>\n      <th>1</th>\n      <td>99900002</td>\n      <td>Extremely Poor</td>\n      <td>Ordinary</td>\n      <td>Good</td>\n      <td>Poor</td>\n      <td>Manageable</td>\n      <td>Acceptable</td>\n      <td>Poor</td>\n      <td>Acceptable</td>\n      <td>Acceptable</td>\n      <td>Excellent</td>\n      <td>Acceptable</td>\n      <td>Good</td>\n      <td>Acceptable</td>\n      <td>Excellent</td>\n      <td>Acceptable</td>\n    </tr>\n    <tr>\n      <th>2</th>\n      <td>99900003</td>\n      <td>Excellent</td>\n      <td>Ordinary</td>\n      <td>Excellent</td>\n      <td>Excellent</td>\n      <td>Very Convenient</td>\n      <td>Excellent</td>\n      <td>Excellent</td>\n      <td>Excellent</td>\n      <td>Needs Improvement</td>\n      <td>Needs Improvement</td>\n      <td>Needs Improvement</td>\n      <td>Needs Improvement</td>\n      <td>Good</td>\n      <td>Needs Improvement</td>\n      <td>Excellent</td>\n    </tr>\n    <tr>\n      <th>3</th>\n      <td>99900004</td>\n      <td>Acceptable</td>\n      <td>Green Car</td>\n      <td>Excellent</td>\n      <td>Acceptable</td>\n      <td>Very Convenient</td>\n      <td>Poor</td>\n      <td>Acceptable</td>\n      <td>Excellent</td>\n      <td>Poor</td>\n      <td>Acceptable</td>\n      <td>Needs Improvement</td>\n      <td>Excellent</td>\n      <td>Excellent</td>\n      <td>Excellent</td>\n      <td>Poor</td>\n    </tr>\n    <tr>\n      <th>4</th>\n      <td>99900005</td>\n      <td>Excellent</td>\n      <td>Ordinary</td>\n      <td>Extremely Poor</td>\n      <td>Excellent</td>\n      <td>Needs Improvement</td>\n      <td>Excellent</td>\n      <td>Excellent</td>\n      <td>Excellent</td>\n      <td>Excellent</td>\n      <td>NaN</td>\n      <td>Acceptable</td>\n      <td>Excellent</td>\n      <td>Excellent</td>\n      <td>Excellent</td>\n      <td>Excellent</td>\n    </tr>\n  </tbody>\n</table>\n</div>"
     },
     "execution_count": 54,
     "metadata": {},
     "output_type": "execute_result"
    }
   ],
   "source": [
    "IDs_df = pd.read_csv('Data/Surveydata_test.csv')\n",
    "\n",
    "IDs_df.head()"
   ],
   "metadata": {
    "collapsed": false,
    "ExecuteTime": {
     "end_time": "2024-09-28T05:24:10.836861Z",
     "start_time": "2024-09-28T05:24:10.709938Z"
    }
   },
   "id": "f016f38461f6cc66",
   "execution_count": 54
  },
  {
   "cell_type": "code",
   "outputs": [],
   "source": [
    "y_df[\"ID\"] = IDs_df['ID']"
   ],
   "metadata": {
    "collapsed": false,
    "ExecuteTime": {
     "end_time": "2024-09-28T05:24:14.597313Z",
     "start_time": "2024-09-28T05:24:14.592318Z"
    }
   },
   "id": "83c68817809eeb90",
   "execution_count": 55
  },
  {
   "cell_type": "code",
   "outputs": [
    {
     "data": {
      "text/plain": "   Overall_Experience        ID\n0                   1  99900001\n1                   0  99900002\n2                   1  99900003\n3                   0  99900004\n4                   1  99900005",
      "text/html": "<div>\n<style scoped>\n    .dataframe tbody tr th:only-of-type {\n        vertical-align: middle;\n    }\n\n    .dataframe tbody tr th {\n        vertical-align: top;\n    }\n\n    .dataframe thead th {\n        text-align: right;\n    }\n</style>\n<table border=\"1\" class=\"dataframe\">\n  <thead>\n    <tr style=\"text-align: right;\">\n      <th></th>\n      <th>Overall_Experience</th>\n      <th>ID</th>\n    </tr>\n  </thead>\n  <tbody>\n    <tr>\n      <th>0</th>\n      <td>1</td>\n      <td>99900001</td>\n    </tr>\n    <tr>\n      <th>1</th>\n      <td>0</td>\n      <td>99900002</td>\n    </tr>\n    <tr>\n      <th>2</th>\n      <td>1</td>\n      <td>99900003</td>\n    </tr>\n    <tr>\n      <th>3</th>\n      <td>0</td>\n      <td>99900004</td>\n    </tr>\n    <tr>\n      <th>4</th>\n      <td>1</td>\n      <td>99900005</td>\n    </tr>\n  </tbody>\n</table>\n</div>"
     },
     "execution_count": 56,
     "metadata": {},
     "output_type": "execute_result"
    }
   ],
   "source": [
    "y_df.head()"
   ],
   "metadata": {
    "collapsed": false,
    "ExecuteTime": {
     "end_time": "2024-09-28T05:24:15.447002Z",
     "start_time": "2024-09-28T05:24:15.428003Z"
    }
   },
   "id": "e5cf4b56b3854dd1",
   "execution_count": 56
  },
  {
   "cell_type": "code",
   "outputs": [
    {
     "data": {
      "text/plain": "         ID  Overall_Experience\n0  99900001                   1\n1  99900002                   0\n2  99900003                   1\n3  99900004                   0\n4  99900005                   1",
      "text/html": "<div>\n<style scoped>\n    .dataframe tbody tr th:only-of-type {\n        vertical-align: middle;\n    }\n\n    .dataframe tbody tr th {\n        vertical-align: top;\n    }\n\n    .dataframe thead th {\n        text-align: right;\n    }\n</style>\n<table border=\"1\" class=\"dataframe\">\n  <thead>\n    <tr style=\"text-align: right;\">\n      <th></th>\n      <th>ID</th>\n      <th>Overall_Experience</th>\n    </tr>\n  </thead>\n  <tbody>\n    <tr>\n      <th>0</th>\n      <td>99900001</td>\n      <td>1</td>\n    </tr>\n    <tr>\n      <th>1</th>\n      <td>99900002</td>\n      <td>0</td>\n    </tr>\n    <tr>\n      <th>2</th>\n      <td>99900003</td>\n      <td>1</td>\n    </tr>\n    <tr>\n      <th>3</th>\n      <td>99900004</td>\n      <td>0</td>\n    </tr>\n    <tr>\n      <th>4</th>\n      <td>99900005</td>\n      <td>1</td>\n    </tr>\n  </tbody>\n</table>\n</div>"
     },
     "execution_count": 58,
     "metadata": {},
     "output_type": "execute_result"
    }
   ],
   "source": [
    "y_df = y_df[['ID', 'Overall_Experience']]\n",
    "\n",
    "y_df.head()"
   ],
   "metadata": {
    "collapsed": false,
    "ExecuteTime": {
     "end_time": "2024-09-28T05:24:24.129342Z",
     "start_time": "2024-09-28T05:24:24.112346Z"
    }
   },
   "id": "93ae3d8a249fa440",
   "execution_count": 58
  },
  {
   "cell_type": "code",
   "outputs": [],
   "source": [
    "y_df.to_csv('Predictions/NN_mdl1.csv', index=False)"
   ],
   "metadata": {
    "collapsed": false,
    "ExecuteTime": {
     "end_time": "2024-09-28T05:25:05.003777Z",
     "start_time": "2024-09-28T05:25:04.949807Z"
    }
   },
   "id": "3eecaf96a3a2889",
   "execution_count": 59
  },
  {
   "cell_type": "code",
   "outputs": [],
   "source": [],
   "metadata": {
    "collapsed": false
   },
   "id": "c291e5e6d76ffc66"
  }
 ],
 "metadata": {
  "kernelspec": {
   "display_name": "Python 3",
   "language": "python",
   "name": "python3"
  },
  "language_info": {
   "codemirror_mode": {
    "name": "ipython",
    "version": 2
   },
   "file_extension": ".py",
   "mimetype": "text/x-python",
   "name": "python",
   "nbconvert_exporter": "python",
   "pygments_lexer": "ipython2",
   "version": "2.7.6"
  }
 },
 "nbformat": 4,
 "nbformat_minor": 5
}
